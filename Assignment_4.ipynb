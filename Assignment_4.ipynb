{
 "cells": [
  {
   "cell_type": "markdown",
   "id": "laughing-locator",
   "metadata": {},
   "source": [
    "#  Clustering Safety Observations based on Root Causes"
   ]
  },
  {
   "cell_type": "markdown",
   "id": "banned-actress",
   "metadata": {},
   "source": [
    "## Clustering Safety Observations using Natural Language Learning Process to identify root causes."
   ]
  },
  {
   "cell_type": "code",
   "execution_count": 1,
   "id": "angry-mercy",
   "metadata": {},
   "outputs": [],
   "source": [
    "# importing necessary modules\n",
    "\n",
    "import pandas as pd\n",
    "import numpy as np\n",
    "import matplotlib.pyplot as plt\n",
    "import seaborn as sns\n",
    "import pickle as pkl\n",
    "%matplotlib inline"
   ]
  },
  {
   "cell_type": "markdown",
   "id": "executive-playback",
   "metadata": {},
   "source": [
    "## 1. Importing Data\n",
    "\n",
    "The data which I am using here is a dump from the Safety Observation System of a Major Company. The each row of data consists of the observation description along with pre-selected category and root cause (Classes). These labelings have been done manually. Thus, we aleady have labels in our dataset.\n",
    "\n",
    "The objective of this program would be to develop a Machine Learning Model which would be able to cluster the EHS Observations based on the historical data and return the optimal numbers of clusters which we will use to guide or further correct our manual labeling process.\n",
    "\n",
    "By implication this exercise is an Natural Language Processing Exercise, as we will be extracting features from text (Observation Description) and using those for training our clustering model."
   ]
  },
  {
   "cell_type": "markdown",
   "id": "romantic-scheme",
   "metadata": {},
   "source": [
    "The overall plan includes\n",
    "\n",
    "1. Cleaning the data by removing stops and performing EDA.\n",
    "2. Feature extraction to arrive on most important features.\n",
    "3. Feature selection and dimension reduction using Non-Negative Matrix Factorization.\n",
    "3. Training our different models and measure the performance using pre-identified class labels\n",
    "4. Evaluation of Models and selection of best model.\n",
    "5. Summary and Future action."
   ]
  },
  {
   "cell_type": "code",
   "execution_count": 2,
   "id": "activated-university",
   "metadata": {},
   "outputs": [
    {
     "name": "stderr",
     "output_type": "stream",
     "text": [
      "c:\\users\\aa-minhaj\\sklearn-venv\\lib\\site-packages\\IPython\\core\\interactiveshell.py:3155: DtypeWarning: Columns (0,1,2) have mixed types.Specify dtype option on import or set low_memory=False.\n",
      "  has_raised = await self.run_ast_nodes(code_ast.body, cell_name,\n"
     ]
    },
    {
     "data": {
      "text/html": [
       "<div>\n",
       "<style scoped>\n",
       "    .dataframe tbody tr th:only-of-type {\n",
       "        vertical-align: middle;\n",
       "    }\n",
       "\n",
       "    .dataframe tbody tr th {\n",
       "        vertical-align: top;\n",
       "    }\n",
       "\n",
       "    .dataframe thead th {\n",
       "        text-align: right;\n",
       "    }\n",
       "</style>\n",
       "<table border=\"1\" class=\"dataframe\">\n",
       "  <thead>\n",
       "    <tr style=\"text-align: right;\">\n",
       "      <th></th>\n",
       "      <th>UA/UC</th>\n",
       "      <th>Observation</th>\n",
       "      <th>Sub-Category</th>\n",
       "    </tr>\n",
       "  </thead>\n",
       "  <tbody>\n",
       "    <tr>\n",
       "      <th>0</th>\n",
       "      <td>Electrically Unsafe (Safety Hazard)</td>\n",
       "      <td>worker used drilling machine without green tag.</td>\n",
       "      <td>NaN</td>\n",
       "    </tr>\n",
       "    <tr>\n",
       "      <th>1</th>\n",
       "      <td>Electrically Unsafe (Safety Hazard)</td>\n",
       "      <td>Worker used a plug top for multiple  electrica...</td>\n",
       "      <td>No Plug top</td>\n",
       "    </tr>\n",
       "    <tr>\n",
       "      <th>2</th>\n",
       "      <td>Electrically Unsafe (Safety Hazard)</td>\n",
       "      <td>worker use drilling machine at site without gr...</td>\n",
       "      <td>NaN</td>\n",
       "    </tr>\n",
       "    <tr>\n",
       "      <th>3</th>\n",
       "      <td>Electrically Unsafe (Safety Hazard)</td>\n",
       "      <td>Site supervisor is not available at site whi...</td>\n",
       "      <td>NaN</td>\n",
       "    </tr>\n",
       "    <tr>\n",
       "      <th>4</th>\n",
       "      <td>Electrically Unsafe (Safety Hazard)</td>\n",
       "      <td>worker use electric grinder without green tag.</td>\n",
       "      <td>No Inspection Done</td>\n",
       "    </tr>\n",
       "  </tbody>\n",
       "</table>\n",
       "</div>"
      ],
      "text/plain": [
       "                                 UA/UC  \\\n",
       "0  Electrically Unsafe (Safety Hazard)   \n",
       "1  Electrically Unsafe (Safety Hazard)   \n",
       "2  Electrically Unsafe (Safety Hazard)   \n",
       "3  Electrically Unsafe (Safety Hazard)   \n",
       "4  Electrically Unsafe (Safety Hazard)   \n",
       "\n",
       "                                         Observation  \\\n",
       "0    worker used drilling machine without green tag.   \n",
       "1  Worker used a plug top for multiple  electrica...   \n",
       "2  worker use drilling machine at site without gr...   \n",
       "3    Site supervisor is not available at site whi...   \n",
       "4     worker use electric grinder without green tag.   \n",
       "\n",
       "                                Sub-Category  \n",
       "0                                        NaN  \n",
       "1   No Plug top                               \n",
       "2                                        NaN  \n",
       "3                                        NaN  \n",
       "4                         No Inspection Done  "
      ]
     },
     "execution_count": 2,
     "metadata": {},
     "output_type": "execute_result"
    }
   ],
   "source": [
    "# let us import the data\n",
    "df_obs = pd.read_csv('ehs_obs_data.csv')\n",
    "df_obs.head()"
   ]
  },
  {
   "cell_type": "code",
   "execution_count": 3,
   "id": "integral-orchestra",
   "metadata": {},
   "outputs": [
    {
     "name": "stdout",
     "output_type": "stream",
     "text": [
      "The number of columns in the dataset is 3 and the no of rows is 1028493\n"
     ]
    }
   ],
   "source": [
    "#Let us check the no of columns and rows\n",
    "\n",
    "print(f'The number of columns in the dataset is {df_obs.shape[1]} and the no of rows is {df_obs.shape[0]}')"
   ]
  },
  {
   "cell_type": "markdown",
   "id": "identical-tenant",
   "metadata": {},
   "source": [
    "The target variable here will be 'Sub-Category' and the input variable will be 'Observation'"
   ]
  },
  {
   "cell_type": "markdown",
   "id": "plastic-present",
   "metadata": {},
   "source": [
    "## 2. Data Cleaning and Wrangling"
   ]
  },
  {
   "cell_type": "markdown",
   "id": "precise-fundamentals",
   "metadata": {},
   "source": [
    "In this step we will try to \n",
    "\n",
    "1. Bring all words on same case (lower case).\n",
    "2. Detect the missing values and treat them accordingly.\n",
    "3. Drop various Stop words which don't add any information to the model."
   ]
  },
  {
   "cell_type": "code",
   "execution_count": 4,
   "id": "ready-heading",
   "metadata": {},
   "outputs": [],
   "source": [
    "#Let us first bring in all the required modules\n",
    "\n",
    "from sklearn.feature_extraction.text import TfidfVectorizer\n",
    "from sklearn.preprocessing import LabelEncoder\n",
    "from nltk.corpus import stopwords\n",
    "from nltk.stem import WordNetLemmatizer\n",
    "from collections import Counter"
   ]
  },
  {
   "cell_type": "code",
   "execution_count": 5,
   "id": "sixth-allocation",
   "metadata": {},
   "outputs": [],
   "source": [
    "#lets first drop the 'UA/UC' Column which is not required for this exercise.\n",
    "\n",
    "df_obs.drop('UA/UC', axis = 1, inplace = True)"
   ]
  },
  {
   "cell_type": "code",
   "execution_count": 6,
   "id": "opponent-cargo",
   "metadata": {},
   "outputs": [
    {
     "data": {
      "text/html": [
       "<div>\n",
       "<style scoped>\n",
       "    .dataframe tbody tr th:only-of-type {\n",
       "        vertical-align: middle;\n",
       "    }\n",
       "\n",
       "    .dataframe tbody tr th {\n",
       "        vertical-align: top;\n",
       "    }\n",
       "\n",
       "    .dataframe thead th {\n",
       "        text-align: right;\n",
       "    }\n",
       "</style>\n",
       "<table border=\"1\" class=\"dataframe\">\n",
       "  <thead>\n",
       "    <tr style=\"text-align: right;\">\n",
       "      <th></th>\n",
       "      <th>Observation</th>\n",
       "      <th>Sub-Category</th>\n",
       "    </tr>\n",
       "  </thead>\n",
       "  <tbody>\n",
       "    <tr>\n",
       "      <th>0</th>\n",
       "      <td>worker used drilling machine without green tag.</td>\n",
       "      <td>NaN</td>\n",
       "    </tr>\n",
       "    <tr>\n",
       "      <th>1</th>\n",
       "      <td>Worker used a plug top for multiple  electrica...</td>\n",
       "      <td>No Plug top</td>\n",
       "    </tr>\n",
       "    <tr>\n",
       "      <th>2</th>\n",
       "      <td>worker use drilling machine at site without gr...</td>\n",
       "      <td>NaN</td>\n",
       "    </tr>\n",
       "    <tr>\n",
       "      <th>3</th>\n",
       "      <td>Site supervisor is not available at site whi...</td>\n",
       "      <td>NaN</td>\n",
       "    </tr>\n",
       "    <tr>\n",
       "      <th>4</th>\n",
       "      <td>worker use electric grinder without green tag.</td>\n",
       "      <td>No Inspection Done</td>\n",
       "    </tr>\n",
       "  </tbody>\n",
       "</table>\n",
       "</div>"
      ],
      "text/plain": [
       "                                         Observation  \\\n",
       "0    worker used drilling machine without green tag.   \n",
       "1  Worker used a plug top for multiple  electrica...   \n",
       "2  worker use drilling machine at site without gr...   \n",
       "3    Site supervisor is not available at site whi...   \n",
       "4     worker use electric grinder without green tag.   \n",
       "\n",
       "                                Sub-Category  \n",
       "0                                        NaN  \n",
       "1   No Plug top                               \n",
       "2                                        NaN  \n",
       "3                                        NaN  \n",
       "4                         No Inspection Done  "
      ]
     },
     "execution_count": 6,
     "metadata": {},
     "output_type": "execute_result"
    }
   ],
   "source": [
    "df_obs.head()"
   ]
  },
  {
   "cell_type": "code",
   "execution_count": 7,
   "id": "acceptable-finger",
   "metadata": {},
   "outputs": [
    {
     "data": {
      "text/plain": [
       "Observation     961881\n",
       "Sub-Category    996100\n",
       "dtype: int64"
      ]
     },
     "execution_count": 7,
     "metadata": {},
     "output_type": "execute_result"
    }
   ],
   "source": [
    "# Lets check the missing values\n",
    "\n",
    "df_obs.isnull().sum()"
   ]
  },
  {
   "cell_type": "markdown",
   "id": "bulgarian-graham",
   "metadata": {},
   "source": [
    "Looks like we have lots of blank rows. However, this may be due to faulty data extraction process and we can easily drop these without losing any meaningful information."
   ]
  },
  {
   "cell_type": "code",
   "execution_count": 8,
   "id": "premier-qualification",
   "metadata": {},
   "outputs": [],
   "source": [
    "# dropping values\n",
    "df_obs.dropna(subset = ['Observation'], axis = 0, inplace = True)"
   ]
  },
  {
   "cell_type": "code",
   "execution_count": 9,
   "id": "comic-organic",
   "metadata": {},
   "outputs": [
    {
     "data": {
      "text/plain": [
       "(66612,\n",
       " Observation         0\n",
       " Sub-Category    34219\n",
       " dtype: int64)"
      ]
     },
     "execution_count": 9,
     "metadata": {},
     "output_type": "execute_result"
    }
   ],
   "source": [
    "# Lets check how many values are missing in target variable after dropping missing feature rows\n",
    "df_obs.shape[0], df_obs.isnull().sum()"
   ]
  },
  {
   "cell_type": "markdown",
   "id": "basic-retention",
   "metadata": {},
   "source": [
    "We can see that we missing lables for almost half of the data. Now this leaves a lot of room for improvement in data collection and labelling process. Unfortunately, we have to leave out all these rows from our modelling."
   ]
  },
  {
   "cell_type": "code",
   "execution_count": 10,
   "id": "considerable-civilization",
   "metadata": {},
   "outputs": [
    {
     "data": {
      "text/plain": [
       "(32393,\n",
       " Observation     0\n",
       " Sub-Category    0\n",
       " dtype: int64)"
      ]
     },
     "execution_count": 10,
     "metadata": {},
     "output_type": "execute_result"
    }
   ],
   "source": [
    "#droping values\n",
    "df_obs.dropna(subset = ['Sub-Category'], axis = 0, inplace = True)\n",
    "df_obs.shape[0], df_obs.isnull().sum()"
   ]
  },
  {
   "cell_type": "markdown",
   "id": "inner-capability",
   "metadata": {},
   "source": [
    "So, in the end we are now left with 32,393 Nos of individual observations"
   ]
  },
  {
   "cell_type": "code",
   "execution_count": 11,
   "id": "sophisticated-suite",
   "metadata": {},
   "outputs": [
    {
     "data": {
      "text/plain": [
       "6806"
      ]
     },
     "execution_count": 11,
     "metadata": {},
     "output_type": "execute_result"
    }
   ],
   "source": [
    "# Lets check for the duplicates in the observation column\n",
    "\n",
    "df_obs.duplicated(subset = ['Observation'], keep = 'first').sum()"
   ]
  },
  {
   "cell_type": "markdown",
   "id": "nuclear-korean",
   "metadata": {},
   "source": [
    "Looks like we have quite a few number of duplicated observation data. It would be better to drop these duplicate columns to avoid any bias in our modelling."
   ]
  },
  {
   "cell_type": "code",
   "execution_count": 12,
   "id": "experimental-beverage",
   "metadata": {},
   "outputs": [],
   "source": [
    "df_obs.drop_duplicates(subset = 'Observation', keep = 'first', ignore_index = True, inplace = True)"
   ]
  },
  {
   "cell_type": "code",
   "execution_count": 13,
   "id": "naughty-hampton",
   "metadata": {},
   "outputs": [
    {
     "name": "stdout",
     "output_type": "stream",
     "text": [
      "The number of columns in the dataset is 2 and the no of rows is 25587\n"
     ]
    }
   ],
   "source": [
    "# final size of the dataframe\n",
    "print(f'The number of columns in the dataset is {df_obs.shape[1]} and the no of rows is {df_obs.shape[0]}')"
   ]
  },
  {
   "cell_type": "markdown",
   "id": "buried-black",
   "metadata": {},
   "source": [
    "## Data Cleaning and Wrangling - Summary\n",
    "\n",
    "* We dropped the null values and duplicated observations to reduce the dimensions of the data\n",
    "* This also ensures that we avoid assigining higher weightage to certain duplicated observations at the time of feature extraction.\n",
    "* We also dropped UA/UC columns as we want to explore this dataset purely from NLP perspective."
   ]
  },
  {
   "cell_type": "markdown",
   "id": "composed-projector",
   "metadata": {},
   "source": [
    "## 3. Exploratory Data Analysis and Feature Extraction"
   ]
  },
  {
   "cell_type": "markdown",
   "id": "changing-terrace",
   "metadata": {},
   "source": [
    "In this step, we will\n",
    "\n",
    "1. Remove punctuation marks and anyother extra space.\n",
    "2. Lemmatize all the words so that different words stemming from same root word are not counted as separate features.\n",
    "3. Extract features from our observation text using tfidf method.\n",
    "4. Perform Dimensionality Reduction using NMF"
   ]
  },
  {
   "cell_type": "markdown",
   "id": "unnecessary-identification",
   "metadata": {},
   "source": [
    "First we will remove the punctuation marks and extra spaces in the string"
   ]
  },
  {
   "cell_type": "code",
   "execution_count": 14,
   "id": "single-rings",
   "metadata": {},
   "outputs": [],
   "source": [
    "numbers = map(str, list(range(0, 100)))\n",
    "for num in numbers:\n",
    "    df_obs.Observation =  df_obs.Observation.str.replace(num, ' ', regex = False)\n",
    "special_charecters = ['?', '#', '-', \"'\", '&', '/', '.', ',', '(', ')', ':',';']\n",
    "for char in special_charecters:\n",
    "     df_obs.Observation =  df_obs.Observation.str.replace(char, ' ', regex = False)"
   ]
  },
  {
   "cell_type": "code",
   "execution_count": 15,
   "id": "surgical-penalty",
   "metadata": {},
   "outputs": [],
   "source": [
    "df_obs.Observation = df_obs.Observation.apply(lambda x: \" \".join(x.split()))\n",
    "df_obs.Observation = df_obs.Observation.str.strip()"
   ]
  },
  {
   "cell_type": "markdown",
   "id": "thorough-robert",
   "metadata": {},
   "source": [
    "Lets lemmatize our observation text for better results. \n",
    "\n",
    "Lemmatization is the process of grouping together the different inflected forms of a word so they can be analysed as a single item. Lemmatization is similar to stemming but it brings context to the words. So it links words with similar meaning to one word.\n",
    "\n",
    "Text preprocessing includes both Stemming as well as Lemmatization. Many times people find these two terms confusing. Some treat these two as same. Actually, lemmatization is preferred over Stemming because lemmatization does morphological analysis of the words."
   ]
  },
  {
   "cell_type": "markdown",
   "id": "taken-developer",
   "metadata": {},
   "source": [
    "We will use WordNetLemmatizer from NTLK library for this purpose"
   ]
  },
  {
   "cell_type": "code",
   "execution_count": 16,
   "id": "confident-documentation",
   "metadata": {},
   "outputs": [],
   "source": [
    "wordlemmatize = WordNetLemmatizer()"
   ]
  },
  {
   "cell_type": "code",
   "execution_count": 17,
   "id": "political-correlation",
   "metadata": {},
   "outputs": [],
   "source": [
    "def lemmatize_text(word_list):\n",
    "    lem_word_list = [wordlemmatize.lemmatize(word, pos = 'v') for word in word_list.split()]\n",
    "    new_lem_word_list = [wordlemmatize.lemmatize(word) for word in lem_word_list]\n",
    "    return \" \".join(new_lem_word_list)"
   ]
  },
  {
   "cell_type": "code",
   "execution_count": 18,
   "id": "threaded-velvet",
   "metadata": {},
   "outputs": [],
   "source": [
    "df_obs.Observation = df_obs.Observation.apply(lemmatize_text)"
   ]
  },
  {
   "cell_type": "code",
   "execution_count": 19,
   "id": "digital-level",
   "metadata": {},
   "outputs": [
    {
     "data": {
      "text/html": [
       "<div>\n",
       "<style scoped>\n",
       "    .dataframe tbody tr th:only-of-type {\n",
       "        vertical-align: middle;\n",
       "    }\n",
       "\n",
       "    .dataframe tbody tr th {\n",
       "        vertical-align: top;\n",
       "    }\n",
       "\n",
       "    .dataframe thead th {\n",
       "        text-align: right;\n",
       "    }\n",
       "</style>\n",
       "<table border=\"1\" class=\"dataframe\">\n",
       "  <thead>\n",
       "    <tr style=\"text-align: right;\">\n",
       "      <th></th>\n",
       "      <th>Observation</th>\n",
       "      <th>Sub-Category</th>\n",
       "    </tr>\n",
       "  </thead>\n",
       "  <tbody>\n",
       "    <tr>\n",
       "      <th>14301</th>\n",
       "      <td>At shirur HDPE pipe line observe that unscreen...</td>\n",
       "      <td>Workmen engaged without screening/ Induction</td>\n",
       "    </tr>\n",
       "    <tr>\n",
       "      <th>1680</th>\n",
       "      <td>Electrical cable be find lay in work area at site</td>\n",
       "      <td>Cable issues(Routing, Sub-standard etc)</td>\n",
       "    </tr>\n",
       "    <tr>\n",
       "      <th>18925</th>\n",
       "      <td>Electrical cable have be lay in access egreess...</td>\n",
       "      <td>Cable/Wire run across accessway</td>\n",
       "    </tr>\n",
       "    <tr>\n",
       "      <th>18960</th>\n",
       "      <td>approach to sump well be block by reinforcemen...</td>\n",
       "      <td>Unsafe/ Blocked Access &amp; Egress</td>\n",
       "    </tr>\n",
       "    <tr>\n",
       "      <th>9360</th>\n",
       "      <td>At bhukanhatti oht observe that the water sump...</td>\n",
       "      <td>Openings not covered/ barricaded</td>\n",
       "    </tr>\n",
       "    <tr>\n",
       "      <th>9656</th>\n",
       "      <td>Hard barricade be do from inside of excavation...</td>\n",
       "      <td>No Hard Barricading</td>\n",
       "    </tr>\n",
       "    <tr>\n",
       "      <th>9879</th>\n",
       "      <td>Mr umesh workman have not be complete inductio...</td>\n",
       "      <td>Workmen engaged without screening/ Induction</td>\n",
       "    </tr>\n",
       "    <tr>\n",
       "      <th>15420</th>\n",
       "      <td>supervisor naresh be find without screen and m...</td>\n",
       "      <td>Workmen engaged without screening/ Induction</td>\n",
       "    </tr>\n",
       "    <tr>\n",
       "      <th>12221</th>\n",
       "      <td>Worker do manhole excavation work without use ...</td>\n",
       "      <td>No/ Improper/ Inadequate Shoring</td>\n",
       "    </tr>\n",
       "    <tr>\n",
       "      <th>23791</th>\n",
       "      <td>MISSING EDGE PROTEC TION AT SLAB</td>\n",
       "      <td>Hand/Mid rails not provided</td>\n",
       "    </tr>\n",
       "  </tbody>\n",
       "</table>\n",
       "</div>"
      ],
      "text/plain": [
       "                                             Observation  \\\n",
       "14301  At shirur HDPE pipe line observe that unscreen...   \n",
       "1680   Electrical cable be find lay in work area at site   \n",
       "18925  Electrical cable have be lay in access egreess...   \n",
       "18960  approach to sump well be block by reinforcemen...   \n",
       "9360   At bhukanhatti oht observe that the water sump...   \n",
       "9656   Hard barricade be do from inside of excavation...   \n",
       "9879   Mr umesh workman have not be complete inductio...   \n",
       "15420  supervisor naresh be find without screen and m...   \n",
       "12221  Worker do manhole excavation work without use ...   \n",
       "23791                   MISSING EDGE PROTEC TION AT SLAB   \n",
       "\n",
       "                                       Sub-Category  \n",
       "14301  Workmen engaged without screening/ Induction  \n",
       "1680        Cable issues(Routing, Sub-standard etc)  \n",
       "18925               Cable/Wire run across accessway  \n",
       "18960               Unsafe/ Blocked Access & Egress  \n",
       "9360               Openings not covered/ barricaded  \n",
       "9656                            No Hard Barricading  \n",
       "9879   Workmen engaged without screening/ Induction  \n",
       "15420  Workmen engaged without screening/ Induction  \n",
       "12221              No/ Improper/ Inadequate Shoring  \n",
       "23791                   Hand/Mid rails not provided  "
      ]
     },
     "execution_count": 19,
     "metadata": {},
     "output_type": "execute_result"
    }
   ],
   "source": [
    "#Lets check our cleaned dataframe\n",
    "\n",
    "df_obs.sample(10)"
   ]
  },
  {
   "cell_type": "markdown",
   "id": "persistent-lyric",
   "metadata": {},
   "source": [
    "If you watch closely lemmatization has taken affect on many words for ex- against index 7778 the word 'been' has been stemmed to 'be', the word 'kept' has been changed back to 'keep' at 7656. In reality, these words would have been extracted as separate features thereby increasing the overall feature dimension"
   ]
  },
  {
   "cell_type": "code",
   "execution_count": 20,
   "id": "absent-punishment",
   "metadata": {},
   "outputs": [
    {
     "data": {
      "image/png": "[encoded data removed]",
      "text/plain": [
       "<Figure size 432x288 with 1 Axes>"
      ]
     },
     "metadata": {
      "needs_background": "light"
     },
     "output_type": "display_data"
    }
   ],
   "source": [
    "plt.hist(df_obs['Sub-Category'].value_counts(normalize = True), bins = 25,);"
   ]
  },
  {
   "cell_type": "markdown",
   "id": "sacred-bishop",
   "metadata": {},
   "source": [
    "This shows that our classes have quite severe imbalance. However, we are not going to use these labels for clustering, but we will use them to validate our results. Also, this gives an idea about what should be No. of Components that we should be targeting during the Non-Negative Matrix Factorization"
   ]
  },
  {
   "cell_type": "markdown",
   "id": "natural-norwegian",
   "metadata": {},
   "source": [
    "Next and probably most important step for modelling is to extract features from text data. Now there are many methods to acheive this objective but the most important from all is Term Frequency and Inverse Document Frequnecy Method."
   ]
  },
  {
   "cell_type": "markdown",
   "id": "southwest-nothing",
   "metadata": {},
   "source": [
    "In information retrieval, tf–idf, TF*IDF, or TFIDF, short for term frequency–inverse document frequency, is a numerical statistic that is intended to reflect how important a word is to a document in a collection or corpus. It is often used as a weighting factor in searches of information retrieval, text mining, and user modeling. The tf–idf value increases proportionally to the number of times a word appears in the document and is offset by the number of documents in the corpus that contain the word, which helps to adjust for the fact that some words appear more frequently in general. tf–idf is one of the most popular term-weighting schemes today."
   ]
  },
  {
   "cell_type": "markdown",
   "id": "artistic-depth",
   "metadata": {},
   "source": [
    "Another important term that you will come across would be N-grams. In the fields of computational linguistics and probability, an n-gram is a contiguous sequence of n items from a given sample of text or speech. The items can be phonemes, syllables, letters, words or base pairs according to the application. The n-grams typically are collected from a text or speech corpus. When the items are words, n-grams may also be called shingles.\n",
    "\n",
    "Using Latin numerical prefixes, an n-gram of size 1 is referred to as a \"unigram\"; size 2 is a \"bigram\" (or, less commonly, a \"digram\"); size 3 is a \"trigram\".\n",
    "\n",
    "For example a feature - 'Safety' is unigram whereas a feature 'Safety Helmet' would be bigram "
   ]
  },
  {
   "cell_type": "code",
   "execution_count": 21,
   "id": "collected-wings",
   "metadata": {},
   "outputs": [],
   "source": [
    "# So lets instantiate our tfidfvectorizer by setting feature output for both unigrams and bigrams and Stop words from English\n",
    "tfidf = TfidfVectorizer(ngram_range = (1,2),\n",
    "                        stop_words = 'english',\n",
    "                        min_df = 10,\n",
    "                       )"
   ]
  },
  {
   "cell_type": "markdown",
   "id": "inclusive-nevada",
   "metadata": {},
   "source": [
    "The words which are generally filtered out before processing a natural language are called stop words. These are actually the most common words in any language (like articles, prepositions, pronouns, conjunctions, etc) and does not add much information to the text. Also, I have set min_df = 10, which means words that occurred in too few documents, in this case less than 10, should be filtered out."
   ]
  },
  {
   "cell_type": "markdown",
   "id": "opened-queensland",
   "metadata": {},
   "source": [
    "I would higly recommend the reader to go through sklearn's working with text data resources. https://scikit-learn.org/stable/tutorial/text_analytics/working_with_text_data.html"
   ]
  },
  {
   "cell_type": "markdown",
   "id": "lightweight-matthew",
   "metadata": {},
   "source": [
    "There is no requirement to split our data into training and test sets, as we can validate our results using the pre-defined root causes that we already have in the dataset. So, let's seperate the labels from the text data."
   ]
  },
  {
   "cell_type": "code",
   "execution_count": 22,
   "id": "preceding-apache",
   "metadata": {},
   "outputs": [],
   "source": [
    "X, y = df_obs.Observation, df_obs['Sub-Category']"
   ]
  },
  {
   "cell_type": "code",
   "execution_count": 23,
   "id": "radio-synthetic",
   "metadata": {},
   "outputs": [
    {
     "name": "stdout",
     "output_type": "stream",
     "text": [
      "The feature matrix contains 25587 observations with 3521 features\n"
     ]
    }
   ],
   "source": [
    "features = tfidf.fit_transform(X).toarray()\n",
    "\n",
    "print(f'The feature matrix contains {features.shape[0]} observations with {features.shape[1]} features')"
   ]
  },
  {
   "cell_type": "code",
   "execution_count": 24,
   "id": "outdoor-concentration",
   "metadata": {},
   "outputs": [
    {
     "data": {
      "text/html": [
       "<div>\n",
       "<style scoped>\n",
       "    .dataframe tbody tr th:only-of-type {\n",
       "        vertical-align: middle;\n",
       "    }\n",
       "\n",
       "    .dataframe tbody tr th {\n",
       "        vertical-align: top;\n",
       "    }\n",
       "\n",
       "    .dataframe thead th {\n",
       "        text-align: right;\n",
       "    }\n",
       "</style>\n",
       "<table border=\"1\" class=\"dataframe\">\n",
       "  <thead>\n",
       "    <tr style=\"text-align: right;\">\n",
       "      <th></th>\n",
       "      <th>aaa</th>\n",
       "      <th>absence</th>\n",
       "      <th>absences</th>\n",
       "      <th>access</th>\n",
       "      <th>access agree</th>\n",
       "      <th>access approach</th>\n",
       "      <th>access area</th>\n",
       "      <th>access arrangement</th>\n",
       "      <th>access available</th>\n",
       "      <th>access block</th>\n",
       "      <th>...</th>\n",
       "      <th>xi</th>\n",
       "      <th>xi im</th>\n",
       "      <th>yadav</th>\n",
       "      <th>yadav engage</th>\n",
       "      <th>yard</th>\n",
       "      <th>yard area</th>\n",
       "      <th>zone</th>\n",
       "      <th>zone area</th>\n",
       "      <th>zone duct</th>\n",
       "      <th>zone site</th>\n",
       "    </tr>\n",
       "  </thead>\n",
       "  <tbody>\n",
       "    <tr>\n",
       "      <th>0</th>\n",
       "      <td>0.0</td>\n",
       "      <td>0.0</td>\n",
       "      <td>0.0</td>\n",
       "      <td>0.0</td>\n",
       "      <td>0.0</td>\n",
       "      <td>0.0</td>\n",
       "      <td>0.0</td>\n",
       "      <td>0.0</td>\n",
       "      <td>0.0</td>\n",
       "      <td>0.0</td>\n",
       "      <td>...</td>\n",
       "      <td>0.0</td>\n",
       "      <td>0.0</td>\n",
       "      <td>0.0</td>\n",
       "      <td>0.0</td>\n",
       "      <td>0.0</td>\n",
       "      <td>0.0</td>\n",
       "      <td>0.0</td>\n",
       "      <td>0.0</td>\n",
       "      <td>0.0</td>\n",
       "      <td>0.0</td>\n",
       "    </tr>\n",
       "    <tr>\n",
       "      <th>1</th>\n",
       "      <td>0.0</td>\n",
       "      <td>0.0</td>\n",
       "      <td>0.0</td>\n",
       "      <td>0.0</td>\n",
       "      <td>0.0</td>\n",
       "      <td>0.0</td>\n",
       "      <td>0.0</td>\n",
       "      <td>0.0</td>\n",
       "      <td>0.0</td>\n",
       "      <td>0.0</td>\n",
       "      <td>...</td>\n",
       "      <td>0.0</td>\n",
       "      <td>0.0</td>\n",
       "      <td>0.0</td>\n",
       "      <td>0.0</td>\n",
       "      <td>0.0</td>\n",
       "      <td>0.0</td>\n",
       "      <td>0.0</td>\n",
       "      <td>0.0</td>\n",
       "      <td>0.0</td>\n",
       "      <td>0.0</td>\n",
       "    </tr>\n",
       "    <tr>\n",
       "      <th>2</th>\n",
       "      <td>0.0</td>\n",
       "      <td>0.0</td>\n",
       "      <td>0.0</td>\n",
       "      <td>0.0</td>\n",
       "      <td>0.0</td>\n",
       "      <td>0.0</td>\n",
       "      <td>0.0</td>\n",
       "      <td>0.0</td>\n",
       "      <td>0.0</td>\n",
       "      <td>0.0</td>\n",
       "      <td>...</td>\n",
       "      <td>0.0</td>\n",
       "      <td>0.0</td>\n",
       "      <td>0.0</td>\n",
       "      <td>0.0</td>\n",
       "      <td>0.0</td>\n",
       "      <td>0.0</td>\n",
       "      <td>0.0</td>\n",
       "      <td>0.0</td>\n",
       "      <td>0.0</td>\n",
       "      <td>0.0</td>\n",
       "    </tr>\n",
       "    <tr>\n",
       "      <th>3</th>\n",
       "      <td>0.0</td>\n",
       "      <td>0.0</td>\n",
       "      <td>0.0</td>\n",
       "      <td>0.0</td>\n",
       "      <td>0.0</td>\n",
       "      <td>0.0</td>\n",
       "      <td>0.0</td>\n",
       "      <td>0.0</td>\n",
       "      <td>0.0</td>\n",
       "      <td>0.0</td>\n",
       "      <td>...</td>\n",
       "      <td>0.0</td>\n",
       "      <td>0.0</td>\n",
       "      <td>0.0</td>\n",
       "      <td>0.0</td>\n",
       "      <td>0.0</td>\n",
       "      <td>0.0</td>\n",
       "      <td>0.0</td>\n",
       "      <td>0.0</td>\n",
       "      <td>0.0</td>\n",
       "      <td>0.0</td>\n",
       "    </tr>\n",
       "    <tr>\n",
       "      <th>4</th>\n",
       "      <td>0.0</td>\n",
       "      <td>0.0</td>\n",
       "      <td>0.0</td>\n",
       "      <td>0.0</td>\n",
       "      <td>0.0</td>\n",
       "      <td>0.0</td>\n",
       "      <td>0.0</td>\n",
       "      <td>0.0</td>\n",
       "      <td>0.0</td>\n",
       "      <td>0.0</td>\n",
       "      <td>...</td>\n",
       "      <td>0.0</td>\n",
       "      <td>0.0</td>\n",
       "      <td>0.0</td>\n",
       "      <td>0.0</td>\n",
       "      <td>0.0</td>\n",
       "      <td>0.0</td>\n",
       "      <td>0.0</td>\n",
       "      <td>0.0</td>\n",
       "      <td>0.0</td>\n",
       "      <td>0.0</td>\n",
       "    </tr>\n",
       "  </tbody>\n",
       "</table>\n",
       "<p>5 rows × 3521 columns</p>\n",
       "</div>"
      ],
      "text/plain": [
       "   aaa  absence  absences  access  access agree  access approach  access area  \\\n",
       "0  0.0      0.0       0.0     0.0           0.0              0.0          0.0   \n",
       "1  0.0      0.0       0.0     0.0           0.0              0.0          0.0   \n",
       "2  0.0      0.0       0.0     0.0           0.0              0.0          0.0   \n",
       "3  0.0      0.0       0.0     0.0           0.0              0.0          0.0   \n",
       "4  0.0      0.0       0.0     0.0           0.0              0.0          0.0   \n",
       "\n",
       "   access arrangement  access available  access block  ...   xi  xi im  yadav  \\\n",
       "0                 0.0               0.0           0.0  ...  0.0    0.0    0.0   \n",
       "1                 0.0               0.0           0.0  ...  0.0    0.0    0.0   \n",
       "2                 0.0               0.0           0.0  ...  0.0    0.0    0.0   \n",
       "3                 0.0               0.0           0.0  ...  0.0    0.0    0.0   \n",
       "4                 0.0               0.0           0.0  ...  0.0    0.0    0.0   \n",
       "\n",
       "   yadav engage  yard  yard area  zone  zone area  zone duct  zone site  \n",
       "0           0.0   0.0        0.0   0.0        0.0        0.0        0.0  \n",
       "1           0.0   0.0        0.0   0.0        0.0        0.0        0.0  \n",
       "2           0.0   0.0        0.0   0.0        0.0        0.0        0.0  \n",
       "3           0.0   0.0        0.0   0.0        0.0        0.0        0.0  \n",
       "4           0.0   0.0        0.0   0.0        0.0        0.0        0.0  \n",
       "\n",
       "[5 rows x 3521 columns]"
      ]
     },
     "execution_count": 24,
     "metadata": {},
     "output_type": "execute_result"
    }
   ],
   "source": [
    "# Let us create the feature matrix for our future reference\n",
    "\n",
    "feature_matrix = pd.DataFrame(data = features, columns = tfidf.get_feature_names())\n",
    "feature_matrix.head()"
   ]
  },
  {
   "cell_type": "markdown",
   "id": "color-caribbean",
   "metadata": {},
   "source": [
    "That's a lot of features and it would be tedious and inefficient to fit all these features to the model. So, it would be better at this stage that to select features that are most important and that can acheive maximum gains for our models."
   ]
  },
  {
   "cell_type": "markdown",
   "id": "transparent-asbestos",
   "metadata": {},
   "source": [
    "We will do this in two steps,\n",
    "\n",
    "* by computing chi-squared stats between each non-negative feature and class.\n",
    "* Non-negative matrix factorization\n",
    "\n",
    "Chi2 score can be used to select the features with the highest values for the test chi-squared statistic from X, which must contain only non-negative features such as booleans or frequencies (e.g., term counts in document classification), relative to the classes."
   ]
  },
  {
   "cell_type": "code",
   "execution_count": 25,
   "id": "metallic-nickname",
   "metadata": {},
   "outputs": [],
   "source": [
    "from sklearn.feature_selection import chi2"
   ]
  },
  {
   "cell_type": "code",
   "execution_count": 26,
   "id": "functioning-airplane",
   "metadata": {},
   "outputs": [],
   "source": [
    "# running chi2 test and storing the chi statistics and p_value\n",
    "\n",
    "chi2_features, p_value = chi2(feature_matrix, y)"
   ]
  },
  {
   "cell_type": "code",
   "execution_count": 27,
   "id": "russian-compatibility",
   "metadata": {},
   "outputs": [],
   "source": [
    "# forming the dataframe with features, chi statistics, and p_value\n",
    "\n",
    "df_chi2_features = pd.DataFrame(data = [feature_matrix.columns, chi2_features, p_value]).T\n",
    "df_chi2_features.columns = ['Feature_name', 'Chi value', 'p_value']"
   ]
  },
  {
   "cell_type": "markdown",
   "id": "preliminary-pacific",
   "metadata": {},
   "source": [
    "We form our hyothesis here with the significance level of alpha = 0.05.\n",
    "\n",
    "Thus our Null hypothesis is that there is no significance association between the input variable and target variable. While our alternate hypothesis is that there is significance association between the input variable and target variable.\n",
    "\n",
    "Consequently, we will select only those features which have p_value less that 0.05 (Significance level), so that we can reject our null hypothesis."
   ]
  },
  {
   "cell_type": "code",
   "execution_count": 28,
   "id": "everyday-rhythm",
   "metadata": {},
   "outputs": [
    {
     "data": {
      "text/html": [
       "<div>\n",
       "<style scoped>\n",
       "    .dataframe tbody tr th:only-of-type {\n",
       "        vertical-align: middle;\n",
       "    }\n",
       "\n",
       "    .dataframe tbody tr th {\n",
       "        vertical-align: top;\n",
       "    }\n",
       "\n",
       "    .dataframe thead th {\n",
       "        text-align: right;\n",
       "    }\n",
       "</style>\n",
       "<table border=\"1\" class=\"dataframe\">\n",
       "  <thead>\n",
       "    <tr style=\"text-align: right;\">\n",
       "      <th></th>\n",
       "      <th>Feature_name</th>\n",
       "      <th>Chi value</th>\n",
       "      <th>p_value</th>\n",
       "    </tr>\n",
       "  </thead>\n",
       "  <tbody>\n",
       "    <tr>\n",
       "      <th>3</th>\n",
       "      <td>access</td>\n",
       "      <td>3547.160904</td>\n",
       "      <td>0.0</td>\n",
       "    </tr>\n",
       "    <tr>\n",
       "      <th>2704</th>\n",
       "      <td>screen</td>\n",
       "      <td>2944.971705</td>\n",
       "      <td>0.0</td>\n",
       "    </tr>\n",
       "    <tr>\n",
       "      <th>1603</th>\n",
       "      <td>kv hand</td>\n",
       "      <td>2566.39135</td>\n",
       "      <td>0.0</td>\n",
       "    </tr>\n",
       "    <tr>\n",
       "      <th>2117</th>\n",
       "      <td>park</td>\n",
       "      <td>9068.242263</td>\n",
       "      <td>0.0</td>\n",
       "    </tr>\n",
       "    <tr>\n",
       "      <th>539</th>\n",
       "      <td>compaction</td>\n",
       "      <td>2182.585633</td>\n",
       "      <td>0.0</td>\n",
       "    </tr>\n",
       "    <tr>\n",
       "      <th>...</th>\n",
       "      <td>...</td>\n",
       "      <td>...</td>\n",
       "      <td>...</td>\n",
       "    </tr>\n",
       "    <tr>\n",
       "      <th>2595</th>\n",
       "      <td>risk</td>\n",
       "      <td>89.655785</td>\n",
       "      <td>0.048076</td>\n",
       "    </tr>\n",
       "    <tr>\n",
       "      <th>1146</th>\n",
       "      <td>form sub</td>\n",
       "      <td>89.604797</td>\n",
       "      <td>0.048441</td>\n",
       "    </tr>\n",
       "    <tr>\n",
       "      <th>2075</th>\n",
       "      <td>open road</td>\n",
       "      <td>89.589076</td>\n",
       "      <td>0.048555</td>\n",
       "    </tr>\n",
       "    <tr>\n",
       "      <th>2636</th>\n",
       "      <td>room</td>\n",
       "      <td>89.572311</td>\n",
       "      <td>0.048676</td>\n",
       "    </tr>\n",
       "    <tr>\n",
       "      <th>1907</th>\n",
       "      <td>motor</td>\n",
       "      <td>89.55206</td>\n",
       "      <td>0.048822</td>\n",
       "    </tr>\n",
       "  </tbody>\n",
       "</table>\n",
       "<p>1834 rows × 3 columns</p>\n",
       "</div>"
      ],
      "text/plain": [
       "     Feature_name    Chi value   p_value\n",
       "3          access  3547.160904       0.0\n",
       "2704       screen  2944.971705       0.0\n",
       "1603      kv hand   2566.39135       0.0\n",
       "2117         park  9068.242263       0.0\n",
       "539    compaction  2182.585633       0.0\n",
       "...           ...          ...       ...\n",
       "2595         risk    89.655785  0.048076\n",
       "1146     form sub    89.604797  0.048441\n",
       "2075    open road    89.589076  0.048555\n",
       "2636         room    89.572311  0.048676\n",
       "1907        motor     89.55206  0.048822\n",
       "\n",
       "[1834 rows x 3 columns]"
      ]
     },
     "execution_count": 28,
     "metadata": {},
     "output_type": "execute_result"
    }
   ],
   "source": [
    "df_chi2_features.loc[df_chi2_features['p_value']< 0.05].sort_values(by = 'p_value', ascending = True)"
   ]
  },
  {
   "cell_type": "markdown",
   "id": "loose-savings",
   "metadata": {},
   "source": [
    "Here we can see that we have around 1834 features which are statistically significant thus we can retain them for further modeling. Accordingly, we will drop all other features from our feature matrix."
   ]
  },
  {
   "cell_type": "code",
   "execution_count": 29,
   "id": "independent-census",
   "metadata": {},
   "outputs": [
    {
     "data": {
      "text/plain": [
       "1834"
      ]
     },
     "execution_count": 29,
     "metadata": {},
     "output_type": "execute_result"
    }
   ],
   "source": [
    "final_features = df_chi2_features.loc[df_chi2_features['p_value']< 0.05].sort_values(by = 'p_value', ascending = True)\n",
    "final_feature_columns = list(final_features['Feature_name'])\n",
    "len(final_feature_columns)"
   ]
  },
  {
   "cell_type": "markdown",
   "id": "municipal-illustration",
   "metadata": {},
   "source": [
    "Now, its time to reduce the dimensionality of the feature matrix so that the process of further modelling can be eased and improved\n",
    "\n",
    "First step of which would be to assign the number of the components that we may want to extract. Best policy in this case could be to use the pre-determined labels in our data which we separated as y variable. Let's check for the number of unique classes in our y variable."
   ]
  },
  {
   "cell_type": "code",
   "execution_count": 30,
   "id": "fuzzy-cabinet",
   "metadata": {},
   "outputs": [
    {
     "name": "stdout",
     "output_type": "stream",
     "text": [
      "The number of classes in our label variable is 70\n"
     ]
    }
   ],
   "source": [
    "print(f'The number of classes in our label variable is {y.nunique()}')"
   ]
  },
  {
   "cell_type": "code",
   "execution_count": 31,
   "id": "willing-friday",
   "metadata": {},
   "outputs": [
    {
     "data": {
      "text/plain": [
       "(25587, 1834)"
      ]
     },
     "execution_count": 31,
     "metadata": {},
     "output_type": "execute_result"
    }
   ],
   "source": [
    "# Let's obtain the final feature matrix after dropping unselected features after chi2 text\n",
    "\n",
    "final_feature_matrix = feature_matrix[final_feature_columns].copy()\n",
    "final_feature_matrix.shape"
   ]
  },
  {
   "cell_type": "markdown",
   "id": "standing-produce",
   "metadata": {},
   "source": [
    "So, lets proceed with 70 components. This being the best option given we know the labels in the original dataset."
   ]
  },
  {
   "cell_type": "code",
   "execution_count": 32,
   "id": "vietnamese-portrait",
   "metadata": {},
   "outputs": [],
   "source": [
    "# importing NMF library\n",
    "\n",
    "from sklearn.decomposition import NMF"
   ]
  },
  {
   "cell_type": "code",
   "execution_count": 63,
   "id": "engaging-bracelet",
   "metadata": {},
   "outputs": [],
   "source": [
    "# Creating the nmf model\n",
    "\n",
    "# nmf_model = NMF(n_components = y.nunique(), \n",
    "#             init = 'random',\n",
    "#             random_state = 100)"
   ]
  },
  {
   "cell_type": "code",
   "execution_count": 34,
   "id": "seeing-story",
   "metadata": {},
   "outputs": [],
   "source": [
    "# nmf_features = nmf_model.fit_transform(final_feature_matrix)"
   ]
  },
  {
   "cell_type": "code",
   "execution_count": 35,
   "id": "relevant-transmission",
   "metadata": {},
   "outputs": [],
   "source": [
    "## Save the model in pickled form for future reference\n",
    "\n",
    "def pickle_model(model, filename):\n",
    "    pkl.dump(model, open(filename, 'wb'))\n",
    "    \n",
    "def de_pickle(model):\n",
    "    return pkl.load(open(model, 'rb'))"
   ]
  },
  {
   "cell_type": "code",
   "execution_count": 39,
   "id": "saving-flexibility",
   "metadata": {},
   "outputs": [],
   "source": [
    "#pickle_model(nmf_features, 'nmf_features_pkl.sav')"
   ]
  },
  {
   "cell_type": "code",
   "execution_count": 40,
   "id": "expressed-stanley",
   "metadata": {},
   "outputs": [],
   "source": [
    "nmf_features = de_pickle('nmf_features_pkl.sav')"
   ]
  },
  {
   "cell_type": "code",
   "execution_count": 41,
   "id": "fifty-counter",
   "metadata": {},
   "outputs": [
    {
     "data": {
      "text/plain": [
       "(25587, 70)"
      ]
     },
     "execution_count": 41,
     "metadata": {},
     "output_type": "execute_result"
    }
   ],
   "source": [
    "nmf_features.shape"
   ]
  },
  {
   "cell_type": "code",
   "execution_count": 42,
   "id": "corrected-fishing",
   "metadata": {},
   "outputs": [
    {
     "name": "stdout",
     "output_type": "stream",
     "text": [
      "The total no of components produced using this model is 70 and the actual no of features were 1834\n"
     ]
    }
   ],
   "source": [
    "print(f'The total no of components produced using this model\\\n",
    " is {nmf_features.shape[1]} and the actual no of features were {nmf_model.components_.shape[1]}')"
   ]
  },
  {
   "cell_type": "code",
   "execution_count": 43,
   "id": "another-wichita",
   "metadata": {},
   "outputs": [
    {
     "data": {
      "text/plain": [
       "112.5161949449341"
      ]
     },
     "execution_count": 43,
     "metadata": {},
     "output_type": "execute_result"
    }
   ],
   "source": [
    "# Lets check the reconstruction error\n",
    "nmf_model.reconstruction_err_"
   ]
  },
  {
   "cell_type": "code",
   "execution_count": 44,
   "id": "figured-thirty",
   "metadata": {},
   "outputs": [
    {
     "data": {
      "text/html": [
       "<div>\n",
       "<style scoped>\n",
       "    .dataframe tbody tr th:only-of-type {\n",
       "        vertical-align: middle;\n",
       "    }\n",
       "\n",
       "    .dataframe tbody tr th {\n",
       "        vertical-align: top;\n",
       "    }\n",
       "\n",
       "    .dataframe thead th {\n",
       "        text-align: right;\n",
       "    }\n",
       "</style>\n",
       "<table border=\"1\" class=\"dataframe\">\n",
       "  <thead>\n",
       "    <tr style=\"text-align: right;\">\n",
       "      <th></th>\n",
       "      <th>access</th>\n",
       "      <th>screen</th>\n",
       "      <th>kv hand</th>\n",
       "      <th>park</th>\n",
       "      <th>compaction</th>\n",
       "      <th>pas</th>\n",
       "      <th>pas issue</th>\n",
       "      <th>joint</th>\n",
       "      <th>scatter</th>\n",
       "      <th>safety shoe</th>\n",
       "      <th>...</th>\n",
       "      <th>legal</th>\n",
       "      <th>rod access</th>\n",
       "      <th>damage cable</th>\n",
       "      <th>person site</th>\n",
       "      <th>line</th>\n",
       "      <th>risk</th>\n",
       "      <th>form sub</th>\n",
       "      <th>open road</th>\n",
       "      <th>room</th>\n",
       "      <th>motor</th>\n",
       "    </tr>\n",
       "  </thead>\n",
       "  <tbody>\n",
       "    <tr>\n",
       "      <th>0</th>\n",
       "      <td>0.003523</td>\n",
       "      <td>0.00000</td>\n",
       "      <td>0.0</td>\n",
       "      <td>0.000000</td>\n",
       "      <td>0.000000</td>\n",
       "      <td>0.024603</td>\n",
       "      <td>0.0</td>\n",
       "      <td>0.071696</td>\n",
       "      <td>0.000000</td>\n",
       "      <td>0.0</td>\n",
       "      <td>...</td>\n",
       "      <td>0.0</td>\n",
       "      <td>0.0</td>\n",
       "      <td>0.007119</td>\n",
       "      <td>0.000921</td>\n",
       "      <td>0.0</td>\n",
       "      <td>0.000000</td>\n",
       "      <td>0.00000</td>\n",
       "      <td>0.0</td>\n",
       "      <td>0.00585</td>\n",
       "      <td>0.0</td>\n",
       "    </tr>\n",
       "    <tr>\n",
       "      <th>1</th>\n",
       "      <td>0.000000</td>\n",
       "      <td>0.00000</td>\n",
       "      <td>0.0</td>\n",
       "      <td>0.000000</td>\n",
       "      <td>0.000000</td>\n",
       "      <td>0.000000</td>\n",
       "      <td>0.0</td>\n",
       "      <td>0.000000</td>\n",
       "      <td>0.000000</td>\n",
       "      <td>0.0</td>\n",
       "      <td>...</td>\n",
       "      <td>0.0</td>\n",
       "      <td>0.0</td>\n",
       "      <td>0.000000</td>\n",
       "      <td>0.000000</td>\n",
       "      <td>0.0</td>\n",
       "      <td>0.000000</td>\n",
       "      <td>0.00000</td>\n",
       "      <td>0.0</td>\n",
       "      <td>0.00000</td>\n",
       "      <td>0.0</td>\n",
       "    </tr>\n",
       "    <tr>\n",
       "      <th>2</th>\n",
       "      <td>0.000000</td>\n",
       "      <td>0.00000</td>\n",
       "      <td>0.0</td>\n",
       "      <td>0.000000</td>\n",
       "      <td>0.006570</td>\n",
       "      <td>0.000000</td>\n",
       "      <td>0.0</td>\n",
       "      <td>0.000000</td>\n",
       "      <td>0.000000</td>\n",
       "      <td>0.0</td>\n",
       "      <td>...</td>\n",
       "      <td>0.0</td>\n",
       "      <td>0.0</td>\n",
       "      <td>0.000000</td>\n",
       "      <td>0.000000</td>\n",
       "      <td>0.0</td>\n",
       "      <td>0.000000</td>\n",
       "      <td>0.00000</td>\n",
       "      <td>0.0</td>\n",
       "      <td>0.00000</td>\n",
       "      <td>0.0</td>\n",
       "    </tr>\n",
       "    <tr>\n",
       "      <th>3</th>\n",
       "      <td>0.000265</td>\n",
       "      <td>0.00000</td>\n",
       "      <td>0.0</td>\n",
       "      <td>0.000229</td>\n",
       "      <td>0.008007</td>\n",
       "      <td>0.000000</td>\n",
       "      <td>0.0</td>\n",
       "      <td>0.000000</td>\n",
       "      <td>0.000000</td>\n",
       "      <td>0.0</td>\n",
       "      <td>...</td>\n",
       "      <td>0.0</td>\n",
       "      <td>0.0</td>\n",
       "      <td>0.000155</td>\n",
       "      <td>0.002006</td>\n",
       "      <td>0.0</td>\n",
       "      <td>0.000000</td>\n",
       "      <td>0.00000</td>\n",
       "      <td>0.0</td>\n",
       "      <td>0.00000</td>\n",
       "      <td>0.0</td>\n",
       "    </tr>\n",
       "    <tr>\n",
       "      <th>4</th>\n",
       "      <td>0.000000</td>\n",
       "      <td>0.24065</td>\n",
       "      <td>0.0</td>\n",
       "      <td>0.000000</td>\n",
       "      <td>0.000000</td>\n",
       "      <td>0.000000</td>\n",
       "      <td>0.0</td>\n",
       "      <td>0.000000</td>\n",
       "      <td>0.002376</td>\n",
       "      <td>0.0</td>\n",
       "      <td>...</td>\n",
       "      <td>0.0</td>\n",
       "      <td>0.0</td>\n",
       "      <td>0.000000</td>\n",
       "      <td>0.000000</td>\n",
       "      <td>0.0</td>\n",
       "      <td>0.001081</td>\n",
       "      <td>0.00057</td>\n",
       "      <td>0.0</td>\n",
       "      <td>0.00000</td>\n",
       "      <td>0.0</td>\n",
       "    </tr>\n",
       "  </tbody>\n",
       "</table>\n",
       "<p>5 rows × 1834 columns</p>\n",
       "</div>"
      ],
      "text/plain": [
       "     access   screen  kv hand      park  compaction       pas  pas issue  \\\n",
       "0  0.003523  0.00000      0.0  0.000000    0.000000  0.024603        0.0   \n",
       "1  0.000000  0.00000      0.0  0.000000    0.000000  0.000000        0.0   \n",
       "2  0.000000  0.00000      0.0  0.000000    0.006570  0.000000        0.0   \n",
       "3  0.000265  0.00000      0.0  0.000229    0.008007  0.000000        0.0   \n",
       "4  0.000000  0.24065      0.0  0.000000    0.000000  0.000000        0.0   \n",
       "\n",
       "      joint   scatter  safety shoe  ...  legal  rod access  damage cable  \\\n",
       "0  0.071696  0.000000          0.0  ...    0.0         0.0      0.007119   \n",
       "1  0.000000  0.000000          0.0  ...    0.0         0.0      0.000000   \n",
       "2  0.000000  0.000000          0.0  ...    0.0         0.0      0.000000   \n",
       "3  0.000000  0.000000          0.0  ...    0.0         0.0      0.000155   \n",
       "4  0.000000  0.002376          0.0  ...    0.0         0.0      0.000000   \n",
       "\n",
       "   person site  line      risk  form sub  open road     room  motor  \n",
       "0     0.000921   0.0  0.000000   0.00000        0.0  0.00585    0.0  \n",
       "1     0.000000   0.0  0.000000   0.00000        0.0  0.00000    0.0  \n",
       "2     0.000000   0.0  0.000000   0.00000        0.0  0.00000    0.0  \n",
       "3     0.002006   0.0  0.000000   0.00000        0.0  0.00000    0.0  \n",
       "4     0.000000   0.0  0.001081   0.00057        0.0  0.00000    0.0  \n",
       "\n",
       "[5 rows x 1834 columns]"
      ]
     },
     "execution_count": 44,
     "metadata": {},
     "output_type": "execute_result"
    }
   ],
   "source": [
    "# Lets visualize them in term of dataframe\n",
    "\n",
    "nmf_features_components_df = pd.DataFrame(nmf_model.components_, columns = final_feature_columns)\n",
    "nmf_features_components_df.head()"
   ]
  },
  {
   "cell_type": "code",
   "execution_count": 45,
   "id": "disciplinary-directory",
   "metadata": {},
   "outputs": [
    {
     "data": {
      "text/html": [
       "<div>\n",
       "<style scoped>\n",
       "    .dataframe tbody tr th:only-of-type {\n",
       "        vertical-align: middle;\n",
       "    }\n",
       "\n",
       "    .dataframe tbody tr th {\n",
       "        vertical-align: top;\n",
       "    }\n",
       "\n",
       "    .dataframe thead th {\n",
       "        text-align: right;\n",
       "    }\n",
       "</style>\n",
       "<table border=\"1\" class=\"dataframe\">\n",
       "  <thead>\n",
       "    <tr style=\"text-align: right;\">\n",
       "      <th></th>\n",
       "      <th>Feature Names</th>\n",
       "      <th>Values</th>\n",
       "    </tr>\n",
       "  </thead>\n",
       "  <tbody>\n",
       "    <tr>\n",
       "      <th>0</th>\n",
       "      <td>cable</td>\n",
       "      <td>0.450917</td>\n",
       "    </tr>\n",
       "    <tr>\n",
       "      <th>1</th>\n",
       "      <td>engage site</td>\n",
       "      <td>0.440872</td>\n",
       "    </tr>\n",
       "    <tr>\n",
       "      <th>2</th>\n",
       "      <td>soil</td>\n",
       "      <td>0.514036</td>\n",
       "    </tr>\n",
       "    <tr>\n",
       "      <th>3</th>\n",
       "      <td>place</td>\n",
       "      <td>0.513937</td>\n",
       "    </tr>\n",
       "    <tr>\n",
       "      <th>4</th>\n",
       "      <td>process</td>\n",
       "      <td>0.483933</td>\n",
       "    </tr>\n",
       "    <tr>\n",
       "      <th>...</th>\n",
       "      <td>...</td>\n",
       "      <td>...</td>\n",
       "    </tr>\n",
       "    <tr>\n",
       "      <th>65</th>\n",
       "      <td>hard</td>\n",
       "      <td>1.412570</td>\n",
       "    </tr>\n",
       "    <tr>\n",
       "      <th>66</th>\n",
       "      <td>house</td>\n",
       "      <td>0.935118</td>\n",
       "    </tr>\n",
       "    <tr>\n",
       "      <th>67</th>\n",
       "      <td>platform</td>\n",
       "      <td>1.453708</td>\n",
       "    </tr>\n",
       "    <tr>\n",
       "      <th>68</th>\n",
       "      <td>protection</td>\n",
       "      <td>0.988933</td>\n",
       "    </tr>\n",
       "    <tr>\n",
       "      <th>69</th>\n",
       "      <td>plug</td>\n",
       "      <td>2.063784</td>\n",
       "    </tr>\n",
       "  </tbody>\n",
       "</table>\n",
       "<p>70 rows × 2 columns</p>\n",
       "</div>"
      ],
      "text/plain": [
       "   Feature Names    Values\n",
       "0          cable  0.450917\n",
       "1    engage site  0.440872\n",
       "2           soil  0.514036\n",
       "3          place  0.513937\n",
       "4        process  0.483933\n",
       "..           ...       ...\n",
       "65          hard  1.412570\n",
       "66         house  0.935118\n",
       "67      platform  1.453708\n",
       "68    protection  0.988933\n",
       "69          plug  2.063784\n",
       "\n",
       "[70 rows x 2 columns]"
      ]
     },
     "execution_count": 45,
     "metadata": {},
     "output_type": "execute_result"
    }
   ],
   "source": [
    "# Lets check for each components identified which is the largest contributing featur\n",
    "\n",
    "column_1 = pd.Series(nmf_features_components_df.idxmax(axis = 1))\n",
    "column_2 = pd.Series(nmf_features_components_df.max(axis = 1))\n",
    "\n",
    "largest_component_nmf = pd.concat([column_1, column_2], axis = 1)\n",
    "largest_component_nmf.columns = ['Feature Names', 'Values']\n",
    "largest_component_nmf"
   ]
  },
  {
   "cell_type": "markdown",
   "id": "experimental-liberal",
   "metadata": {},
   "source": [
    "So the top contributing features to our components look quite rational, indicating that we may proceed ahead with the 70 components."
   ]
  },
  {
   "cell_type": "markdown",
   "id": "caring-disease",
   "metadata": {},
   "source": [
    "## Exploratory Data Analysis and Feature Extraction -Summary"
   ]
  },
  {
   "cell_type": "markdown",
   "id": "located-label",
   "metadata": {},
   "source": [
    "* We realised that our data consists of highly imbalanced classes.\n",
    "* Next step was to prepare the text data for further feature extraction. We applied various transformations such as lemmatization amd acheiving homogenization by converting all words into lower case.\n",
    "* We dropped the pre-defined labels in the dataset and saved them.\n",
    "* Next, we used tfidfvectorizer to extract features from our text data. The tf–idf value increases proportionally to the number of times a word appears in the document and is offset by the number of documents in the corpus that contain the word, which helps to adjust for the fact that some words appear more frequently in general.\n",
    "* We perfromed chi2 test to extract the best associated features with p-value less than 0.05.\n",
    "* Finally we used NMF method to decompose our features into 70 components."
   ]
  },
  {
   "cell_type": "markdown",
   "id": "dying-representative",
   "metadata": {},
   "source": [
    "## 4. Model Evaluation and Selection"
   ]
  },
  {
   "cell_type": "markdown",
   "id": "conservative-enforcement",
   "metadata": {},
   "source": [
    "In this step, we will,\n",
    "\n",
    "1. Select the best model and subsequently the best values for hyperparameters.\n",
    "2. Select Best Model by using Silhoutte Score Method."
   ]
  },
  {
   "cell_type": "code",
   "execution_count": 46,
   "id": "sporting-young",
   "metadata": {},
   "outputs": [],
   "source": [
    "# let us import all the required models\n",
    "\n",
    "from sklearn.pipeline import Pipeline\n",
    "from sklearn.preprocessing import StandardScaler\n",
    "from sklearn.cluster import KMeans\n",
    "from sklearn.cluster import AgglomerativeClustering\n",
    "from sklearn.cluster import DBSCAN\n",
    "from sklearn.metrics import silhouette_score"
   ]
  },
  {
   "cell_type": "markdown",
   "id": "wireless-joining",
   "metadata": {},
   "source": [
    "### 4.a. KMeans Clustering"
   ]
  },
  {
   "cell_type": "markdown",
   "id": "better-passenger",
   "metadata": {},
   "source": [
    "* It is the most commonly used model, which works on the principle of finding clusters with distinct centroids.\n",
    "* We will use this method with smart initialization of centroids using 'KMeans++' method and setting random state so that we can re-produce the results.\n",
    "* We will loop the algorigthm over cluster numbers varying from 5 to 70. \n",
    "* We will select the best cluster number based on Silhoutte Score. This will be method which will be used for all other algorithms also."
   ]
  },
  {
   "cell_type": "code",
   "execution_count": 47,
   "id": "rental-gambling",
   "metadata": {},
   "outputs": [],
   "source": [
    "n_clusters = list(range(5,71,5))\n",
    "sse = []\n",
    "\n",
    "for cluster in n_clusters:\n",
    "    km_estimator = Pipeline([('scaler', StandardScaler()),\n",
    "                             ('kmeans', KMeans(n_clusters = cluster, \n",
    "                                               init='k-means++',\n",
    "                                               random_state = 1000))])\n",
    "    km_estimator.fit_predict(nmf_features)\n",
    "    labels = km_estimator.named_steps['kmeans'].labels_\n",
    "    sse.append(silhouette_score(nmf_features, labels))"
   ]
  },
  {
   "cell_type": "code",
   "execution_count": 48,
   "id": "painful-toilet",
   "metadata": {},
   "outputs": [
    {
     "data": {
      "text/plain": [
       "Text(0, 0.5, 'Silhouette_score')"
      ]
     },
     "execution_count": 48,
     "metadata": {},
     "output_type": "execute_result"
    },
    {
     "data": {
      "image/png": "[encoded data removed]",
      "text/plain": [
       "<Figure size 432x432 with 1 Axes>"
      ]
     },
     "metadata": {
      "needs_background": "light"
     },
     "output_type": "display_data"
    }
   ],
   "source": [
    "plt.figure(figsize=(6, 6))\n",
    "plt.title('KMeans')\n",
    "plt.plot(n_clusters, sse, '-o')\n",
    "plt.xlabel(r'Number of clusters *k*')\n",
    "plt.ylabel('Silhouette_score')"
   ]
  },
  {
   "cell_type": "markdown",
   "id": "bizarre-appeal",
   "metadata": {},
   "source": [
    "* Our Silhoutte score indicates that the clusters are not very well defined, as the SS is very less (A silhoutte Score of 1 suggest perfect cluster boundaries, 0 means that cluster is chosen at random and -1 means not proper boundaries at all).\n",
    "* Best number of cluster based on SS is somewhere between 50 to 60."
   ]
  },
  {
   "cell_type": "markdown",
   "id": "front-computer",
   "metadata": {},
   "source": [
    "### 4.b. DBSCAN Clustering"
   ]
  },
  {
   "cell_type": "markdown",
   "id": "alert-orange",
   "metadata": {},
   "source": [
    "This is a density based clustering which doesn't require any initialization in terms of cluster numbers, however, we do optimize two hyper parameters - eps and min_samples to acheive the best clustering results."
   ]
  },
  {
   "cell_type": "code",
   "execution_count": 51,
   "id": "married-vanilla",
   "metadata": {},
   "outputs": [
    {
     "name": "stdout",
     "output_type": "stream",
     "text": [
      "15.0 5\n"
     ]
    },
    {
     "name": "stderr",
     "output_type": "stream",
     "text": [
      "c:\\users\\aa-minhaj\\sklearn-venv\\lib\\site-packages\\sklearn\\metrics\\pairwise.py:1776: DataConversionWarning: Data was converted to boolean for metric jaccard\n",
      "  warnings.warn(msg, DataConversionWarning)\n",
      "c:\\users\\aa-minhaj\\sklearn-venv\\lib\\site-packages\\sklearn\\metrics\\pairwise.py:1776: DataConversionWarning: Data was converted to boolean for metric jaccard\n",
      "  warnings.warn(msg, DataConversionWarning)\n",
      "c:\\users\\aa-minhaj\\sklearn-venv\\lib\\site-packages\\sklearn\\metrics\\pairwise.py:1776: DataConversionWarning: Data was converted to boolean for metric jaccard\n",
      "  warnings.warn(msg, DataConversionWarning)\n",
      "c:\\users\\aa-minhaj\\sklearn-venv\\lib\\site-packages\\sklearn\\metrics\\pairwise.py:1776: DataConversionWarning: Data was converted to boolean for metric jaccard\n",
      "  warnings.warn(msg, DataConversionWarning)\n",
      "c:\\users\\aa-minhaj\\sklearn-venv\\lib\\site-packages\\sklearn\\metrics\\pairwise.py:1776: DataConversionWarning: Data was converted to boolean for metric jaccard\n",
      "  warnings.warn(msg, DataConversionWarning)\n"
     ]
    },
    {
     "ename": "ValueError",
     "evalue": "Number of labels is 1. Valid values are 2 to n_samples - 1 (inclusive)",
     "output_type": "error",
     "traceback": [
      "\u001b[1;31m---------------------------------------------------------------------------\u001b[0m",
      "\u001b[1;31mValueError\u001b[0m                                Traceback (most recent call last)",
      "\u001b[1;32m<ipython-input-51-85465a992d9f>\u001b[0m in \u001b[0;36m<module>\u001b[1;34m\u001b[0m\n\u001b[0;32m     14\u001b[0m         \u001b[0mdb_estimator\u001b[0m\u001b[1;33m.\u001b[0m\u001b[0mfit\u001b[0m\u001b[1;33m(\u001b[0m\u001b[0mnmf_features\u001b[0m\u001b[1;33m)\u001b[0m\u001b[1;33m\u001b[0m\u001b[1;33m\u001b[0m\u001b[0m\n\u001b[0;32m     15\u001b[0m         \u001b[0mlabels\u001b[0m \u001b[1;33m=\u001b[0m \u001b[0mdb_estimator\u001b[0m\u001b[1;33m.\u001b[0m\u001b[0mnamed_steps\u001b[0m\u001b[1;33m[\u001b[0m\u001b[1;34m'dbscan'\u001b[0m\u001b[1;33m]\u001b[0m\u001b[1;33m.\u001b[0m\u001b[0mlabels_\u001b[0m\u001b[1;33m\u001b[0m\u001b[1;33m\u001b[0m\u001b[0m\n\u001b[1;32m---> 16\u001b[1;33m         \u001b[0msse\u001b[0m\u001b[1;33m.\u001b[0m\u001b[0mappend\u001b[0m\u001b[1;33m(\u001b[0m\u001b[0msilhouette_score\u001b[0m\u001b[1;33m(\u001b[0m\u001b[0mnmf_features\u001b[0m\u001b[1;33m,\u001b[0m \u001b[0mlabels\u001b[0m\u001b[1;33m)\u001b[0m\u001b[1;33m)\u001b[0m\u001b[1;33m\u001b[0m\u001b[1;33m\u001b[0m\u001b[0m\n\u001b[0m",
      "\u001b[1;32mc:\\users\\aa-minhaj\\sklearn-venv\\lib\\site-packages\\sklearn\\utils\\validation.py\u001b[0m in \u001b[0;36minner_f\u001b[1;34m(*args, **kwargs)\u001b[0m\n\u001b[0;32m     61\u001b[0m             \u001b[0mextra_args\u001b[0m \u001b[1;33m=\u001b[0m \u001b[0mlen\u001b[0m\u001b[1;33m(\u001b[0m\u001b[0margs\u001b[0m\u001b[1;33m)\u001b[0m \u001b[1;33m-\u001b[0m \u001b[0mlen\u001b[0m\u001b[1;33m(\u001b[0m\u001b[0mall_args\u001b[0m\u001b[1;33m)\u001b[0m\u001b[1;33m\u001b[0m\u001b[1;33m\u001b[0m\u001b[0m\n\u001b[0;32m     62\u001b[0m             \u001b[1;32mif\u001b[0m \u001b[0mextra_args\u001b[0m \u001b[1;33m<=\u001b[0m \u001b[1;36m0\u001b[0m\u001b[1;33m:\u001b[0m\u001b[1;33m\u001b[0m\u001b[1;33m\u001b[0m\u001b[0m\n\u001b[1;32m---> 63\u001b[1;33m                 \u001b[1;32mreturn\u001b[0m \u001b[0mf\u001b[0m\u001b[1;33m(\u001b[0m\u001b[1;33m*\u001b[0m\u001b[0margs\u001b[0m\u001b[1;33m,\u001b[0m \u001b[1;33m**\u001b[0m\u001b[0mkwargs\u001b[0m\u001b[1;33m)\u001b[0m\u001b[1;33m\u001b[0m\u001b[1;33m\u001b[0m\u001b[0m\n\u001b[0m\u001b[0;32m     64\u001b[0m \u001b[1;33m\u001b[0m\u001b[0m\n\u001b[0;32m     65\u001b[0m             \u001b[1;31m# extra_args > 0\u001b[0m\u001b[1;33m\u001b[0m\u001b[1;33m\u001b[0m\u001b[0m\n",
      "\u001b[1;32mc:\\users\\aa-minhaj\\sklearn-venv\\lib\\site-packages\\sklearn\\metrics\\cluster\\_unsupervised.py\u001b[0m in \u001b[0;36msilhouette_score\u001b[1;34m(X, labels, metric, sample_size, random_state, **kwds)\u001b[0m\n\u001b[0;32m    115\u001b[0m         \u001b[1;32melse\u001b[0m\u001b[1;33m:\u001b[0m\u001b[1;33m\u001b[0m\u001b[1;33m\u001b[0m\u001b[0m\n\u001b[0;32m    116\u001b[0m             \u001b[0mX\u001b[0m\u001b[1;33m,\u001b[0m \u001b[0mlabels\u001b[0m \u001b[1;33m=\u001b[0m \u001b[0mX\u001b[0m\u001b[1;33m[\u001b[0m\u001b[0mindices\u001b[0m\u001b[1;33m]\u001b[0m\u001b[1;33m,\u001b[0m \u001b[0mlabels\u001b[0m\u001b[1;33m[\u001b[0m\u001b[0mindices\u001b[0m\u001b[1;33m]\u001b[0m\u001b[1;33m\u001b[0m\u001b[1;33m\u001b[0m\u001b[0m\n\u001b[1;32m--> 117\u001b[1;33m     \u001b[1;32mreturn\u001b[0m \u001b[0mnp\u001b[0m\u001b[1;33m.\u001b[0m\u001b[0mmean\u001b[0m\u001b[1;33m(\u001b[0m\u001b[0msilhouette_samples\u001b[0m\u001b[1;33m(\u001b[0m\u001b[0mX\u001b[0m\u001b[1;33m,\u001b[0m \u001b[0mlabels\u001b[0m\u001b[1;33m,\u001b[0m \u001b[0mmetric\u001b[0m\u001b[1;33m=\u001b[0m\u001b[0mmetric\u001b[0m\u001b[1;33m,\u001b[0m \u001b[1;33m**\u001b[0m\u001b[0mkwds\u001b[0m\u001b[1;33m)\u001b[0m\u001b[1;33m)\u001b[0m\u001b[1;33m\u001b[0m\u001b[1;33m\u001b[0m\u001b[0m\n\u001b[0m\u001b[0;32m    118\u001b[0m \u001b[1;33m\u001b[0m\u001b[0m\n\u001b[0;32m    119\u001b[0m \u001b[1;33m\u001b[0m\u001b[0m\n",
      "\u001b[1;32mc:\\users\\aa-minhaj\\sklearn-venv\\lib\\site-packages\\sklearn\\utils\\validation.py\u001b[0m in \u001b[0;36minner_f\u001b[1;34m(*args, **kwargs)\u001b[0m\n\u001b[0;32m     61\u001b[0m             \u001b[0mextra_args\u001b[0m \u001b[1;33m=\u001b[0m \u001b[0mlen\u001b[0m\u001b[1;33m(\u001b[0m\u001b[0margs\u001b[0m\u001b[1;33m)\u001b[0m \u001b[1;33m-\u001b[0m \u001b[0mlen\u001b[0m\u001b[1;33m(\u001b[0m\u001b[0mall_args\u001b[0m\u001b[1;33m)\u001b[0m\u001b[1;33m\u001b[0m\u001b[1;33m\u001b[0m\u001b[0m\n\u001b[0;32m     62\u001b[0m             \u001b[1;32mif\u001b[0m \u001b[0mextra_args\u001b[0m \u001b[1;33m<=\u001b[0m \u001b[1;36m0\u001b[0m\u001b[1;33m:\u001b[0m\u001b[1;33m\u001b[0m\u001b[1;33m\u001b[0m\u001b[0m\n\u001b[1;32m---> 63\u001b[1;33m                 \u001b[1;32mreturn\u001b[0m \u001b[0mf\u001b[0m\u001b[1;33m(\u001b[0m\u001b[1;33m*\u001b[0m\u001b[0margs\u001b[0m\u001b[1;33m,\u001b[0m \u001b[1;33m**\u001b[0m\u001b[0mkwargs\u001b[0m\u001b[1;33m)\u001b[0m\u001b[1;33m\u001b[0m\u001b[1;33m\u001b[0m\u001b[0m\n\u001b[0m\u001b[0;32m     64\u001b[0m \u001b[1;33m\u001b[0m\u001b[0m\n\u001b[0;32m     65\u001b[0m             \u001b[1;31m# extra_args > 0\u001b[0m\u001b[1;33m\u001b[0m\u001b[1;33m\u001b[0m\u001b[0m\n",
      "\u001b[1;32mc:\\users\\aa-minhaj\\sklearn-venv\\lib\\site-packages\\sklearn\\metrics\\cluster\\_unsupervised.py\u001b[0m in \u001b[0;36msilhouette_samples\u001b[1;34m(X, labels, metric, **kwds)\u001b[0m\n\u001b[0;32m    227\u001b[0m     \u001b[0mn_samples\u001b[0m \u001b[1;33m=\u001b[0m \u001b[0mlen\u001b[0m\u001b[1;33m(\u001b[0m\u001b[0mlabels\u001b[0m\u001b[1;33m)\u001b[0m\u001b[1;33m\u001b[0m\u001b[1;33m\u001b[0m\u001b[0m\n\u001b[0;32m    228\u001b[0m     \u001b[0mlabel_freqs\u001b[0m \u001b[1;33m=\u001b[0m \u001b[0mnp\u001b[0m\u001b[1;33m.\u001b[0m\u001b[0mbincount\u001b[0m\u001b[1;33m(\u001b[0m\u001b[0mlabels\u001b[0m\u001b[1;33m)\u001b[0m\u001b[1;33m\u001b[0m\u001b[1;33m\u001b[0m\u001b[0m\n\u001b[1;32m--> 229\u001b[1;33m     \u001b[0mcheck_number_of_labels\u001b[0m\u001b[1;33m(\u001b[0m\u001b[0mlen\u001b[0m\u001b[1;33m(\u001b[0m\u001b[0mle\u001b[0m\u001b[1;33m.\u001b[0m\u001b[0mclasses_\u001b[0m\u001b[1;33m)\u001b[0m\u001b[1;33m,\u001b[0m \u001b[0mn_samples\u001b[0m\u001b[1;33m)\u001b[0m\u001b[1;33m\u001b[0m\u001b[1;33m\u001b[0m\u001b[0m\n\u001b[0m\u001b[0;32m    230\u001b[0m \u001b[1;33m\u001b[0m\u001b[0m\n\u001b[0;32m    231\u001b[0m     \u001b[0mkwds\u001b[0m\u001b[1;33m[\u001b[0m\u001b[1;34m'metric'\u001b[0m\u001b[1;33m]\u001b[0m \u001b[1;33m=\u001b[0m \u001b[0mmetric\u001b[0m\u001b[1;33m\u001b[0m\u001b[1;33m\u001b[0m\u001b[0m\n",
      "\u001b[1;32mc:\\users\\aa-minhaj\\sklearn-venv\\lib\\site-packages\\sklearn\\metrics\\cluster\\_unsupervised.py\u001b[0m in \u001b[0;36mcheck_number_of_labels\u001b[1;34m(n_labels, n_samples)\u001b[0m\n\u001b[0;32m     32\u001b[0m     \"\"\"\n\u001b[0;32m     33\u001b[0m     \u001b[1;32mif\u001b[0m \u001b[1;32mnot\u001b[0m \u001b[1;36m1\u001b[0m \u001b[1;33m<\u001b[0m \u001b[0mn_labels\u001b[0m \u001b[1;33m<\u001b[0m \u001b[0mn_samples\u001b[0m\u001b[1;33m:\u001b[0m\u001b[1;33m\u001b[0m\u001b[1;33m\u001b[0m\u001b[0m\n\u001b[1;32m---> 34\u001b[1;33m         raise ValueError(\"Number of labels is %d. Valid values are 2 \"\n\u001b[0m\u001b[0;32m     35\u001b[0m                          \"to n_samples - 1 (inclusive)\" % n_labels)\n\u001b[0;32m     36\u001b[0m \u001b[1;33m\u001b[0m\u001b[0m\n",
      "\u001b[1;31mValueError\u001b[0m: Number of labels is 1. Valid values are 2 to n_samples - 1 (inclusive)"
     ]
    }
   ],
   "source": [
    "min_samples = list(range(5,15,3))\n",
    "epses = list(np.linspace(15, 45, 3))\n",
    "sse = []\n",
    "\n",
    "for min_sample in min_samples:\n",
    "    for eps in epses:\n",
    "        db_estimator = Pipeline([('scaler', StandardScaler()),\n",
    "                         ('dbscan', DBSCAN(eps = eps,\n",
    "                                           min_samples = min_sample,\n",
    "                                           metric = 'jaccard'\n",
    "                                          ))\n",
    "                        ])\n",
    "        print(eps, min_sample)\n",
    "        db_estimator.fit(nmf_features)\n",
    "        labels = db_estimator.named_steps['dbscan'].labels_\n",
    "        sse.append(silhouette_score(nmf_features, labels))"
   ]
  },
  {
   "cell_type": "markdown",
   "id": "hawaiian-killing",
   "metadata": {},
   "source": [
    "* Here, I actually tried varied range of values for eps and min_samples to achieve convergence. \n",
    "* Unfortunately, all my efforts came to naught and the model failed to converge over a wide range of values of hyperparameters.\n",
    "* Here, I also deviated from K-Means algorightm by chosing a distance metric more suitable for NLP tasks i.e. Jaccard."
   ]
  },
  {
   "cell_type": "code",
   "execution_count": null,
   "id": "sixth-giving",
   "metadata": {},
   "outputs": [],
   "source": [
    "plt.figure(figsize=(6, 6))\n",
    "plt.title('KMeans')\n",
    "plt.plot(n_clusters, sse, '-o')\n",
    "plt.xlabel(r'Number of clusters *k*')\n",
    "plt.ylabel('Silhouette_score')"
   ]
  },
  {
   "cell_type": "markdown",
   "id": "unlimited-sport",
   "metadata": {},
   "source": [
    "### 4.c. Agglomerative Clustering"
   ]
  },
  {
   "cell_type": "markdown",
   "id": "romantic-literature",
   "metadata": {},
   "source": [
    "One of the widely used and easily interpretable algorithm. Again since the algorithm provides the option to stop clustering at a predefined mark (Cluster Numbers), I opted to iterate that number over the range from 5 to 70."
   ]
  },
  {
   "cell_type": "code",
   "execution_count": 58,
   "id": "adopted-daily",
   "metadata": {},
   "outputs": [],
   "source": [
    "n_clusters = list(range(5,71,5))\n",
    "sse = []\n",
    "\n",
    "for cluster in n_clusters:\n",
    "    agc_estimator = Pipeline([('scaler', StandardScaler()),\n",
    "                              ('agc', AgglomerativeClustering(n_clusters = cluster,\n",
    "                                                              affinity = 'euclidean',\n",
    "                                                              linkage = 'ward'))])\n",
    "    agc_estimator.fit_predict(nmf_features)\n",
    "    labels = agc_estimator.named_steps['agc'].labels_\n",
    "    sse.append(silhouette_score(nmf_features, labels))"
   ]
  },
  {
   "cell_type": "code",
   "execution_count": 59,
   "id": "concrete-protection",
   "metadata": {},
   "outputs": [
    {
     "data": {
      "text/plain": [
       "Text(0, 0.5, 'Silhouette_score')"
      ]
     },
     "execution_count": 59,
     "metadata": {},
     "output_type": "execute_result"
    },
    {
     "data": {
      "image/png": "[encoded data removed]",
      "text/plain": [
       "<Figure size 432x432 with 1 Axes>"
      ]
     },
     "metadata": {
      "needs_background": "light"
     },
     "output_type": "display_data"
    }
   ],
   "source": [
    "plt.figure(figsize=(6, 6))\n",
    "plt.title('AGC')\n",
    "plt.plot(n_clusters, sse, '-o')\n",
    "plt.xlabel(r'Number of clusters *k*')\n",
    "plt.ylabel('Silhouette_score')"
   ]
  },
  {
   "cell_type": "code",
   "execution_count": 61,
   "id": "partial-familiar",
   "metadata": {},
   "outputs": [
    {
     "data": {
      "image/png": "[encoded data removed]",
      "text/plain": [
       "<Figure size 1080x360 with 1 Axes>"
      ]
     },
     "metadata": {
      "needs_background": "light"
     },
     "output_type": "display_data"
    }
   ],
   "source": [
    "from scipy.cluster import hierarchy\n",
    "\n",
    "ag = agc_estimator.named_steps['agc']\n",
    "\n",
    "Z = hierarchy.linkage(ag.children_, method='ward')\n",
    "\n",
    "fig, ax = plt.subplots(figsize=(15,5))\n",
    "\n",
    "den = hierarchy.dendrogram(Z, orientation='top', \n",
    "                           p=30, truncate_mode='lastp',\n",
    "                           show_leaf_counts=True, ax=ax)"
   ]
  },
  {
   "cell_type": "markdown",
   "id": "analyzed-flower",
   "metadata": {},
   "source": [
    "* Once again the SS suggests that clustering results obtained are not very clear.\n",
    "* Agglomerative Clustering method does converge eventually here but with worst results when compared to KMeans.\n",
    "* The Best SS score that I obtained using euclidean distance and ward linkage was around 0.11 with resulting number of clusters between 50 to 55.\n",
    "* I also tried Cosine distance but the results were even worser."
   ]
  },
  {
   "cell_type": "markdown",
   "id": "social-juvenile",
   "metadata": {},
   "source": [
    "## Model Evaluation and Selection - Summary"
   ]
  },
  {
   "cell_type": "markdown",
   "id": "returning-syndication",
   "metadata": {},
   "source": [
    "* We tried to train 3 models and chose hyperparameters by using for loop\n",
    ">1. K Means Clustering\n",
    ">2. DBSCAN\n",
    ">3. Agglomerative Clustering\n",
    "* We set forth our expectations clearly, by setting goals as to identify/ validate the clusters using pre-defined labels available with us in the dataset.\n",
    "* The model which presented best solution was suprisingly KMeans with ideal number of clusters between 50 - 55\n",
    "* We saw that DBSCAN failed to coverge and Agglomerative clustering also suggested similar number of clusters as K-Mean but with lower Silhoutte Score.\n",
    "* We will discuss the implications of our modelling results in next section."
   ]
  },
  {
   "cell_type": "markdown",
   "id": "close-pathology",
   "metadata": {},
   "source": [
    "## 5. Conclusion and Future Directions"
   ]
  },
  {
   "cell_type": "markdown",
   "id": "widespread-silly",
   "metadata": {},
   "source": [
    "In conclusion, we can conclude that Kmeans provides the best clustering results with optimal number of clusters somewhere between 50 to 55.\n",
    "\n",
    "Going further, in future we may improve our modelling performance by,\n",
    "\n",
    "* At the time of feature extraction we only used unigrams and bigrams, we can also use further higher degree of feature such as trigram (combination of three words)\n",
    "* The no of components that we used for further modelling was fixed to 70. However, we may try to further minimize the components and check the explained variance to chose the optimal number. We can then use the new components to again perform the clustering to check for any improved performance.\n",
    "* While training DBSCAN Clustering algorightm I failed to obtain any convergence. Maybe we can try for even larger or smaller values of eps and min_samples to check for convergence.\n",
    "* Both KMEANS as well as the Agglomerative clustering methods suggest that the optimal number of clusters is somewhere between 55-60. This may be useful for re-classifying our original dataset and resduce the number of features to the optimal cluster numbers. This would be the final outcome of our project."
   ]
  },
  {
   "cell_type": "markdown",
   "id": "curious-decrease",
   "metadata": {},
   "source": [
    "## Thank You, for visiting my page and going through this notebook."
   ]
  },
  {
   "cell_type": "markdown",
   "id": "interior-bibliography",
   "metadata": {},
   "source": [
    "# CIAO !!"
   ]
  }
 ],
 "metadata": {
  "kernelspec": {
   "display_name": "Python 3",
   "language": "python",
   "name": "python3"
  },
  "language_info": {
   "codemirror_mode": {
    "name": "ipython",
    "version": 3
   },
   "file_extension": ".py",
   "mimetype": "text/x-python",
   "name": "python",
   "nbconvert_exporter": "python",
   "pygments_lexer": "ipython3",
   "version": "3.9.7"
  }
 },
 "nbformat": 4,
 "nbformat_minor": 5
}
