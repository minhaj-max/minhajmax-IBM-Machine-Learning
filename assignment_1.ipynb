{
 "cells": [
  {
   "cell_type": "code",
   "execution_count": 1,
   "id": "infinite-photographer",
   "metadata": {},
   "outputs": [],
   "source": [
    "import pandas as pd\n",
    "import numpy as np\n",
    "import matplotlib.pyplot as plt\n",
    "import seaborn as sns\n",
    "%matplotlib inline"
   ]
  },
  {
   "cell_type": "code",
   "execution_count": 2,
   "id": "progressive-interference",
   "metadata": {},
   "outputs": [
    {
     "data": {
      "text/html": [
       "<div>\n",
       "<style scoped>\n",
       "    .dataframe tbody tr th:only-of-type {\n",
       "        vertical-align: middle;\n",
       "    }\n",
       "\n",
       "    .dataframe tbody tr th {\n",
       "        vertical-align: top;\n",
       "    }\n",
       "\n",
       "    .dataframe thead th {\n",
       "        text-align: right;\n",
       "    }\n",
       "</style>\n",
       "<table border=\"1\" class=\"dataframe\">\n",
       "  <thead>\n",
       "    <tr style=\"text-align: right;\">\n",
       "      <th></th>\n",
       "      <th>Formatted Date</th>\n",
       "      <th>Summary</th>\n",
       "      <th>Precip Type</th>\n",
       "      <th>Temperature (C)</th>\n",
       "      <th>Apparent Temperature (C)</th>\n",
       "      <th>Humidity</th>\n",
       "      <th>Wind Speed (km/h)</th>\n",
       "      <th>Wind Bearing (degrees)</th>\n",
       "      <th>Visibility (km)</th>\n",
       "      <th>Loud Cover</th>\n",
       "      <th>Pressure (millibars)</th>\n",
       "      <th>Daily Summary</th>\n",
       "    </tr>\n",
       "  </thead>\n",
       "  <tbody>\n",
       "    <tr>\n",
       "      <th>0</th>\n",
       "      <td>2006-04-01 00:00:00.000 +0200</td>\n",
       "      <td>Partly Cloudy</td>\n",
       "      <td>rain</td>\n",
       "      <td>9.472222</td>\n",
       "      <td>7.388889</td>\n",
       "      <td>0.89</td>\n",
       "      <td>14.1197</td>\n",
       "      <td>251.0</td>\n",
       "      <td>15.8263</td>\n",
       "      <td>0.0</td>\n",
       "      <td>1015.13</td>\n",
       "      <td>Partly cloudy throughout the day.</td>\n",
       "    </tr>\n",
       "    <tr>\n",
       "      <th>1</th>\n",
       "      <td>2006-04-01 01:00:00.000 +0200</td>\n",
       "      <td>Partly Cloudy</td>\n",
       "      <td>rain</td>\n",
       "      <td>9.355556</td>\n",
       "      <td>7.227778</td>\n",
       "      <td>0.86</td>\n",
       "      <td>14.2646</td>\n",
       "      <td>259.0</td>\n",
       "      <td>15.8263</td>\n",
       "      <td>0.0</td>\n",
       "      <td>1015.63</td>\n",
       "      <td>Partly cloudy throughout the day.</td>\n",
       "    </tr>\n",
       "    <tr>\n",
       "      <th>2</th>\n",
       "      <td>2006-04-01 02:00:00.000 +0200</td>\n",
       "      <td>Mostly Cloudy</td>\n",
       "      <td>rain</td>\n",
       "      <td>9.377778</td>\n",
       "      <td>9.377778</td>\n",
       "      <td>0.89</td>\n",
       "      <td>3.9284</td>\n",
       "      <td>204.0</td>\n",
       "      <td>14.9569</td>\n",
       "      <td>0.0</td>\n",
       "      <td>1015.94</td>\n",
       "      <td>Partly cloudy throughout the day.</td>\n",
       "    </tr>\n",
       "    <tr>\n",
       "      <th>3</th>\n",
       "      <td>2006-04-01 03:00:00.000 +0200</td>\n",
       "      <td>Partly Cloudy</td>\n",
       "      <td>rain</td>\n",
       "      <td>8.288889</td>\n",
       "      <td>5.944444</td>\n",
       "      <td>0.83</td>\n",
       "      <td>14.1036</td>\n",
       "      <td>269.0</td>\n",
       "      <td>15.8263</td>\n",
       "      <td>0.0</td>\n",
       "      <td>1016.41</td>\n",
       "      <td>Partly cloudy throughout the day.</td>\n",
       "    </tr>\n",
       "    <tr>\n",
       "      <th>4</th>\n",
       "      <td>2006-04-01 04:00:00.000 +0200</td>\n",
       "      <td>Mostly Cloudy</td>\n",
       "      <td>rain</td>\n",
       "      <td>8.755556</td>\n",
       "      <td>6.977778</td>\n",
       "      <td>0.83</td>\n",
       "      <td>11.0446</td>\n",
       "      <td>259.0</td>\n",
       "      <td>15.8263</td>\n",
       "      <td>0.0</td>\n",
       "      <td>1016.51</td>\n",
       "      <td>Partly cloudy throughout the day.</td>\n",
       "    </tr>\n",
       "  </tbody>\n",
       "</table>\n",
       "</div>"
      ],
      "text/plain": [
       "                  Formatted Date        Summary Precip Type  Temperature (C)  \\\n",
       "0  2006-04-01 00:00:00.000 +0200  Partly Cloudy        rain         9.472222   \n",
       "1  2006-04-01 01:00:00.000 +0200  Partly Cloudy        rain         9.355556   \n",
       "2  2006-04-01 02:00:00.000 +0200  Mostly Cloudy        rain         9.377778   \n",
       "3  2006-04-01 03:00:00.000 +0200  Partly Cloudy        rain         8.288889   \n",
       "4  2006-04-01 04:00:00.000 +0200  Mostly Cloudy        rain         8.755556   \n",
       "\n",
       "   Apparent Temperature (C)  Humidity  Wind Speed (km/h)  \\\n",
       "0                  7.388889      0.89            14.1197   \n",
       "1                  7.227778      0.86            14.2646   \n",
       "2                  9.377778      0.89             3.9284   \n",
       "3                  5.944444      0.83            14.1036   \n",
       "4                  6.977778      0.83            11.0446   \n",
       "\n",
       "   Wind Bearing (degrees)  Visibility (km)  Loud Cover  Pressure (millibars)  \\\n",
       "0                   251.0          15.8263         0.0               1015.13   \n",
       "1                   259.0          15.8263         0.0               1015.63   \n",
       "2                   204.0          14.9569         0.0               1015.94   \n",
       "3                   269.0          15.8263         0.0               1016.41   \n",
       "4                   259.0          15.8263         0.0               1016.51   \n",
       "\n",
       "                       Daily Summary  \n",
       "0  Partly cloudy throughout the day.  \n",
       "1  Partly cloudy throughout the day.  \n",
       "2  Partly cloudy throughout the day.  \n",
       "3  Partly cloudy throughout the day.  \n",
       "4  Partly cloudy throughout the day.  "
      ]
     },
     "execution_count": 2,
     "metadata": {},
     "output_type": "execute_result"
    }
   ],
   "source": [
    "df_weather = pd.read_csv('weatherHistory.csv')\n",
    "df_weather.head()"
   ]
  },
  {
   "cell_type": "code",
   "execution_count": 3,
   "id": "arbitrary-strengthening",
   "metadata": {},
   "outputs": [
    {
     "name": "stdout",
     "output_type": "stream",
     "text": [
      "Total number of observations 96453\n"
     ]
    },
    {
     "data": {
      "text/plain": [
       "Formatted Date              96429\n",
       "Summary                        27\n",
       "Precip Type                     2\n",
       "Temperature (C)              7574\n",
       "Apparent Temperature (C)     8984\n",
       "Humidity                       90\n",
       "Wind Speed (km/h)            2484\n",
       "Wind Bearing (degrees)        360\n",
       "Visibility (km)               949\n",
       "Loud Cover                      1\n",
       "Pressure (millibars)         4979\n",
       "Daily Summary                 214\n",
       "dtype: int64"
      ]
     },
     "execution_count": 3,
     "metadata": {},
     "output_type": "execute_result"
    }
   ],
   "source": [
    "print(f'Total number of observations {df_weather.shape[0]}')\n",
    "df_weather.nunique()"
   ]
  },
  {
   "cell_type": "code",
   "execution_count": 4,
   "id": "streaming-dollar",
   "metadata": {},
   "outputs": [
    {
     "name": "stdout",
     "output_type": "stream",
     "text": [
      "Formatted Date: 96453\n",
      "False\n",
      "Summary: 96453\n",
      "False\n",
      "Precip Type: 95936\n",
      "True\n",
      "Temperature (C): 96453\n",
      "False\n",
      "Apparent Temperature (C): 96453\n",
      "False\n",
      "Humidity: 96453\n",
      "False\n",
      "Wind Speed (km/h): 96453\n",
      "False\n",
      "Wind Bearing (degrees): 96453\n",
      "False\n",
      "Visibility (km): 96453\n",
      "False\n",
      "Loud Cover: 96453\n",
      "False\n",
      "Pressure (millibars): 96453\n",
      "False\n",
      "Daily Summary: 96453\n",
      "False\n"
     ]
    }
   ],
   "source": [
    "for column in df_weather.columns:\n",
    "    print(f'{column}: {df_weather[column].count()}')\n",
    "    print(df_weather[column].isnull().any())"
   ]
  },
  {
   "cell_type": "code",
   "execution_count": 5,
   "id": "inclusive-broad",
   "metadata": {},
   "outputs": [
    {
     "data": {
      "text/plain": [
       "rain    85224\n",
       "snow    10712\n",
       "Name: Precip Type, dtype: int64"
      ]
     },
     "execution_count": 5,
     "metadata": {},
     "output_type": "execute_result"
    }
   ],
   "source": [
    "df_weather['Precip Type'].value_counts()"
   ]
  },
  {
   "cell_type": "code",
   "execution_count": 6,
   "id": "incorrect-seller",
   "metadata": {},
   "outputs": [],
   "source": [
    "df_weather['Precip Type'] = df_weather['Precip Type'].fillna('rain')"
   ]
  },
  {
   "cell_type": "code",
   "execution_count": 7,
   "id": "breathing-spending",
   "metadata": {},
   "outputs": [
    {
     "name": "stdout",
     "output_type": "stream",
     "text": [
      "Formatted Date: 96453\n",
      "False\n",
      "Summary: 96453\n",
      "False\n",
      "Precip Type: 96453\n",
      "False\n",
      "Temperature (C): 96453\n",
      "False\n",
      "Apparent Temperature (C): 96453\n",
      "False\n",
      "Humidity: 96453\n",
      "False\n",
      "Wind Speed (km/h): 96453\n",
      "False\n",
      "Wind Bearing (degrees): 96453\n",
      "False\n",
      "Visibility (km): 96453\n",
      "False\n",
      "Loud Cover: 96453\n",
      "False\n",
      "Pressure (millibars): 96453\n",
      "False\n",
      "Daily Summary: 96453\n",
      "False\n"
     ]
    }
   ],
   "source": [
    "for column in df_weather.columns:\n",
    "    print(f'{column}: {df_weather[column].count()}')\n",
    "    print(df_weather[column].isnull().any())"
   ]
  },
  {
   "cell_type": "code",
   "execution_count": 8,
   "id": "brutal-section",
   "metadata": {},
   "outputs": [
    {
     "data": {
      "image/png": "[encoded data removed]",
      "text/plain": [
       "<Figure size 432x288 with 1 Axes>"
      ]
     },
     "metadata": {
      "needs_background": "light"
     },
     "output_type": "display_data"
    }
   ],
   "source": [
    "ax = plt.axes()\n",
    "ax.hist(df_weather['Temperature (C)'], bins=25);"
   ]
  },
  {
   "cell_type": "code",
   "execution_count": 9,
   "id": "bridal-audit",
   "metadata": {},
   "outputs": [
    {
     "data": {
      "text/plain": [
       "count    96453.000000\n",
       "mean        11.932678\n",
       "std          9.551546\n",
       "min        -21.822222\n",
       "25%          4.688889\n",
       "50%         12.000000\n",
       "75%         18.838889\n",
       "max         39.905556\n",
       "Name: Temperature (C), dtype: float64"
      ]
     },
     "execution_count": 9,
     "metadata": {},
     "output_type": "execute_result"
    }
   ],
   "source": [
    "df_weather['Temperature (C)'].describe()"
   ]
  },
  {
   "cell_type": "code",
   "execution_count": 9,
   "id": "seasonal-notice",
   "metadata": {},
   "outputs": [],
   "source": [
    "df_weather[log_columns] = df_weather[log_columns].apply(np.log1p)"
   ]
  },
  {
   "cell_type": "code",
   "execution_count": 11,
   "id": "international-grocery",
   "metadata": {},
   "outputs": [
    {
     "data": {
      "image/png": "[encoded data removed]",
      "text/plain": [
       "<Figure size 432x288 with 1 Axes>"
      ]
     },
     "metadata": {
      "needs_background": "light"
     },
     "output_type": "display_data"
    }
   ],
   "source": [
    "ax = plt.axes()\n",
    "ax.hist(df_weather['Temperature (C)'], bins=25);"
   ]
  },
  {
   "cell_type": "code",
   "execution_count": 12,
   "id": "alpha-liver",
   "metadata": {},
   "outputs": [
    {
     "data": {
      "text/plain": [
       "count    96453.000000\n",
       "mean        11.932678\n",
       "std          9.551546\n",
       "min        -21.822222\n",
       "25%          4.688889\n",
       "50%         12.000000\n",
       "75%         18.838889\n",
       "max         39.905556\n",
       "Name: Temperature (C), dtype: float64"
      ]
     },
     "execution_count": 12,
     "metadata": {},
     "output_type": "execute_result"
    }
   ],
   "source": [
    "df_weather['Temperature (C)'].describe()"
   ]
  },
  {
   "cell_type": "code",
   "execution_count": 13,
   "id": "typical-consumption",
   "metadata": {},
   "outputs": [
    {
     "data": {
      "image/png": "[encoded data removed]",
      "text/plain": [
       "<Figure size 432x288 with 2 Axes>"
      ]
     },
     "metadata": {
      "needs_background": "light"
     },
     "output_type": "display_data"
    }
   ],
   "source": [
    "heatmap = sns.heatmap(df_weather. corr(), annot=True)"
   ]
  },
  {
   "cell_type": "code",
   "execution_count": 14,
   "id": "stock-marine",
   "metadata": {},
   "outputs": [
    {
     "data": {
      "text/plain": [
       "<matplotlib.collections.PathCollection at 0x2aa67420730>"
      ]
     },
     "execution_count": 14,
     "metadata": {},
     "output_type": "execute_result"
    },
    {
     "data": {
      "image/png": "[encoded data removed]",
      "text/plain": [
       "<Figure size 432x288 with 1 Axes>"
      ]
     },
     "metadata": {
      "needs_background": "light"
     },
     "output_type": "display_data"
    }
   ],
   "source": [
    "ax = plt.axes()\n",
    "ax.scatter(y = df_weather['Temperature (C)'], x = df_weather['Humidity'])"
   ]
  },
  {
   "cell_type": "markdown",
   "id": "quiet-heart",
   "metadata": {},
   "source": [
    "### Statement 1 - Does precipitation play significant role in predicting temperature?\n",
    "\n",
    "### Null Hypothesis: There is no significant difference between the mean temperature on rainy and non-rainy days\n",
    "\n",
    "### Alternate Hypothesis: There is a significant difference between the mean temperature on rainy and non-rainy days"
   ]
  },
  {
   "cell_type": "code",
   "execution_count": 10,
   "id": "absolute-dispute",
   "metadata": {},
   "outputs": [],
   "source": [
    "M_mean = df_weather.loc[df_weather['Precip Type'] == 'rain', 'Temperature (C)'].mean()\n",
    "F_mean = df_weather.loc[df_weather['Precip Type'] == 'snow', 'Temperature (C)'].mean()\n",
    "M_std = df_weather.loc[df_weather['Precip Type'] == 'rain', 'Temperature (C)'].std()\n",
    "F_std = df_weather.loc[df_weather['Precip Type'] == 'snow', 'Temperature (C)'].std()\n",
    "no_of_M = df_weather.loc[df_weather['Precip Type'] == 'rain', 'Temperature (C)'].count()\n",
    "no_of_F = df_weather.loc[df_weather['Precip Type'] == 'snow', 'Temperature (C)'].count()"
   ]
  },
  {
   "cell_type": "code",
   "execution_count": 16,
   "id": "focal-riding",
   "metadata": {},
   "outputs": [],
   "source": [
    "from scipy.stats import norm"
   ]
  },
  {
   "cell_type": "code",
   "execution_count": 17,
   "id": "involved-campbell",
   "metadata": {},
   "outputs": [
    {
     "name": "stdout",
     "output_type": "stream",
     "text": [
      "416.38 0.0\n"
     ]
    }
   ],
   "source": [
    "def twoSampZ(X1, X2, mudiff, sd1, sd2, n1, n2):\n",
    "    pooledSE = np.sqrt(sd1**2/n1 + sd2**2/n2)\n",
    "    z = ((X1 - X2) - mudiff)/pooledSE\n",
    "    pval = 2*(1 - norm.cdf(abs(z)))\n",
    "    return round(z,3), pval\n",
    "z,p= twoSampZ(M_mean,F_mean,0,M_std,F_std,no_of_M,no_of_F)\n",
    "print(z, p)"
   ]
  },
  {
   "cell_type": "code",
   "execution_count": 41,
   "id": "marked-thousand",
   "metadata": {},
   "outputs": [
    {
     "name": "stdout",
     "output_type": "stream",
     "text": [
      "416.38 0.0\n"
     ]
    }
   ],
   "source": [
    "import statsmodels.stats.weightstats as ws\n",
    "    \n",
    "col1 = ws.DescrStatsW(df_weather.loc[df_weather['Precip Type'] == 'rain', 'Temperature (C)'])\n",
    "col2 = ws.DescrStatsW(df_weather.loc[df_weather['Precip Type'] == 'snow', 'Temperature (C)'])\n",
    "\n",
    "cm_obj = ws.CompareMeans(col1, col2)\n",
    "\n",
    "zstat, z_pval = cm_obj.ztest_ind(usevar='unequal')\n",
    "\n",
    "print(zstat.round(3), z_pval.round(3))"
   ]
  },
  {
   "cell_type": "code",
   "execution_count": 43,
   "id": "voluntary-baking",
   "metadata": {},
   "outputs": [],
   "source": [
    "from scipy.stats import ttest_ind"
   ]
  },
  {
   "cell_type": "code",
   "execution_count": 44,
   "id": "absent-contents",
   "metadata": {},
   "outputs": [
    {
     "data": {
      "text/plain": [
       "Ttest_indResult(statistic=416.37958029244624, pvalue=0.0)"
      ]
     },
     "execution_count": 44,
     "metadata": {},
     "output_type": "execute_result"
    }
   ],
   "source": [
    "ttest_ind(df_weather.loc[df_weather['Precip Type'] == 'rain', 'Temperature (C)'],\n",
    "          df_weather.loc[df_weather['Precip Type'] == 'snow', 'Temperature (C)'],\n",
    "          equal_var = False\n",
    "         )"
   ]
  },
  {
   "cell_type": "markdown",
   "id": "demonstrated-enforcement",
   "metadata": {},
   "source": [
    "### Thus we can reject the null hypothesis; and retain the precipitation type feature"
   ]
  },
  {
   "cell_type": "markdown",
   "id": "assigned-watson",
   "metadata": {},
   "source": [
    "### Statement 2 - Does mean temperature varies significantly for different summaries?\n",
    "\n",
    "### Null Hypothesis: There is no significant difference between the mean temperature among different summary group\n",
    "\n",
    "### Alternate Hypothesis: There is significant difference between the mean temperature among different summary group"
   ]
  },
  {
   "cell_type": "markdown",
   "id": "casual-banks",
   "metadata": {},
   "source": [
    "### Statement 3 - Does the temperature is normaly distributed?\n",
    "\n",
    "### Null Hypothesis: The temperature is normally distributed\n",
    "\n",
    "### Alternate Hypothesis: The temperature is not normally distributed"
   ]
  },
  {
   "cell_type": "code",
   "execution_count": 45,
   "id": "aggressive-custody",
   "metadata": {},
   "outputs": [],
   "source": [
    "from scipy.stats.mstats import normaltest"
   ]
  },
  {
   "cell_type": "code",
   "execution_count": 46,
   "id": "heard-genetics",
   "metadata": {},
   "outputs": [
    {
     "data": {
      "text/plain": [
       "NormaltestResult(statistic=2781.31464301078, pvalue=0.0)"
      ]
     },
     "execution_count": 46,
     "metadata": {},
     "output_type": "execute_result"
    }
   ],
   "source": [
    "normaltest(df_weather['Temperature (C)'].values)"
   ]
  },
  {
   "cell_type": "code",
   "execution_count": 26,
   "id": "million-mention",
   "metadata": {},
   "outputs": [
    {
     "data": {
      "text/plain": [
       "NormaltestResult(statistic=9869.911805254162, pvalue=0.0)"
      ]
     },
     "execution_count": 26,
     "metadata": {},
     "output_type": "execute_result"
    }
   ],
   "source": [
    "normaltest(df_weather['Humidity'])"
   ]
  },
  {
   "cell_type": "code",
   "execution_count": 28,
   "id": "hindu-entrepreneur",
   "metadata": {},
   "outputs": [
    {
     "data": {
      "text/plain": [
       "array([0.63657683, 0.62057649, 0.63657683, ..., 0.44468582, 0.47000363,\n",
       "       0.47623418])"
      ]
     },
     "execution_count": 28,
     "metadata": {},
     "output_type": "execute_result"
    }
   ],
   "source": [
    "df_weather['Humidity'].values"
   ]
  },
  {
   "cell_type": "code",
   "execution_count": null,
   "id": "happy-monthly",
   "metadata": {},
   "outputs": [],
   "source": []
  }
 ],
 "metadata": {
  "kernelspec": {
   "display_name": "Python 3",
   "language": "python",
   "name": "python3"
  },
  "language_info": {
   "codemirror_mode": {
    "name": "ipython",
    "version": 3
   },
   "file_extension": ".py",
   "mimetype": "text/x-python",
   "name": "python",
   "nbconvert_exporter": "python",
   "pygments_lexer": "ipython3",
   "version": "3.9.7"
  }
 },
 "nbformat": 4,
 "nbformat_minor": 5
}
