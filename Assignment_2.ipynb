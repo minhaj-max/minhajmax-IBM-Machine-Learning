{
 "cells": [
  {
   "cell_type": "markdown",
   "id": "metallic-casino",
   "metadata": {},
   "source": [
    "## Weather in Szeged 2006-2016\n",
    "### Regression based analysis for predicting apparent temperatures based on Hourly/daily weather summary with temperature, pressure, wind speed and more parameters"
   ]
  },
  {
   "cell_type": "code",
   "execution_count": 1,
   "id": "theoretical-xerox",
   "metadata": {},
   "outputs": [],
   "source": [
    "import pandas as pd\n",
    "import numpy as np\n",
    "import matplotlib.pyplot as plt\n",
    "import seaborn as sns\n",
    "import pickle as pkl\n",
    "%matplotlib inline"
   ]
  },
  {
   "cell_type": "markdown",
   "id": "bulgarian-sponsorship",
   "metadata": {},
   "source": [
    "### 1. Importing Data"
   ]
  },
  {
   "cell_type": "markdown",
   "id": "median-incentive",
   "metadata": {},
   "source": [
    "The data consists of weather information for a location called szeged in hungary. It is an historical meteorological data collected over the period of 10 years from 2006 to 2016"
   ]
  },
  {
   "cell_type": "code",
   "execution_count": 2,
   "id": "interior-basketball",
   "metadata": {},
   "outputs": [
    {
     "data": {
      "text/html": [
       "<div>\n",
       "<style scoped>\n",
       "    .dataframe tbody tr th:only-of-type {\n",
       "        vertical-align: middle;\n",
       "    }\n",
       "\n",
       "    .dataframe tbody tr th {\n",
       "        vertical-align: top;\n",
       "    }\n",
       "\n",
       "    .dataframe thead th {\n",
       "        text-align: right;\n",
       "    }\n",
       "</style>\n",
       "<table border=\"1\" class=\"dataframe\">\n",
       "  <thead>\n",
       "    <tr style=\"text-align: right;\">\n",
       "      <th></th>\n",
       "      <th>Formatted Date</th>\n",
       "      <th>Summary</th>\n",
       "      <th>Precip Type</th>\n",
       "      <th>Temperature (C)</th>\n",
       "      <th>Apparent Temperature (C)</th>\n",
       "      <th>Humidity</th>\n",
       "      <th>Wind Speed (km/h)</th>\n",
       "      <th>Wind Bearing (degrees)</th>\n",
       "      <th>Visibility (km)</th>\n",
       "      <th>Loud Cover</th>\n",
       "      <th>Pressure (millibars)</th>\n",
       "      <th>Daily Summary</th>\n",
       "    </tr>\n",
       "  </thead>\n",
       "  <tbody>\n",
       "    <tr>\n",
       "      <th>0</th>\n",
       "      <td>2006-04-01 00:00:00.000 +0200</td>\n",
       "      <td>Partly Cloudy</td>\n",
       "      <td>rain</td>\n",
       "      <td>9.472222</td>\n",
       "      <td>7.388889</td>\n",
       "      <td>0.89</td>\n",
       "      <td>14.1197</td>\n",
       "      <td>251.0</td>\n",
       "      <td>15.8263</td>\n",
       "      <td>0.0</td>\n",
       "      <td>1015.13</td>\n",
       "      <td>Partly cloudy throughout the day.</td>\n",
       "    </tr>\n",
       "    <tr>\n",
       "      <th>1</th>\n",
       "      <td>2006-04-01 01:00:00.000 +0200</td>\n",
       "      <td>Partly Cloudy</td>\n",
       "      <td>rain</td>\n",
       "      <td>9.355556</td>\n",
       "      <td>7.227778</td>\n",
       "      <td>0.86</td>\n",
       "      <td>14.2646</td>\n",
       "      <td>259.0</td>\n",
       "      <td>15.8263</td>\n",
       "      <td>0.0</td>\n",
       "      <td>1015.63</td>\n",
       "      <td>Partly cloudy throughout the day.</td>\n",
       "    </tr>\n",
       "    <tr>\n",
       "      <th>2</th>\n",
       "      <td>2006-04-01 02:00:00.000 +0200</td>\n",
       "      <td>Mostly Cloudy</td>\n",
       "      <td>rain</td>\n",
       "      <td>9.377778</td>\n",
       "      <td>9.377778</td>\n",
       "      <td>0.89</td>\n",
       "      <td>3.9284</td>\n",
       "      <td>204.0</td>\n",
       "      <td>14.9569</td>\n",
       "      <td>0.0</td>\n",
       "      <td>1015.94</td>\n",
       "      <td>Partly cloudy throughout the day.</td>\n",
       "    </tr>\n",
       "    <tr>\n",
       "      <th>3</th>\n",
       "      <td>2006-04-01 03:00:00.000 +0200</td>\n",
       "      <td>Partly Cloudy</td>\n",
       "      <td>rain</td>\n",
       "      <td>8.288889</td>\n",
       "      <td>5.944444</td>\n",
       "      <td>0.83</td>\n",
       "      <td>14.1036</td>\n",
       "      <td>269.0</td>\n",
       "      <td>15.8263</td>\n",
       "      <td>0.0</td>\n",
       "      <td>1016.41</td>\n",
       "      <td>Partly cloudy throughout the day.</td>\n",
       "    </tr>\n",
       "    <tr>\n",
       "      <th>4</th>\n",
       "      <td>2006-04-01 04:00:00.000 +0200</td>\n",
       "      <td>Mostly Cloudy</td>\n",
       "      <td>rain</td>\n",
       "      <td>8.755556</td>\n",
       "      <td>6.977778</td>\n",
       "      <td>0.83</td>\n",
       "      <td>11.0446</td>\n",
       "      <td>259.0</td>\n",
       "      <td>15.8263</td>\n",
       "      <td>0.0</td>\n",
       "      <td>1016.51</td>\n",
       "      <td>Partly cloudy throughout the day.</td>\n",
       "    </tr>\n",
       "  </tbody>\n",
       "</table>\n",
       "</div>"
      ],
      "text/plain": [
       "                  Formatted Date        Summary Precip Type  Temperature (C)  \\\n",
       "0  2006-04-01 00:00:00.000 +0200  Partly Cloudy        rain         9.472222   \n",
       "1  2006-04-01 01:00:00.000 +0200  Partly Cloudy        rain         9.355556   \n",
       "2  2006-04-01 02:00:00.000 +0200  Mostly Cloudy        rain         9.377778   \n",
       "3  2006-04-01 03:00:00.000 +0200  Partly Cloudy        rain         8.288889   \n",
       "4  2006-04-01 04:00:00.000 +0200  Mostly Cloudy        rain         8.755556   \n",
       "\n",
       "   Apparent Temperature (C)  Humidity  Wind Speed (km/h)  \\\n",
       "0                  7.388889      0.89            14.1197   \n",
       "1                  7.227778      0.86            14.2646   \n",
       "2                  9.377778      0.89             3.9284   \n",
       "3                  5.944444      0.83            14.1036   \n",
       "4                  6.977778      0.83            11.0446   \n",
       "\n",
       "   Wind Bearing (degrees)  Visibility (km)  Loud Cover  Pressure (millibars)  \\\n",
       "0                   251.0          15.8263         0.0               1015.13   \n",
       "1                   259.0          15.8263         0.0               1015.63   \n",
       "2                   204.0          14.9569         0.0               1015.94   \n",
       "3                   269.0          15.8263         0.0               1016.41   \n",
       "4                   259.0          15.8263         0.0               1016.51   \n",
       "\n",
       "                       Daily Summary  \n",
       "0  Partly cloudy throughout the day.  \n",
       "1  Partly cloudy throughout the day.  \n",
       "2  Partly cloudy throughout the day.  \n",
       "3  Partly cloudy throughout the day.  \n",
       "4  Partly cloudy throughout the day.  "
      ]
     },
     "execution_count": 2,
     "metadata": {},
     "output_type": "execute_result"
    }
   ],
   "source": [
    "df_weather = pd.read_csv('weatherHistory.csv')\n",
    "df_weather.head()"
   ]
  },
  {
   "cell_type": "code",
   "execution_count": 3,
   "id": "complex-alberta",
   "metadata": {},
   "outputs": [
    {
     "name": "stdout",
     "output_type": "stream",
     "text": [
      "The total number of attributes are 12\n",
      "The total number of observations are 96453\n"
     ]
    }
   ],
   "source": [
    "#Let us now see how many observations that we have and how many attributes are available\n",
    "\n",
    "print(f'The total number of attributes are {df_weather.shape[1]}')\n",
    "print(f'The total number of observations are {df_weather.shape[0]}')"
   ]
  },
  {
   "cell_type": "markdown",
   "id": "hispanic-philosophy",
   "metadata": {},
   "source": [
    "The target of this machine learning exercise is to identify the best model to predict the apparent temperature using the input variables available in the data set.\n",
    "\n",
    "Apparent temperature is the temperature equivalent perceived by humans, caused by the combined effects of air temperature, relative humidity and wind speed. We will be focussing more on the prediction rather the interpretation of the results. This is because we already know the major factors which actually impact the Apparent temperature."
   ]
  },
  {
   "cell_type": "markdown",
   "id": "developmental-fabric",
   "metadata": {},
   "source": [
    "### 2. Data Cleaning and Wrangling"
   ]
  },
  {
   "cell_type": "code",
   "execution_count": 4,
   "id": "adapted-popularity",
   "metadata": {},
   "outputs": [
    {
     "data": {
      "text/plain": [
       "Formatted Date               object\n",
       "Summary                      object\n",
       "Precip Type                  object\n",
       "Temperature (C)             float64\n",
       "Apparent Temperature (C)    float64\n",
       "Humidity                    float64\n",
       "Wind Speed (km/h)           float64\n",
       "Wind Bearing (degrees)      float64\n",
       "Visibility (km)             float64\n",
       "Loud Cover                  float64\n",
       "Pressure (millibars)        float64\n",
       "Daily Summary                object\n",
       "dtype: object"
      ]
     },
     "execution_count": 4,
     "metadata": {},
     "output_type": "execute_result"
    }
   ],
   "source": [
    "## Let us check the datatypes of the input variables\n",
    "\n",
    "df_weather.dtypes"
   ]
  },
  {
   "cell_type": "code",
   "execution_count": 5,
   "id": "induced-column",
   "metadata": {},
   "outputs": [],
   "source": [
    "### First of all lets us separate the columns based on dtypes.\n",
    "\n",
    "maskfloat = df_weather.dtypes == float\n",
    "columns_float = df_weather.columns[maskfloat]\n",
    "\n",
    "maskobject = df_weather.dtypes == object\n",
    "columns_object = df_weather.columns[maskobject]"
   ]
  },
  {
   "cell_type": "code",
   "execution_count": 6,
   "id": "varied-mirror",
   "metadata": {},
   "outputs": [
    {
     "name": "stdout",
     "output_type": "stream",
     "text": [
      "Temperature (C)             7574\n",
      "Apparent Temperature (C)    8984\n",
      "Humidity                      90\n",
      "Wind Speed (km/h)           2484\n",
      "Wind Bearing (degrees)       360\n",
      "Visibility (km)              949\n",
      "Loud Cover                     1\n",
      "Pressure (millibars)        4979\n",
      "dtype: int64\n",
      "Formatted Date    96429\n",
      "Summary              27\n",
      "Precip Type           2\n",
      "Daily Summary       214\n",
      "dtype: int64\n"
     ]
    }
   ],
   "source": [
    "### let us check no of unique values in each column\n",
    "\n",
    "print(df_weather[columns_float].nunique())\n",
    "print(df_weather[columns_object].nunique())"
   ]
  },
  {
   "cell_type": "markdown",
   "id": "great-outside",
   "metadata": {},
   "source": [
    "* The attribute 'Loud Cover' has only one unique value thus it is not going to add any information to our data\n",
    "* The attribute 'Formatted Date' has distinct values in all its observation and rightly so since it is date and time information. \n",
    "\n",
    "Thus we can drop these two attributes."
   ]
  },
  {
   "cell_type": "code",
   "execution_count": 7,
   "id": "loving-french",
   "metadata": {},
   "outputs": [
    {
     "data": {
      "text/plain": [
       "Formatted Date                0\n",
       "Summary                       0\n",
       "Precip Type                 517\n",
       "Temperature (C)               0\n",
       "Apparent Temperature (C)      0\n",
       "Humidity                      0\n",
       "Wind Speed (km/h)             0\n",
       "Wind Bearing (degrees)        0\n",
       "Visibility (km)               0\n",
       "Loud Cover                    0\n",
       "Pressure (millibars)          0\n",
       "Daily Summary                 0\n",
       "dtype: int64"
      ]
     },
     "execution_count": 7,
     "metadata": {},
     "output_type": "execute_result"
    }
   ],
   "source": [
    "## Now lets check for the missing values\n",
    "\n",
    "df_weather.isnull().sum(axis = 0)"
   ]
  },
  {
   "cell_type": "code",
   "execution_count": 8,
   "id": "hydraulic-attention",
   "metadata": {},
   "outputs": [
    {
     "data": {
      "text/plain": [
       "rain    85224\n",
       "snow    10712\n",
       "Name: Precip Type, dtype: int64"
      ]
     },
     "execution_count": 8,
     "metadata": {},
     "output_type": "execute_result"
    }
   ],
   "source": [
    "# Alright so we have 517 missing values in the columns 'Precip Type', lets treat them first. \n",
    "# For that we need to see what are the existing values in the column\n",
    "\n",
    "df_weather['Precip Type'].value_counts()"
   ]
  },
  {
   "cell_type": "markdown",
   "id": "occupied-halifax",
   "metadata": {},
   "source": [
    "So the column contains is a categorical variable, which contains only two values and they seem to be non-ordinal. Additonally \n",
    "if we delete these variables it will have minimal impact on our total analysis (517 observations out of 96453).\n",
    "So we can drop these observations"
   ]
  },
  {
   "cell_type": "code",
   "execution_count": 9,
   "id": "mineral-surveillance",
   "metadata": {},
   "outputs": [
    {
     "data": {
      "text/plain": [
       "Mostly cloudy throughout the day.                                                         20085\n",
       "Partly cloudy throughout the day.                                                          9981\n",
       "Partly cloudy until night.                                                                 6169\n",
       "Partly cloudy starting in the morning.                                                     5184\n",
       "Foggy in the morning.                                                                      4201\n",
       "                                                                                          ...  \n",
       "Light rain overnight.                                                                        24\n",
       "Overcast starting in the morning.                                                            24\n",
       "Mostly cloudy until night and breezy starting in the morning continuing until evening.       24\n",
       "Mostly cloudy starting in the evening.                                                       24\n",
       "Foggy starting overnight continuing until morning and breezy in the afternoon.               23\n",
       "Name: Daily Summary, Length: 214, dtype: int64"
      ]
     },
     "execution_count": 9,
     "metadata": {},
     "output_type": "execute_result"
    }
   ],
   "source": [
    "# Further lets look in another variable 'Daily summary' to understand it little better\n",
    "\n",
    "df_weather['Daily Summary'].value_counts()"
   ]
  },
  {
   "cell_type": "code",
   "execution_count": 10,
   "id": "active-clear",
   "metadata": {},
   "outputs": [
    {
     "name": "stdout",
     "output_type": "stream",
     "text": [
      "                                                    Temperature (C)\n",
      "Daily Summary                                                      \n",
      "Breezy and foggy starting in the evening.                        24\n",
      "Breezy and foggy until morning.                                  24\n",
      "Breezy and mostly cloudy overnight.                              24\n",
      "Breezy and partly cloudy in the afternoon.                       24\n",
      "Breezy in the morning and foggy in the evening.                  24\n",
      "Breezy in the morning and mostly cloudy startin...               24\n",
      "Breezy in the morning and mostly cloudy startin...               24\n",
      "Breezy in the morning and partly cloudy startin...               24\n",
      "Breezy overnight and mostly cloudy throughout t...               48\n"
     ]
    }
   ],
   "source": [
    "# Let us group by features ['Daily Summary', 'Formatted Date'] and \n",
    "# apply functions to check if the enteries remain same during the day for first 10 daily summaries in dataframe\n",
    "\n",
    "print(df_weather.groupby(['Daily Summary', 'Formatted Date'])['Temperature (C)'].count().to_frame().head(240).sum(level = 0))"
   ]
  },
  {
   "cell_type": "code",
   "execution_count": 11,
   "id": "iraqi-retail",
   "metadata": {},
   "outputs": [
    {
     "name": "stdout",
     "output_type": "stream",
     "text": [
      "                          Temperature (C)\n",
      "Summary                                  \n",
      "Breezy                                 54\n",
      "Breezy and Dry                          1\n",
      "Breezy and Foggy                       35\n",
      "Breezy and Mostly Cloudy              150\n"
     ]
    }
   ],
   "source": [
    "# lets check the same conditions for 'Summary' attribute\n",
    "\n",
    "print(df_weather.groupby(['Summary', 'Formatted Date'])['Temperature (C)'].count().to_frame().head(240).sum(level = 0))"
   ]
  },
  {
   "cell_type": "markdown",
   "id": "dressed-assist",
   "metadata": {},
   "source": [
    "This means that the values in daily summary will remain same for all 24 enteries (24 hours) during the day. On the other hand if you see another variable 'Summary', it changes many times during the day. So, it seems it is safe to say the column daily summary can be dropped without losing any major information."
   ]
  },
  {
   "cell_type": "code",
   "execution_count": 12,
   "id": "activated-scientist",
   "metadata": {},
   "outputs": [
    {
     "data": {
      "text/plain": [
       "Formatted Date                  0\n",
       "Summary                         0\n",
       "Precip Type                     0\n",
       "Temperature (C)               325\n",
       "Apparent Temperature (C)       69\n",
       "Humidity                       22\n",
       "Wind Speed (km/h)            1297\n",
       "Wind Bearing (degrees)       2264\n",
       "Visibility (km)               450\n",
       "Loud Cover                  96453\n",
       "Pressure (millibars)         1288\n",
       "Daily Summary                   0\n",
       "dtype: int64"
      ]
     },
     "execution_count": 12,
     "metadata": {},
     "output_type": "execute_result"
    }
   ],
   "source": [
    "## Let us also check our dataset for zero values as this will create problem, if we are going to do a tranformation exercise.\n",
    "\n",
    "(df_weather == 0).sum()"
   ]
  },
  {
   "cell_type": "markdown",
   "id": "exotic-sphere",
   "metadata": {},
   "source": [
    "We can see that there are many zero values, but all are very much plausible except for pressure which cannot be 0, otherwise we would have vacuum in Szeged. So we can fill values from previous observation."
   ]
  },
  {
   "cell_type": "code",
   "execution_count": 13,
   "id": "japanese-level",
   "metadata": {},
   "outputs": [],
   "source": [
    "df_weather['Pressure (millibars)'] = df_weather['Pressure (millibars)'].replace(0, np.nan).fillna(method = 'pad')"
   ]
  },
  {
   "cell_type": "code",
   "execution_count": 14,
   "id": "hollywood-nickel",
   "metadata": {},
   "outputs": [
    {
     "name": "stdout",
     "output_type": "stream",
     "text": [
      "Remaining no of observations 95936\n"
     ]
    }
   ],
   "source": [
    "#So lets put into all actions that we identified in previous steps.\n",
    "\n",
    "df_weather.dropna(inplace = True)\n",
    "print(f'Remaining no of observations {df_weather.shape[0]}')"
   ]
  },
  {
   "cell_type": "code",
   "execution_count": 15,
   "id": "handled-mentor",
   "metadata": {},
   "outputs": [
    {
     "data": {
      "text/html": [
       "<div>\n",
       "<style scoped>\n",
       "    .dataframe tbody tr th:only-of-type {\n",
       "        vertical-align: middle;\n",
       "    }\n",
       "\n",
       "    .dataframe tbody tr th {\n",
       "        vertical-align: top;\n",
       "    }\n",
       "\n",
       "    .dataframe thead th {\n",
       "        text-align: right;\n",
       "    }\n",
       "</style>\n",
       "<table border=\"1\" class=\"dataframe\">\n",
       "  <thead>\n",
       "    <tr style=\"text-align: right;\">\n",
       "      <th></th>\n",
       "      <th>Summary</th>\n",
       "      <th>Precip Type</th>\n",
       "      <th>Temperature (C)</th>\n",
       "      <th>Apparent Temperature (C)</th>\n",
       "      <th>Humidity</th>\n",
       "      <th>Wind Speed (km/h)</th>\n",
       "      <th>Wind Bearing (degrees)</th>\n",
       "      <th>Visibility (km)</th>\n",
       "      <th>Pressure (millibars)</th>\n",
       "    </tr>\n",
       "  </thead>\n",
       "  <tbody>\n",
       "    <tr>\n",
       "      <th>0</th>\n",
       "      <td>Partly Cloudy</td>\n",
       "      <td>rain</td>\n",
       "      <td>9.472222</td>\n",
       "      <td>7.388889</td>\n",
       "      <td>0.89</td>\n",
       "      <td>14.1197</td>\n",
       "      <td>251.0</td>\n",
       "      <td>15.8263</td>\n",
       "      <td>1015.13</td>\n",
       "    </tr>\n",
       "    <tr>\n",
       "      <th>1</th>\n",
       "      <td>Partly Cloudy</td>\n",
       "      <td>rain</td>\n",
       "      <td>9.355556</td>\n",
       "      <td>7.227778</td>\n",
       "      <td>0.86</td>\n",
       "      <td>14.2646</td>\n",
       "      <td>259.0</td>\n",
       "      <td>15.8263</td>\n",
       "      <td>1015.63</td>\n",
       "    </tr>\n",
       "    <tr>\n",
       "      <th>2</th>\n",
       "      <td>Mostly Cloudy</td>\n",
       "      <td>rain</td>\n",
       "      <td>9.377778</td>\n",
       "      <td>9.377778</td>\n",
       "      <td>0.89</td>\n",
       "      <td>3.9284</td>\n",
       "      <td>204.0</td>\n",
       "      <td>14.9569</td>\n",
       "      <td>1015.94</td>\n",
       "    </tr>\n",
       "    <tr>\n",
       "      <th>3</th>\n",
       "      <td>Partly Cloudy</td>\n",
       "      <td>rain</td>\n",
       "      <td>8.288889</td>\n",
       "      <td>5.944444</td>\n",
       "      <td>0.83</td>\n",
       "      <td>14.1036</td>\n",
       "      <td>269.0</td>\n",
       "      <td>15.8263</td>\n",
       "      <td>1016.41</td>\n",
       "    </tr>\n",
       "    <tr>\n",
       "      <th>4</th>\n",
       "      <td>Mostly Cloudy</td>\n",
       "      <td>rain</td>\n",
       "      <td>8.755556</td>\n",
       "      <td>6.977778</td>\n",
       "      <td>0.83</td>\n",
       "      <td>11.0446</td>\n",
       "      <td>259.0</td>\n",
       "      <td>15.8263</td>\n",
       "      <td>1016.51</td>\n",
       "    </tr>\n",
       "  </tbody>\n",
       "</table>\n",
       "</div>"
      ],
      "text/plain": [
       "         Summary Precip Type  Temperature (C)  Apparent Temperature (C)  \\\n",
       "0  Partly Cloudy        rain         9.472222                  7.388889   \n",
       "1  Partly Cloudy        rain         9.355556                  7.227778   \n",
       "2  Mostly Cloudy        rain         9.377778                  9.377778   \n",
       "3  Partly Cloudy        rain         8.288889                  5.944444   \n",
       "4  Mostly Cloudy        rain         8.755556                  6.977778   \n",
       "\n",
       "   Humidity  Wind Speed (km/h)  Wind Bearing (degrees)  Visibility (km)  \\\n",
       "0      0.89            14.1197                   251.0          15.8263   \n",
       "1      0.86            14.2646                   259.0          15.8263   \n",
       "2      0.89             3.9284                   204.0          14.9569   \n",
       "3      0.83            14.1036                   269.0          15.8263   \n",
       "4      0.83            11.0446                   259.0          15.8263   \n",
       "\n",
       "   Pressure (millibars)  \n",
       "0               1015.13  \n",
       "1               1015.63  \n",
       "2               1015.94  \n",
       "3               1016.41  \n",
       "4               1016.51  "
      ]
     },
     "execution_count": 15,
     "metadata": {},
     "output_type": "execute_result"
    }
   ],
   "source": [
    "# Now lets drop columns\n",
    "\n",
    "df_weather.drop(['Daily Summary', 'Formatted Date', 'Loud Cover'], axis = 1, inplace = True)\n",
    "df_weather.head()"
   ]
  },
  {
   "cell_type": "markdown",
   "id": "tough-minister",
   "metadata": {},
   "source": [
    "### Data Cleaning and Wrangling - Summary\n",
    "\n",
    "* Since we are not doing time-series analysis, I have dropped the Formatted date column from our data\n",
    "* loud cover (I think it is typo for Cloud Cover) attribute is a constant. So we can drop it.\n",
    "* We tested categorical variables such as Precip type, Daily Summary and Summary attributes for information they contribute to the dataset. Preliminary analysis suggests that we can safely drop Daily Summary data as it remains constant over a day.\n",
    "* We also checked the null values and 0 values. We dropped observations with null values in precip type and treated 0 values in pressure column, because if we don't do that, it practically means szeged had perfect vaccum atmosphere for those many time periods!!"
   ]
  },
  {
   "cell_type": "markdown",
   "id": "demonstrated-premiere",
   "metadata": {},
   "source": [
    "### 3. Exploratory Data Analysis"
   ]
  },
  {
   "cell_type": "code",
   "execution_count": 16,
   "id": "aggressive-nerve",
   "metadata": {},
   "outputs": [
    {
     "data": {
      "image/png": "[encoded data removed]",
      "text/plain": [
       "<Figure size 432x288 with 1 Axes>"
      ]
     },
     "metadata": {
      "needs_background": "light"
     },
     "output_type": "display_data"
    }
   ],
   "source": [
    "## Lets first of all check whether output variable is normally distributed or not.\n",
    "plt.hist(df_weather['Apparent Temperature (C)']);"
   ]
  },
  {
   "cell_type": "code",
   "execution_count": 17,
   "id": "swiss-wright",
   "metadata": {},
   "outputs": [
    {
     "data": {
      "text/plain": [
       "-0.05903952688910773"
      ]
     },
     "execution_count": 17,
     "metadata": {},
     "output_type": "execute_result"
    }
   ],
   "source": [
    "# Looks fairly normal. But let us reconfirm using skew method and set our threshold at 0.75. i.e. \n",
    "#if the value is less than -0.75 or greater than 0.75, we will normalize the data\n",
    "\n",
    "df_weather['Apparent Temperature (C)'].skew()"
   ]
  },
  {
   "cell_type": "markdown",
   "id": "headed-karma",
   "metadata": {},
   "source": [
    "So our data is fairly normal, thus we need do not require to peform any kind of normalization operation on the target data."
   ]
  },
  {
   "cell_type": "markdown",
   "id": "foreign-camel",
   "metadata": {},
   "source": [
    "#### 3.1 Categorical Variables"
   ]
  },
  {
   "cell_type": "markdown",
   "id": "historical-aircraft",
   "metadata": {},
   "source": [
    "Next let's check whether our categorical variables add any meaningful information to the model.\n",
    "\n",
    "We have two such variables 'Summary' and 'Precip Type'"
   ]
  },
  {
   "cell_type": "markdown",
   "id": "vietnamese-arthur",
   "metadata": {},
   "source": [
    "#### Statement 1 - Does precipitation play significant role in predicting temperature?\n",
    "\n",
    "#### Null Hypothesis: There is no significant difference between the mean temperature on rainy and non-rainy days\n",
    "\n",
    "#### Alternate Hypothesis: There is a significant difference between the mean temperature on rainy and non-rainy days"
   ]
  },
  {
   "cell_type": "code",
   "execution_count": 18,
   "id": "daily-athletics",
   "metadata": {},
   "outputs": [
    {
     "name": "stdout",
     "output_type": "stream",
     "text": [
      "The null hypothesis can be rejected for values - test statistics: 415.970493705491, p_value: 0.0\n"
     ]
    }
   ],
   "source": [
    "from scipy.stats import ttest_ind\n",
    "\n",
    "test_statistics, p_value = ttest_ind(df_weather.loc[df_weather['Precip Type'] == 'rain', 'Temperature (C)'],\n",
    "                                     df_weather.loc[df_weather['Precip Type'] == 'snow', 'Temperature (C)'],\n",
    "                                     equal_var = False)\n",
    "\n",
    "alpha = 0.025\n",
    "\n",
    "if p_value <= alpha:\n",
    "    print(f'The null hypothesis can be rejected for values - test statistics: {test_statistics}, p_value: {p_value}')\n",
    "    \n",
    "else:\n",
    "    print(f'The null hypothesis can be accepted for values - test statistics: {test_statistics}, p_value: {p_value}')"
   ]
  },
  {
   "cell_type": "markdown",
   "id": "respected-train",
   "metadata": {},
   "source": [
    "Thus we can conclude that the precipitation type does have strong impact on output variable. So we will keep them for analysis and further one hot encode them."
   ]
  },
  {
   "cell_type": "markdown",
   "id": "protected-possible",
   "metadata": {},
   "source": [
    "#### Statement 2 - Does mean temperature varies significantly for different summaries?\n",
    "\n",
    "#### Null Hypothesis: There is no significant difference between the mean temperature among different summary group\n",
    "\n",
    "#### Alternate Hypothesis: There is significant difference between the mean temperature among different summary group"
   ]
  },
  {
   "cell_type": "code",
   "execution_count": 19,
   "id": "applicable-bouquet",
   "metadata": {},
   "outputs": [],
   "source": [
    "from scipy.stats import f_oneway"
   ]
  },
  {
   "cell_type": "code",
   "execution_count": 20,
   "id": "thrown-american",
   "metadata": {},
   "outputs": [
    {
     "name": "stdout",
     "output_type": "stream",
     "text": [
      "The null hypothesis can be rejected for values - test statistics: 415.970493705491, p_value: 0.0\n"
     ]
    }
   ],
   "source": [
    "weather_summary_list = df_weather['Summary'].unique().tolist()\n",
    "\n",
    "summary_group = [df_weather.loc[df_weather['Summary'] == summary, 'Temperature (C)'] for summary in weather_summary_list]\n",
    "\n",
    "F, p_value = f_oneway(*summary_group)\n",
    "\n",
    "alpha = 0.025\n",
    "\n",
    "if p_value <= alpha:\n",
    "    print(f'The null hypothesis can be rejected for values - test statistics: {test_statistics}, p_value: {p_value}')\n",
    "    \n",
    "else:\n",
    "    print(f'The null hypothesis can be accepted for values - test statistics: {test_statistics}, p_value: {p_value}')"
   ]
  },
  {
   "cell_type": "markdown",
   "id": "breeding-extra",
   "metadata": {},
   "source": [
    "Thus all categories under 'Summary' attribute can be converted into features using One-Hot Encoding"
   ]
  },
  {
   "cell_type": "code",
   "execution_count": 21,
   "id": "prescription-scheduling",
   "metadata": {},
   "outputs": [
    {
     "data": {
      "text/html": [
       "<div>\n",
       "<style scoped>\n",
       "    .dataframe tbody tr th:only-of-type {\n",
       "        vertical-align: middle;\n",
       "    }\n",
       "\n",
       "    .dataframe tbody tr th {\n",
       "        vertical-align: top;\n",
       "    }\n",
       "\n",
       "    .dataframe thead th {\n",
       "        text-align: right;\n",
       "    }\n",
       "</style>\n",
       "<table border=\"1\" class=\"dataframe\">\n",
       "  <thead>\n",
       "    <tr style=\"text-align: right;\">\n",
       "      <th></th>\n",
       "      <th>Summary_Breezy</th>\n",
       "      <th>Summary_Breezy and Dry</th>\n",
       "      <th>Summary_Breezy and Foggy</th>\n",
       "      <th>Summary_Breezy and Mostly Cloudy</th>\n",
       "      <th>Summary_Breezy and Overcast</th>\n",
       "      <th>Summary_Breezy and Partly Cloudy</th>\n",
       "      <th>Summary_Clear</th>\n",
       "      <th>Summary_Dangerously Windy and Partly Cloudy</th>\n",
       "      <th>Summary_Drizzle</th>\n",
       "      <th>Summary_Dry</th>\n",
       "      <th>...</th>\n",
       "      <th>Summary_Mostly Cloudy</th>\n",
       "      <th>Summary_Overcast</th>\n",
       "      <th>Summary_Partly Cloudy</th>\n",
       "      <th>Summary_Rain</th>\n",
       "      <th>Summary_Windy</th>\n",
       "      <th>Summary_Windy and Dry</th>\n",
       "      <th>Summary_Windy and Foggy</th>\n",
       "      <th>Summary_Windy and Mostly Cloudy</th>\n",
       "      <th>Summary_Windy and Overcast</th>\n",
       "      <th>Summary_Windy and Partly Cloudy</th>\n",
       "    </tr>\n",
       "  </thead>\n",
       "  <tbody>\n",
       "    <tr>\n",
       "      <th>0</th>\n",
       "      <td>0</td>\n",
       "      <td>0</td>\n",
       "      <td>0</td>\n",
       "      <td>0</td>\n",
       "      <td>0</td>\n",
       "      <td>0</td>\n",
       "      <td>0</td>\n",
       "      <td>0</td>\n",
       "      <td>0</td>\n",
       "      <td>0</td>\n",
       "      <td>...</td>\n",
       "      <td>0</td>\n",
       "      <td>0</td>\n",
       "      <td>1</td>\n",
       "      <td>0</td>\n",
       "      <td>0</td>\n",
       "      <td>0</td>\n",
       "      <td>0</td>\n",
       "      <td>0</td>\n",
       "      <td>0</td>\n",
       "      <td>0</td>\n",
       "    </tr>\n",
       "    <tr>\n",
       "      <th>1</th>\n",
       "      <td>0</td>\n",
       "      <td>0</td>\n",
       "      <td>0</td>\n",
       "      <td>0</td>\n",
       "      <td>0</td>\n",
       "      <td>0</td>\n",
       "      <td>0</td>\n",
       "      <td>0</td>\n",
       "      <td>0</td>\n",
       "      <td>0</td>\n",
       "      <td>...</td>\n",
       "      <td>0</td>\n",
       "      <td>0</td>\n",
       "      <td>1</td>\n",
       "      <td>0</td>\n",
       "      <td>0</td>\n",
       "      <td>0</td>\n",
       "      <td>0</td>\n",
       "      <td>0</td>\n",
       "      <td>0</td>\n",
       "      <td>0</td>\n",
       "    </tr>\n",
       "    <tr>\n",
       "      <th>2</th>\n",
       "      <td>0</td>\n",
       "      <td>0</td>\n",
       "      <td>0</td>\n",
       "      <td>0</td>\n",
       "      <td>0</td>\n",
       "      <td>0</td>\n",
       "      <td>0</td>\n",
       "      <td>0</td>\n",
       "      <td>0</td>\n",
       "      <td>0</td>\n",
       "      <td>...</td>\n",
       "      <td>1</td>\n",
       "      <td>0</td>\n",
       "      <td>0</td>\n",
       "      <td>0</td>\n",
       "      <td>0</td>\n",
       "      <td>0</td>\n",
       "      <td>0</td>\n",
       "      <td>0</td>\n",
       "      <td>0</td>\n",
       "      <td>0</td>\n",
       "    </tr>\n",
       "    <tr>\n",
       "      <th>3</th>\n",
       "      <td>0</td>\n",
       "      <td>0</td>\n",
       "      <td>0</td>\n",
       "      <td>0</td>\n",
       "      <td>0</td>\n",
       "      <td>0</td>\n",
       "      <td>0</td>\n",
       "      <td>0</td>\n",
       "      <td>0</td>\n",
       "      <td>0</td>\n",
       "      <td>...</td>\n",
       "      <td>0</td>\n",
       "      <td>0</td>\n",
       "      <td>1</td>\n",
       "      <td>0</td>\n",
       "      <td>0</td>\n",
       "      <td>0</td>\n",
       "      <td>0</td>\n",
       "      <td>0</td>\n",
       "      <td>0</td>\n",
       "      <td>0</td>\n",
       "    </tr>\n",
       "    <tr>\n",
       "      <th>4</th>\n",
       "      <td>0</td>\n",
       "      <td>0</td>\n",
       "      <td>0</td>\n",
       "      <td>0</td>\n",
       "      <td>0</td>\n",
       "      <td>0</td>\n",
       "      <td>0</td>\n",
       "      <td>0</td>\n",
       "      <td>0</td>\n",
       "      <td>0</td>\n",
       "      <td>...</td>\n",
       "      <td>1</td>\n",
       "      <td>0</td>\n",
       "      <td>0</td>\n",
       "      <td>0</td>\n",
       "      <td>0</td>\n",
       "      <td>0</td>\n",
       "      <td>0</td>\n",
       "      <td>0</td>\n",
       "      <td>0</td>\n",
       "      <td>0</td>\n",
       "    </tr>\n",
       "  </tbody>\n",
       "</table>\n",
       "<p>5 rows × 27 columns</p>\n",
       "</div>"
      ],
      "text/plain": [
       "   Summary_Breezy  Summary_Breezy and Dry  Summary_Breezy and Foggy  \\\n",
       "0               0                       0                         0   \n",
       "1               0                       0                         0   \n",
       "2               0                       0                         0   \n",
       "3               0                       0                         0   \n",
       "4               0                       0                         0   \n",
       "\n",
       "   Summary_Breezy and Mostly Cloudy  Summary_Breezy and Overcast  \\\n",
       "0                                 0                            0   \n",
       "1                                 0                            0   \n",
       "2                                 0                            0   \n",
       "3                                 0                            0   \n",
       "4                                 0                            0   \n",
       "\n",
       "   Summary_Breezy and Partly Cloudy  Summary_Clear  \\\n",
       "0                                 0              0   \n",
       "1                                 0              0   \n",
       "2                                 0              0   \n",
       "3                                 0              0   \n",
       "4                                 0              0   \n",
       "\n",
       "   Summary_Dangerously Windy and Partly Cloudy  Summary_Drizzle  Summary_Dry  \\\n",
       "0                                            0                0            0   \n",
       "1                                            0                0            0   \n",
       "2                                            0                0            0   \n",
       "3                                            0                0            0   \n",
       "4                                            0                0            0   \n",
       "\n",
       "   ...  Summary_Mostly Cloudy  Summary_Overcast  Summary_Partly Cloudy  \\\n",
       "0  ...                      0                 0                      1   \n",
       "1  ...                      0                 0                      1   \n",
       "2  ...                      1                 0                      0   \n",
       "3  ...                      0                 0                      1   \n",
       "4  ...                      1                 0                      0   \n",
       "\n",
       "   Summary_Rain  Summary_Windy  Summary_Windy and Dry  \\\n",
       "0             0              0                      0   \n",
       "1             0              0                      0   \n",
       "2             0              0                      0   \n",
       "3             0              0                      0   \n",
       "4             0              0                      0   \n",
       "\n",
       "   Summary_Windy and Foggy  Summary_Windy and Mostly Cloudy  \\\n",
       "0                        0                                0   \n",
       "1                        0                                0   \n",
       "2                        0                                0   \n",
       "3                        0                                0   \n",
       "4                        0                                0   \n",
       "\n",
       "   Summary_Windy and Overcast  Summary_Windy and Partly Cloudy  \n",
       "0                           0                                0  \n",
       "1                           0                                0  \n",
       "2                           0                                0  \n",
       "3                           0                                0  \n",
       "4                           0                                0  \n",
       "\n",
       "[5 rows x 27 columns]"
      ]
     },
     "execution_count": 21,
     "metadata": {},
     "output_type": "execute_result"
    }
   ],
   "source": [
    "df_summary = pd.get_dummies(df_weather['Summary'], prefix = 'Summary', drop_first=False)\n",
    "df_summary.head()"
   ]
  },
  {
   "cell_type": "markdown",
   "id": "distant-strip",
   "metadata": {},
   "source": [
    "We will also convert the categorical variable 'Precip Type' in 1's and 0's based on the result of our 1st hypothesis. Note in this case we can utilize drop_first attribute of pd.get_dummies as there are only two categories that are mutually exclusive. This is done reduce redundancy."
   ]
  },
  {
   "cell_type": "code",
   "execution_count": 22,
   "id": "dirty-candy",
   "metadata": {},
   "outputs": [
    {
     "data": {
      "text/html": [
       "<div>\n",
       "<style scoped>\n",
       "    .dataframe tbody tr th:only-of-type {\n",
       "        vertical-align: middle;\n",
       "    }\n",
       "\n",
       "    .dataframe tbody tr th {\n",
       "        vertical-align: top;\n",
       "    }\n",
       "\n",
       "    .dataframe thead th {\n",
       "        text-align: right;\n",
       "    }\n",
       "</style>\n",
       "<table border=\"1\" class=\"dataframe\">\n",
       "  <thead>\n",
       "    <tr style=\"text-align: right;\">\n",
       "      <th></th>\n",
       "      <th>precip_snow</th>\n",
       "    </tr>\n",
       "  </thead>\n",
       "  <tbody>\n",
       "    <tr>\n",
       "      <th>0</th>\n",
       "      <td>0</td>\n",
       "    </tr>\n",
       "    <tr>\n",
       "      <th>1</th>\n",
       "      <td>0</td>\n",
       "    </tr>\n",
       "    <tr>\n",
       "      <th>2</th>\n",
       "      <td>0</td>\n",
       "    </tr>\n",
       "    <tr>\n",
       "      <th>3</th>\n",
       "      <td>0</td>\n",
       "    </tr>\n",
       "    <tr>\n",
       "      <th>4</th>\n",
       "      <td>0</td>\n",
       "    </tr>\n",
       "  </tbody>\n",
       "</table>\n",
       "</div>"
      ],
      "text/plain": [
       "   precip_snow\n",
       "0            0\n",
       "1            0\n",
       "2            0\n",
       "3            0\n",
       "4            0"
      ]
     },
     "execution_count": 22,
     "metadata": {},
     "output_type": "execute_result"
    }
   ],
   "source": [
    "df_precip = pd.get_dummies(df_weather['Precip Type'], prefix = 'precip', drop_first=True)\n",
    "df_precip.head()"
   ]
  },
  {
   "cell_type": "code",
   "execution_count": 23,
   "id": "impressed-lesson",
   "metadata": {},
   "outputs": [],
   "source": [
    "## Lets once again transform our main dataframe by adding these features and droping the original categorical variables\n",
    "\n",
    "df_weather_update1 = pd.concat([df_weather, df_summary, df_precip], axis = 1)\n",
    "df_weather_update1.drop(['Precip Type', 'Summary'], axis = 1, inplace = True)"
   ]
  },
  {
   "cell_type": "code",
   "execution_count": 24,
   "id": "dried-jerusalem",
   "metadata": {},
   "outputs": [
    {
     "name": "stdout",
     "output_type": "stream",
     "text": [
      "The total number of attributes are 35\n",
      "The total number of observations are 95936\n"
     ]
    }
   ],
   "source": [
    "print(f'The total number of attributes are {df_weather_update1.shape[1]}')\n",
    "print(f'The total number of observations are {df_weather_update1.shape[0]}')"
   ]
  },
  {
   "cell_type": "markdown",
   "id": "opponent-undergraduate",
   "metadata": {},
   "source": [
    "By doing exploratory data analysis on the categorical variables we have now increased the number of features from 12 to 35"
   ]
  },
  {
   "cell_type": "markdown",
   "id": "smooth-blues",
   "metadata": {},
   "source": [
    "#### 3.2 Numerical Variables"
   ]
  },
  {
   "cell_type": "markdown",
   "id": "talented-allah",
   "metadata": {},
   "source": [
    "Now lets handle our numerical variables and check how much information they carry, which describes our output variable. Best way to do this would be to check the correlation between all numerical features (exclusing the one-hot encoded variables) and the target variable"
   ]
  },
  {
   "cell_type": "code",
   "execution_count": 25,
   "id": "outer-railway",
   "metadata": {},
   "outputs": [],
   "source": [
    "## let us recall our numerical features using the columns_float list which we created earlier.\n",
    "\n",
    "df_weather_num = df_weather_update1[[columns for columns in columns_float if columns in df_weather.columns]]"
   ]
  },
  {
   "cell_type": "code",
   "execution_count": 26,
   "id": "amazing-parade",
   "metadata": {},
   "outputs": [],
   "source": [
    "X_num = df_weather_num[['Humidity',\n",
    "                    'Wind Speed (km/h)', 'Wind Bearing (degrees)', 'Visibility (km)',\n",
    "                    'Pressure (millibars)', 'Temperature (C)']].copy()\n",
    "y = df_weather_num[['Apparent Temperature (C)']].copy()"
   ]
  },
  {
   "cell_type": "code",
   "execution_count": 27,
   "id": "powered-aerospace",
   "metadata": {},
   "outputs": [
    {
     "data": {
      "text/plain": [
       "{'Humidity': -0.7150256591968218,\n",
       " 'Wind Speed (km/h)': 1.115994719744344,\n",
       " 'Wind Bearing (degrees)': -0.15479254225815275,\n",
       " 'Visibility (km)': -0.49211431669314815,\n",
       " 'Pressure (millibars)': 0.09103045515189714,\n",
       " 'Temperature (C)': 0.09179694354157196}"
      ]
     },
     "execution_count": 27,
     "metadata": {},
     "output_type": "execute_result"
    }
   ],
   "source": [
    "## Like earlier done for target variable, let us check the skewness of the features and set the threshold at 0.75.\n",
    "\n",
    "dict(X_num.skew())"
   ]
  },
  {
   "cell_type": "markdown",
   "id": "public-husband",
   "metadata": {},
   "source": [
    "So we can see here that one of our variables is way above our threshold which is wind speed. So let us try to transform it to make it normal."
   ]
  },
  {
   "cell_type": "code",
   "execution_count": 28,
   "id": "flexible-illinois",
   "metadata": {},
   "outputs": [
    {
     "name": "stdout",
     "output_type": "stream",
     "text": [
      "The skew value for log tranformation is -0.7994007049617369\n",
      "The skew value for square root tranformation is -0.020179540555325625\n"
     ]
    }
   ],
   "source": [
    "print(f\"The skew value for log tranformation is {X_num['Wind Speed (km/h)'].apply(np.log1p).skew()}\")\n",
    "print(f\"The skew value for square root tranformation is {X_num['Wind Speed (km/h)'].apply(np.sqrt).skew()}\")"
   ]
  },
  {
   "cell_type": "markdown",
   "id": "adjustable-engine",
   "metadata": {},
   "source": [
    "We can see that square root transformation provides superior result so let us apply that on our variable"
   ]
  },
  {
   "cell_type": "code",
   "execution_count": 29,
   "id": "welsh-hebrew",
   "metadata": {},
   "outputs": [],
   "source": [
    "X_num['Wind Speed (km/h)'] = X_num['Wind Speed (km/h)'].apply(np.sqrt)"
   ]
  },
  {
   "cell_type": "code",
   "execution_count": 30,
   "id": "controlled-universal",
   "metadata": {},
   "outputs": [
    {
     "data": {
      "text/plain": [
       "{'Humidity': -0.7150256591968218,\n",
       " 'Wind Speed (km/h)': -0.020179540555325625,\n",
       " 'Wind Bearing (degrees)': -0.15479254225815275,\n",
       " 'Visibility (km)': -0.49211431669314815,\n",
       " 'Pressure (millibars)': 0.09103045515189714,\n",
       " 'Temperature (C)': 0.09179694354157196}"
      ]
     },
     "execution_count": 30,
     "metadata": {},
     "output_type": "execute_result"
    }
   ],
   "source": [
    "dict(X_num.skew())"
   ]
  },
  {
   "cell_type": "markdown",
   "id": "social-theater",
   "metadata": {},
   "source": [
    "So will all our values transformed let us now check the correlation between the features. Features that have correlation more that 0.9 should be dropped."
   ]
  },
  {
   "cell_type": "code",
   "execution_count": 31,
   "id": "aggregate-recognition",
   "metadata": {},
   "outputs": [
    {
     "data": {
      "image/png": "[encoded data removed]",
      "text/plain": [
       "<Figure size 432x288 with 2 Axes>"
      ]
     },
     "metadata": {
      "needs_background": "light"
     },
     "output_type": "display_data"
    }
   ],
   "source": [
    "sns.heatmap(X_num.corr(), annot = True);"
   ]
  },
  {
   "cell_type": "markdown",
   "id": "minute-monte",
   "metadata": {},
   "source": [
    "So, all our features are not strongly correlated with each other. As such we can keep them all. So finally lets add these variables to our final dataframe which we will use for modelling"
   ]
  },
  {
   "cell_type": "code",
   "execution_count": 32,
   "id": "respective-lotus",
   "metadata": {},
   "outputs": [
    {
     "data": {
      "text/html": [
       "<div>\n",
       "<style scoped>\n",
       "    .dataframe tbody tr th:only-of-type {\n",
       "        vertical-align: middle;\n",
       "    }\n",
       "\n",
       "    .dataframe tbody tr th {\n",
       "        vertical-align: top;\n",
       "    }\n",
       "\n",
       "    .dataframe thead th {\n",
       "        text-align: right;\n",
       "    }\n",
       "</style>\n",
       "<table border=\"1\" class=\"dataframe\">\n",
       "  <thead>\n",
       "    <tr style=\"text-align: right;\">\n",
       "      <th></th>\n",
       "      <th>Humidity</th>\n",
       "      <th>Wind Speed (km/h)</th>\n",
       "      <th>Wind Bearing (degrees)</th>\n",
       "      <th>Visibility (km)</th>\n",
       "      <th>Pressure (millibars)</th>\n",
       "      <th>Temperature (C)</th>\n",
       "      <th>Apparent Temperature (C)</th>\n",
       "      <th>Summary_Breezy</th>\n",
       "      <th>Summary_Breezy and Dry</th>\n",
       "      <th>Summary_Breezy and Foggy</th>\n",
       "      <th>...</th>\n",
       "      <th>Summary_Overcast</th>\n",
       "      <th>Summary_Partly Cloudy</th>\n",
       "      <th>Summary_Rain</th>\n",
       "      <th>Summary_Windy</th>\n",
       "      <th>Summary_Windy and Dry</th>\n",
       "      <th>Summary_Windy and Foggy</th>\n",
       "      <th>Summary_Windy and Mostly Cloudy</th>\n",
       "      <th>Summary_Windy and Overcast</th>\n",
       "      <th>Summary_Windy and Partly Cloudy</th>\n",
       "      <th>precip_snow</th>\n",
       "    </tr>\n",
       "  </thead>\n",
       "  <tbody>\n",
       "    <tr>\n",
       "      <th>0</th>\n",
       "      <td>0.89</td>\n",
       "      <td>3.757619</td>\n",
       "      <td>251.0</td>\n",
       "      <td>15.8263</td>\n",
       "      <td>1015.13</td>\n",
       "      <td>9.472222</td>\n",
       "      <td>7.388889</td>\n",
       "      <td>0</td>\n",
       "      <td>0</td>\n",
       "      <td>0</td>\n",
       "      <td>...</td>\n",
       "      <td>0</td>\n",
       "      <td>1</td>\n",
       "      <td>0</td>\n",
       "      <td>0</td>\n",
       "      <td>0</td>\n",
       "      <td>0</td>\n",
       "      <td>0</td>\n",
       "      <td>0</td>\n",
       "      <td>0</td>\n",
       "      <td>0</td>\n",
       "    </tr>\n",
       "    <tr>\n",
       "      <th>1</th>\n",
       "      <td>0.86</td>\n",
       "      <td>3.776851</td>\n",
       "      <td>259.0</td>\n",
       "      <td>15.8263</td>\n",
       "      <td>1015.63</td>\n",
       "      <td>9.355556</td>\n",
       "      <td>7.227778</td>\n",
       "      <td>0</td>\n",
       "      <td>0</td>\n",
       "      <td>0</td>\n",
       "      <td>...</td>\n",
       "      <td>0</td>\n",
       "      <td>1</td>\n",
       "      <td>0</td>\n",
       "      <td>0</td>\n",
       "      <td>0</td>\n",
       "      <td>0</td>\n",
       "      <td>0</td>\n",
       "      <td>0</td>\n",
       "      <td>0</td>\n",
       "      <td>0</td>\n",
       "    </tr>\n",
       "    <tr>\n",
       "      <th>2</th>\n",
       "      <td>0.89</td>\n",
       "      <td>1.982019</td>\n",
       "      <td>204.0</td>\n",
       "      <td>14.9569</td>\n",
       "      <td>1015.94</td>\n",
       "      <td>9.377778</td>\n",
       "      <td>9.377778</td>\n",
       "      <td>0</td>\n",
       "      <td>0</td>\n",
       "      <td>0</td>\n",
       "      <td>...</td>\n",
       "      <td>0</td>\n",
       "      <td>0</td>\n",
       "      <td>0</td>\n",
       "      <td>0</td>\n",
       "      <td>0</td>\n",
       "      <td>0</td>\n",
       "      <td>0</td>\n",
       "      <td>0</td>\n",
       "      <td>0</td>\n",
       "      <td>0</td>\n",
       "    </tr>\n",
       "    <tr>\n",
       "      <th>3</th>\n",
       "      <td>0.83</td>\n",
       "      <td>3.755476</td>\n",
       "      <td>269.0</td>\n",
       "      <td>15.8263</td>\n",
       "      <td>1016.41</td>\n",
       "      <td>8.288889</td>\n",
       "      <td>5.944444</td>\n",
       "      <td>0</td>\n",
       "      <td>0</td>\n",
       "      <td>0</td>\n",
       "      <td>...</td>\n",
       "      <td>0</td>\n",
       "      <td>1</td>\n",
       "      <td>0</td>\n",
       "      <td>0</td>\n",
       "      <td>0</td>\n",
       "      <td>0</td>\n",
       "      <td>0</td>\n",
       "      <td>0</td>\n",
       "      <td>0</td>\n",
       "      <td>0</td>\n",
       "    </tr>\n",
       "    <tr>\n",
       "      <th>4</th>\n",
       "      <td>0.83</td>\n",
       "      <td>3.323342</td>\n",
       "      <td>259.0</td>\n",
       "      <td>15.8263</td>\n",
       "      <td>1016.51</td>\n",
       "      <td>8.755556</td>\n",
       "      <td>6.977778</td>\n",
       "      <td>0</td>\n",
       "      <td>0</td>\n",
       "      <td>0</td>\n",
       "      <td>...</td>\n",
       "      <td>0</td>\n",
       "      <td>0</td>\n",
       "      <td>0</td>\n",
       "      <td>0</td>\n",
       "      <td>0</td>\n",
       "      <td>0</td>\n",
       "      <td>0</td>\n",
       "      <td>0</td>\n",
       "      <td>0</td>\n",
       "      <td>0</td>\n",
       "    </tr>\n",
       "  </tbody>\n",
       "</table>\n",
       "<p>5 rows × 35 columns</p>\n",
       "</div>"
      ],
      "text/plain": [
       "   Humidity  Wind Speed (km/h)  Wind Bearing (degrees)  Visibility (km)  \\\n",
       "0      0.89           3.757619                   251.0          15.8263   \n",
       "1      0.86           3.776851                   259.0          15.8263   \n",
       "2      0.89           1.982019                   204.0          14.9569   \n",
       "3      0.83           3.755476                   269.0          15.8263   \n",
       "4      0.83           3.323342                   259.0          15.8263   \n",
       "\n",
       "   Pressure (millibars)  Temperature (C)  Apparent Temperature (C)  \\\n",
       "0               1015.13         9.472222                  7.388889   \n",
       "1               1015.63         9.355556                  7.227778   \n",
       "2               1015.94         9.377778                  9.377778   \n",
       "3               1016.41         8.288889                  5.944444   \n",
       "4               1016.51         8.755556                  6.977778   \n",
       "\n",
       "   Summary_Breezy  Summary_Breezy and Dry  Summary_Breezy and Foggy  ...  \\\n",
       "0               0                       0                         0  ...   \n",
       "1               0                       0                         0  ...   \n",
       "2               0                       0                         0  ...   \n",
       "3               0                       0                         0  ...   \n",
       "4               0                       0                         0  ...   \n",
       "\n",
       "   Summary_Overcast  Summary_Partly Cloudy  Summary_Rain  Summary_Windy  \\\n",
       "0                 0                      1             0              0   \n",
       "1                 0                      1             0              0   \n",
       "2                 0                      0             0              0   \n",
       "3                 0                      1             0              0   \n",
       "4                 0                      0             0              0   \n",
       "\n",
       "   Summary_Windy and Dry  Summary_Windy and Foggy  \\\n",
       "0                      0                        0   \n",
       "1                      0                        0   \n",
       "2                      0                        0   \n",
       "3                      0                        0   \n",
       "4                      0                        0   \n",
       "\n",
       "   Summary_Windy and Mostly Cloudy  Summary_Windy and Overcast  \\\n",
       "0                                0                           0   \n",
       "1                                0                           0   \n",
       "2                                0                           0   \n",
       "3                                0                           0   \n",
       "4                                0                           0   \n",
       "\n",
       "   Summary_Windy and Partly Cloudy  precip_snow  \n",
       "0                                0            0  \n",
       "1                                0            0  \n",
       "2                                0            0  \n",
       "3                                0            0  \n",
       "4                                0            0  \n",
       "\n",
       "[5 rows x 35 columns]"
      ]
     },
     "execution_count": 32,
     "metadata": {},
     "output_type": "execute_result"
    }
   ],
   "source": [
    "# dropping untranformed numerical columns\n",
    "df_weather_update1 = df_weather_update1.drop(list(X_num.columns), axis = 1)\n",
    "# adding transformed columns\n",
    "df_weather_update2 = pd.concat([X_num, df_weather_update1], axis = 1)\n",
    "df_weather_update2.head()"
   ]
  },
  {
   "cell_type": "code",
   "execution_count": 33,
   "id": "conservative-keeping",
   "metadata": {},
   "outputs": [
    {
     "name": "stdout",
     "output_type": "stream",
     "text": [
      "The total number of features are 34\n",
      "The total number of observations are 95936\n"
     ]
    }
   ],
   "source": [
    "# finally let's see how many observations and features are available \n",
    "print(f'The total number of features are {df_weather_update2.shape[1]-1}')\n",
    "print(f'The total number of observations are {df_weather_update2.shape[0]}')"
   ]
  },
  {
   "cell_type": "markdown",
   "id": "dutch-passenger",
   "metadata": {},
   "source": [
    "### Summary - EDA\n",
    "\n",
    "* During EDA we first tried to ascertain that our target variable is normally distributed and found that it is indeed normally distributed. We used .skew() method under pandas.\n",
    "* Next we went into hypothesis generation and testing process to identify whether our categorical variables explain some variance in the target variable or not.\n",
    "* Eventually we kept both categorical variables and one hot encoded them to make them ready for further modelling process.\n",
    "* Bigger challenge was to select our numerical features which we did in two steps first we checked how many of them are skewed and require transformation. We finally ended up transforming only Wind Speed parameter.\n",
    "* In the end we checked correlations between numerical variables and found them to be within limits."
   ]
  },
  {
   "cell_type": "markdown",
   "id": "suffering-italian",
   "metadata": {},
   "source": [
    "### 4. Model Selection and Evaluation"
   ]
  },
  {
   "cell_type": "code",
   "execution_count": 34,
   "id": "criminal-works",
   "metadata": {},
   "outputs": [],
   "source": [
    "#importing all necessary modules, functions and methods\n",
    "\n",
    "from sklearn.linear_model import LinearRegression, Ridge, Lasso\n",
    "from sklearn.preprocessing import PolynomialFeatures, StandardScaler\n",
    "from sklearn.model_selection import GridSearchCV, KFold\n",
    "from sklearn.metrics import r2_score\n",
    "from sklearn.pipeline import Pipeline"
   ]
  },
  {
   "cell_type": "code",
   "execution_count": 35,
   "id": "floppy-semiconductor",
   "metadata": {},
   "outputs": [],
   "source": [
    "kf = KFold(shuffle=True, random_state=72018, n_splits=3)"
   ]
  },
  {
   "cell_type": "code",
   "execution_count": 36,
   "id": "amino-paste",
   "metadata": {},
   "outputs": [],
   "source": [
    "X_final = df_weather_update2.drop('Apparent Temperature (C)', axis = 1).copy()\n",
    "y_final = df_weather_update2['Apparent Temperature (C)'].copy()"
   ]
  },
  {
   "cell_type": "markdown",
   "id": "efficient-helena",
   "metadata": {},
   "source": [
    "#### Linear Regression"
   ]
  },
  {
   "cell_type": "markdown",
   "id": "appreciated-savannah",
   "metadata": {},
   "source": [
    "Now, we will use the GridSearchCV function for identifying the best parameters for Linear Regression Model.\n",
    "\n",
    "* We will first create a pipeline containing polynomial features, standard scaler and regression function itself\n",
    "* We will next set the parameters over which the GridSearchCV will iterate to find best value"
   ]
  },
  {
   "cell_type": "code",
   "execution_count": 37,
   "id": "historical-genome",
   "metadata": {},
   "outputs": [],
   "source": [
    "# linear_estimator = Pipeline([('polynomialfeatures', PolynomialFeatures()),\n",
    "#                              ('standardscaler', StandardScaler()),\n",
    "#                              ('linearregression', LinearRegression())\n",
    "#                             ])\n",
    "\n",
    "# params = {'polynomialfeatures__degree': [1,2,3]} \n",
    "\n",
    "# gridlinear = GridSearchCV(linear_estimator, params, cv = kf)"
   ]
  },
  {
   "cell_type": "code",
   "execution_count": 38,
   "id": "focused-machine",
   "metadata": {},
   "outputs": [],
   "source": [
    "# gridlinear.fit(X_final, y_final)"
   ]
  },
  {
   "cell_type": "code",
   "execution_count": 39,
   "id": "finite-temple",
   "metadata": {},
   "outputs": [],
   "source": [
    "## Finally lets save the model in pickled form for future reference\n",
    "\n",
    "def pickle_model(model, filename):\n",
    "    pkl.dump(model, open(filename, 'wb'))\n",
    "    \n",
    "def de_pickle(model):\n",
    "    return pkl.load(open(model, 'rb'))"
   ]
  },
  {
   "cell_type": "code",
   "execution_count": 40,
   "id": "major-addition",
   "metadata": {},
   "outputs": [],
   "source": [
    "#pickle_model(gridlinear, 'finallinearmodel.sav')"
   ]
  },
  {
   "cell_type": "markdown",
   "id": "changing-playback",
   "metadata": {},
   "source": [
    "Note: I usually pickle my model after training to avoid intoducing any accidental change in parameters while re-runing my notebook."
   ]
  },
  {
   "cell_type": "code",
   "execution_count": 41,
   "id": "appreciated-badge",
   "metadata": {},
   "outputs": [],
   "source": [
    "finallinearmodel = de_pickle('finallinearmodel.sav')"
   ]
  },
  {
   "cell_type": "code",
   "execution_count": 42,
   "id": "valuable-anime",
   "metadata": {},
   "outputs": [
    {
     "name": "stdout",
     "output_type": "stream",
     "text": [
      "The best parameters identified using GridSearchCV method is {'polynomialfeatures__degree': 1}\n"
     ]
    }
   ],
   "source": [
    "# Let us get the best parameter value\n",
    "\n",
    "print(f'The best parameters identified using GridSearchCV method is {finallinearmodel.best_params_}')"
   ]
  },
  {
   "cell_type": "code",
   "execution_count": 43,
   "id": "lined-mainland",
   "metadata": {},
   "outputs": [],
   "source": [
    "## Let us finally preedict the values\n",
    "y_predict = finallinearmodel.predict(X_final)"
   ]
  },
  {
   "cell_type": "code",
   "execution_count": 44,
   "id": "oriental-forge",
   "metadata": {},
   "outputs": [
    {
     "name": "stdout",
     "output_type": "stream",
     "text": [
      "The R2 Score for linear model is 0.9904365492780018\n"
     ]
    }
   ],
   "source": [
    "## Getting R2 Score for model \n",
    "linear_r2 = r2_score(y_final, y_predict)\n",
    "print(f'The R2 Score for linear model is {linear_r2}')"
   ]
  },
  {
   "cell_type": "code",
   "execution_count": 45,
   "id": "super-stephen",
   "metadata": {},
   "outputs": [
    {
     "data": {
      "text/html": [
       "<div>\n",
       "<style scoped>\n",
       "    .dataframe tbody tr th:only-of-type {\n",
       "        vertical-align: middle;\n",
       "    }\n",
       "\n",
       "    .dataframe tbody tr th {\n",
       "        vertical-align: top;\n",
       "    }\n",
       "\n",
       "    .dataframe thead th {\n",
       "        text-align: right;\n",
       "    }\n",
       "</style>\n",
       "<table border=\"1\" class=\"dataframe\">\n",
       "  <thead>\n",
       "    <tr style=\"text-align: right;\">\n",
       "      <th></th>\n",
       "      <th>0</th>\n",
       "    </tr>\n",
       "  </thead>\n",
       "  <tbody>\n",
       "    <tr>\n",
       "      <th>Temperature (C)</th>\n",
       "      <td>1.074134e+01</td>\n",
       "    </tr>\n",
       "    <tr>\n",
       "      <th>Humidity</th>\n",
       "      <td>1.915475e-01</td>\n",
       "    </tr>\n",
       "    <tr>\n",
       "      <th>Pressure (millibars)</th>\n",
       "      <td>1.170816e-01</td>\n",
       "    </tr>\n",
       "    <tr>\n",
       "      <th>Wind Bearing (degrees)</th>\n",
       "      <td>7.409348e-02</td>\n",
       "    </tr>\n",
       "    <tr>\n",
       "      <th>Visibility (km)</th>\n",
       "      <td>2.396611e-02</td>\n",
       "    </tr>\n",
       "    <tr>\n",
       "      <th>precip_snow</th>\n",
       "      <td>-1.451823e-01</td>\n",
       "    </tr>\n",
       "    <tr>\n",
       "      <th>Wind Speed (km/h)</th>\n",
       "      <td>-6.758610e-01</td>\n",
       "    </tr>\n",
       "    <tr>\n",
       "      <th>Summary_Breezy and Dry</th>\n",
       "      <td>-1.870169e+08</td>\n",
       "    </tr>\n",
       "    <tr>\n",
       "      <th>Summary_Windy and Dry</th>\n",
       "      <td>-1.870169e+08</td>\n",
       "    </tr>\n",
       "    <tr>\n",
       "      <th>Summary_Dangerously Windy and Partly Cloudy</th>\n",
       "      <td>-1.870169e+08</td>\n",
       "    </tr>\n",
       "    <tr>\n",
       "      <th>Summary_Windy and Foggy</th>\n",
       "      <td>-3.740280e+08</td>\n",
       "    </tr>\n",
       "    <tr>\n",
       "      <th>Summary_Humid and Overcast</th>\n",
       "      <td>-4.947848e+08</td>\n",
       "    </tr>\n",
       "    <tr>\n",
       "      <th>Summary_Windy</th>\n",
       "      <td>-5.289445e+08</td>\n",
       "    </tr>\n",
       "    <tr>\n",
       "      <th>Summary_Rain</th>\n",
       "      <td>-5.913717e+08</td>\n",
       "    </tr>\n",
       "    <tr>\n",
       "      <th>Summary_Dry and Mostly Cloudy</th>\n",
       "      <td>-6.997059e+08</td>\n",
       "    </tr>\n",
       "    <tr>\n",
       "      <th>Summary_Humid and Partly Cloudy</th>\n",
       "      <td>-7.710262e+08</td>\n",
       "    </tr>\n",
       "    <tr>\n",
       "      <th>Summary_Dry</th>\n",
       "      <td>-1.090299e+09</td>\n",
       "    </tr>\n",
       "    <tr>\n",
       "      <th>Summary_Windy and Mostly Cloudy</th>\n",
       "      <td>-1.106211e+09</td>\n",
       "    </tr>\n",
       "    <tr>\n",
       "      <th>Summary_Breezy and Foggy</th>\n",
       "      <td>-1.106211e+09</td>\n",
       "    </tr>\n",
       "    <tr>\n",
       "      <th>Summary_Drizzle</th>\n",
       "      <td>-1.167689e+09</td>\n",
       "    </tr>\n",
       "    <tr>\n",
       "      <th>Summary_Humid and Mostly Cloudy</th>\n",
       "      <td>-1.182558e+09</td>\n",
       "    </tr>\n",
       "    <tr>\n",
       "      <th>Summary_Windy and Overcast</th>\n",
       "      <td>-1.254260e+09</td>\n",
       "    </tr>\n",
       "    <tr>\n",
       "      <th>Summary_Breezy</th>\n",
       "      <td>-1.373908e+09</td>\n",
       "    </tr>\n",
       "    <tr>\n",
       "      <th>Summary_Light Rain</th>\n",
       "      <td>-1.483921e+09</td>\n",
       "    </tr>\n",
       "    <tr>\n",
       "      <th>Summary_Windy and Partly Cloudy</th>\n",
       "      <td>-1.530273e+09</td>\n",
       "    </tr>\n",
       "    <tr>\n",
       "      <th>Summary_Dry and Partly Cloudy</th>\n",
       "      <td>-1.733555e+09</td>\n",
       "    </tr>\n",
       "    <tr>\n",
       "      <th>Summary_Breezy and Partly Cloudy</th>\n",
       "      <td>-3.666920e+09</td>\n",
       "    </tr>\n",
       "    <tr>\n",
       "      <th>Summary_Breezy and Mostly Cloudy</th>\n",
       "      <td>-4.236790e+09</td>\n",
       "    </tr>\n",
       "    <tr>\n",
       "      <th>Summary_Breezy and Overcast</th>\n",
       "      <td>-4.285502e+09</td>\n",
       "    </tr>\n",
       "    <tr>\n",
       "      <th>Summary_Foggy</th>\n",
       "      <td>-1.518077e+10</td>\n",
       "    </tr>\n",
       "    <tr>\n",
       "      <th>Summary_Clear</th>\n",
       "      <td>-1.828142e+10</td>\n",
       "    </tr>\n",
       "    <tr>\n",
       "      <th>Summary_Overcast</th>\n",
       "      <td>-2.186803e+10</td>\n",
       "    </tr>\n",
       "    <tr>\n",
       "      <th>Summary_Mostly Cloudy</th>\n",
       "      <td>-2.631044e+10</td>\n",
       "    </tr>\n",
       "    <tr>\n",
       "      <th>Summary_Partly Cloudy</th>\n",
       "      <td>-2.723235e+10</td>\n",
       "    </tr>\n",
       "  </tbody>\n",
       "</table>\n",
       "</div>"
      ],
      "text/plain": [
       "                                                        0\n",
       "Temperature (C)                              1.074134e+01\n",
       "Humidity                                     1.915475e-01\n",
       "Pressure (millibars)                         1.170816e-01\n",
       "Wind Bearing (degrees)                       7.409348e-02\n",
       "Visibility (km)                              2.396611e-02\n",
       "precip_snow                                 -1.451823e-01\n",
       "Wind Speed (km/h)                           -6.758610e-01\n",
       "Summary_Breezy and Dry                      -1.870169e+08\n",
       "Summary_Windy and Dry                       -1.870169e+08\n",
       "Summary_Dangerously Windy and Partly Cloudy -1.870169e+08\n",
       "Summary_Windy and Foggy                     -3.740280e+08\n",
       "Summary_Humid and Overcast                  -4.947848e+08\n",
       "Summary_Windy                               -5.289445e+08\n",
       "Summary_Rain                                -5.913717e+08\n",
       "Summary_Dry and Mostly Cloudy               -6.997059e+08\n",
       "Summary_Humid and Partly Cloudy             -7.710262e+08\n",
       "Summary_Dry                                 -1.090299e+09\n",
       "Summary_Windy and Mostly Cloudy             -1.106211e+09\n",
       "Summary_Breezy and Foggy                    -1.106211e+09\n",
       "Summary_Drizzle                             -1.167689e+09\n",
       "Summary_Humid and Mostly Cloudy             -1.182558e+09\n",
       "Summary_Windy and Overcast                  -1.254260e+09\n",
       "Summary_Breezy                              -1.373908e+09\n",
       "Summary_Light Rain                          -1.483921e+09\n",
       "Summary_Windy and Partly Cloudy             -1.530273e+09\n",
       "Summary_Dry and Partly Cloudy               -1.733555e+09\n",
       "Summary_Breezy and Partly Cloudy            -3.666920e+09\n",
       "Summary_Breezy and Mostly Cloudy            -4.236790e+09\n",
       "Summary_Breezy and Overcast                 -4.285502e+09\n",
       "Summary_Foggy                               -1.518077e+10\n",
       "Summary_Clear                               -1.828142e+10\n",
       "Summary_Overcast                            -2.186803e+10\n",
       "Summary_Mostly Cloudy                       -2.631044e+10\n",
       "Summary_Partly Cloudy                       -2.723235e+10"
      ]
     },
     "execution_count": 45,
     "metadata": {},
     "output_type": "execute_result"
    }
   ],
   "source": [
    "## Now lets get a list of coefficients in order of their weightage in the final model\n",
    "\n",
    "feature_weights = pd.Series(finallinearmodel.best_estimator_.named_steps['linearregression'].coef_[1:], index = X_final.columns).to_frame()\n",
    "feature_weights.sort_values(by = 0, ascending = False)"
   ]
  },
  {
   "cell_type": "code",
   "execution_count": 46,
   "id": "substantial-learning",
   "metadata": {},
   "outputs": [
    {
     "name": "stdout",
     "output_type": "stream",
     "text": [
      "Total number of Non-zero features: 35\n"
     ]
    }
   ],
   "source": [
    "coefficients_linear = list(finallinearmodel.best_estimator_.named_steps['linearregression'].coef_)\n",
    "\n",
    "Non_zero_coefficients_linear = len(coefficients_linear) - coefficients_linear.count(0)\n",
    "\n",
    "print(f'Total number of Non-zero features: {Non_zero_coefficients_linear}')"
   ]
  },
  {
   "cell_type": "code",
   "execution_count": 47,
   "id": "occasional-thong",
   "metadata": {},
   "outputs": [
    {
     "data": {
      "image/png": "[encoded data removed]",
      "text/plain": [
       "<Figure size 432x288 with 1 Axes>"
      ]
     },
     "metadata": {
      "needs_background": "light"
     },
     "output_type": "display_data"
    }
   ],
   "source": [
    "ax = plt.axes()\n",
    "ax.scatter(x = y_final, y = y_predict, alpha = 0.5, c = 'blue', marker = 'o')\n",
    "ax.set(xlabel = 'Actual Values',\n",
    "       ylabel = 'Predicted Values',\n",
    "       title = 'Linear Regression'\n",
    "      );"
   ]
  },
  {
   "cell_type": "markdown",
   "id": "organized-debate",
   "metadata": {},
   "source": [
    "#### Ridge Regression"
   ]
  },
  {
   "cell_type": "markdown",
   "id": "artistic-title",
   "metadata": {},
   "source": [
    "Now lets repeat the above process but now with Ridge regression and with alpha values between 0.001 to 1"
   ]
  },
  {
   "cell_type": "code",
   "execution_count": 48,
   "id": "persistent-kenya",
   "metadata": {},
   "outputs": [],
   "source": [
    "# ridge_estimator = Pipeline([('polynomialfeatures', PolynomialFeatures()),\n",
    "#                              ('standardscaler', StandardScaler()),\n",
    "#                              ('ridgeregression', Ridge())\n",
    "#                             ])\n",
    "\n",
    "# params = {'polynomialfeatures__degree': [1,2,3],\n",
    "#           'ridgeregression__alpha': np.geomspace(0.001, 1, 10)\n",
    "#          } \n",
    "\n",
    "# gridridge = GridSearchCV(ridge_estimator, params, cv = kf)"
   ]
  },
  {
   "cell_type": "code",
   "execution_count": 49,
   "id": "timely-negative",
   "metadata": {},
   "outputs": [],
   "source": [
    "#gridridge.fit(X_final, y_final)"
   ]
  },
  {
   "cell_type": "code",
   "execution_count": 50,
   "id": "comprehensive-marking",
   "metadata": {},
   "outputs": [],
   "source": [
    "# pickle_model(gridridge, 'finalridgemodel.sav')"
   ]
  },
  {
   "cell_type": "code",
   "execution_count": 51,
   "id": "colored-russian",
   "metadata": {},
   "outputs": [],
   "source": [
    "finalridgemodel = de_pickle('finalridgemodel.sav')"
   ]
  },
  {
   "cell_type": "code",
   "execution_count": 52,
   "id": "original-aquarium",
   "metadata": {},
   "outputs": [
    {
     "name": "stdout",
     "output_type": "stream",
     "text": [
      "The best parameters identified using GridSearchCV method is {'polynomialfeatures__degree': 3, 'ridgeregression__alpha': 1.0}\n"
     ]
    }
   ],
   "source": [
    "print(f'The best parameters identified using GridSearchCV method is {finalridgemodel.best_params_}')"
   ]
  },
  {
   "cell_type": "code",
   "execution_count": 53,
   "id": "early-wells",
   "metadata": {},
   "outputs": [],
   "source": [
    "y_predict2 = finalridgemodel.predict(X_final)  "
   ]
  },
  {
   "cell_type": "code",
   "execution_count": 54,
   "id": "compound-trial",
   "metadata": {},
   "outputs": [
    {
     "name": "stdout",
     "output_type": "stream",
     "text": [
      "The R2 Score for Ridge model is 0.9980186748088711\n"
     ]
    }
   ],
   "source": [
    "ridge_r2 = r2_score(y_final, y_predict2)\n",
    "print(f'The R2 Score for Ridge model is {ridge_r2}')"
   ]
  },
  {
   "cell_type": "code",
   "execution_count": 55,
   "id": "agricultural-departure",
   "metadata": {},
   "outputs": [
    {
     "name": "stdout",
     "output_type": "stream",
     "text": [
      "Total number of Non-zero features: 1199\n"
     ]
    }
   ],
   "source": [
    "coefficients_ridge = list(finalridgemodel.best_estimator_.named_steps['ridgeregression'].coef_)\n",
    "\n",
    "Non_zero_coefficients_ridge = len(coefficients_ridge) - coefficients_ridge.count(0)\n",
    "\n",
    "print(f'Total number of Non-zero features: {Non_zero_coefficients_ridge}')"
   ]
  },
  {
   "cell_type": "code",
   "execution_count": 56,
   "id": "forbidden-radar",
   "metadata": {},
   "outputs": [
    {
     "data": {
      "image/png": "[encoded data removed]",
      "text/plain": [
       "<Figure size 432x288 with 1 Axes>"
      ]
     },
     "metadata": {
      "needs_background": "light"
     },
     "output_type": "display_data"
    }
   ],
   "source": [
    "ax = plt.axes()\n",
    "ax.scatter(x = y_final, y = y_predict2, alpha = 0.5, c = 'black', marker = 'o')\n",
    "ax.set(xlabel = 'Actual Values',\n",
    "       ylabel = 'Predicted Values',\n",
    "       title = 'Ridge Regression'\n",
    "      );"
   ]
  },
  {
   "cell_type": "markdown",
   "id": "recent-happiness",
   "metadata": {},
   "source": [
    "Here, we can see that No of features have dramatically increased to 1199. But the r2_score has risen to 0.9980 from 0.9904, which shows an improvement. Another thing to notice here is that alpha value selected by GridSearchCV is the highest that we have inputed for alpha. But with so many features we are actually getting a very complex model with very improvement on the r2_score"
   ]
  },
  {
   "cell_type": "markdown",
   "id": "minimal-botswana",
   "metadata": {},
   "source": [
    "### Lasso Regression"
   ]
  },
  {
   "cell_type": "markdown",
   "id": "flying-hours",
   "metadata": {},
   "source": [
    "Now lets repeat the above process but now with Lasso regression and with alpha values between 0.001 to 1"
   ]
  },
  {
   "cell_type": "code",
   "execution_count": 57,
   "id": "earlier-perfume",
   "metadata": {},
   "outputs": [],
   "source": [
    "# lasso_estimator = Pipeline([('polynomialfeatures', PolynomialFeatures()),\n",
    "#                              ('standardscaler', StandardScaler()),\n",
    "#                              ('lassoregression', Lasso(max_iter = 5000))\n",
    "#                             ])\n",
    "\n",
    "# params = {'polynomialfeatures__degree': [1,2,3],\n",
    "#           'lassoregression__alpha': np.geomspace(0.001, 1, 10)} \n",
    "\n",
    "# gridlasso = GridSearchCV(lasso_estimator, params, cv = kf)"
   ]
  },
  {
   "cell_type": "code",
   "execution_count": 58,
   "id": "sexual-preserve",
   "metadata": {},
   "outputs": [],
   "source": [
    "#gridlasso.fit(X_final, y_final)"
   ]
  },
  {
   "cell_type": "code",
   "execution_count": 59,
   "id": "manufactured-timer",
   "metadata": {},
   "outputs": [],
   "source": [
    "#pickle_model(gridlasso, 'finallassomodel.sav')"
   ]
  },
  {
   "cell_type": "code",
   "execution_count": 60,
   "id": "unlikely-notebook",
   "metadata": {},
   "outputs": [],
   "source": [
    "finallassomodel = de_pickle('finallassomodel.sav')"
   ]
  },
  {
   "cell_type": "code",
   "execution_count": 61,
   "id": "prostate-natural",
   "metadata": {},
   "outputs": [
    {
     "name": "stdout",
     "output_type": "stream",
     "text": [
      "The best parameters identified using GridSearchCV method is {'lassoregression__alpha': 0.001, 'polynomialfeatures__degree': 3}\n"
     ]
    }
   ],
   "source": [
    "print(f'The best parameters identified using GridSearchCV method is {finallassomodel.best_params_}')"
   ]
  },
  {
   "cell_type": "code",
   "execution_count": 62,
   "id": "italian-opinion",
   "metadata": {},
   "outputs": [],
   "source": [
    "y_predict3 = finallassomodel.predict(X_final)"
   ]
  },
  {
   "cell_type": "code",
   "execution_count": 63,
   "id": "regional-villa",
   "metadata": {},
   "outputs": [
    {
     "name": "stdout",
     "output_type": "stream",
     "text": [
      "The R2 Score for Lasso model is 0.9978566384221621\n"
     ]
    }
   ],
   "source": [
    "lasso_r2 = r2_score(y_final, y_predict3)\n",
    "print(f'The R2 Score for Lasso model is {lasso_r2}')"
   ]
  },
  {
   "cell_type": "code",
   "execution_count": 64,
   "id": "engaged-deputy",
   "metadata": {},
   "outputs": [
    {
     "name": "stdout",
     "output_type": "stream",
     "text": [
      "Total number of Non-zero features: 213\n"
     ]
    }
   ],
   "source": [
    "coefficients_lasso = list(finallassomodel.best_estimator_.named_steps['lassoregression'].coef_)\n",
    "\n",
    "Non_zero_coefficients_lasso = len(coefficients_lasso) - coefficients_lasso.count(0)\n",
    "\n",
    "print(f'Total number of Non-zero features: {Non_zero_coefficients_lasso}')"
   ]
  },
  {
   "cell_type": "code",
   "execution_count": 65,
   "id": "chemical-asian",
   "metadata": {},
   "outputs": [
    {
     "data": {
      "image/png": "[encoded data removed]",
      "text/plain": [
       "<Figure size 432x288 with 1 Axes>"
      ]
     },
     "metadata": {
      "needs_background": "light"
     },
     "output_type": "display_data"
    }
   ],
   "source": [
    "ax = plt.axes()\n",
    "ax.scatter(x = y_final, y = y_predict3, alpha = 0.5, c = 'green', marker = 'o')\n",
    "ax.set(xlabel = 'Actual Values',\n",
    "       ylabel = 'Predicted Values',\n",
    "       title = 'Lasso Regression'\n",
    "      );"
   ]
  },
  {
   "cell_type": "markdown",
   "id": "psychological-investor",
   "metadata": {},
   "source": [
    "So, we can see that with lasso regressionn we have been able to improve our r2_score to 0.9978 when compared to linear regression and no of non-zero features have increased to 213 with level 3 polynomial features. Though, the r2_score is slightly less than what we acheived through ridge modelling, but it is a far less complex model (ridge had 1199 features)."
   ]
  },
  {
   "cell_type": "code",
   "execution_count": 66,
   "id": "common-lafayette",
   "metadata": {},
   "outputs": [],
   "source": [
    "#Let us check which are these features which we obtained through lasso\n",
    "\n",
    "final_lasso_features = list(finallassomodel.best_estimator_.named_steps['polynomialfeatures'].get_feature_names(X_final.columns))\n",
    "Feature_dataframe = pd.DataFrame(coefficients_lasso, index = final_lasso_features, columns = ['Coefficient'])\n",
    "Feature_dataframe = Feature_dataframe.loc[Feature_dataframe.Coefficient !=0]\n",
    "Feature_dataframe = Feature_dataframe.sort_values(by = 'Coefficient', ascending = False, key = lambda x: np.abs(x))"
   ]
  },
  {
   "cell_type": "code",
   "execution_count": 67,
   "id": "accepting-generation",
   "metadata": {},
   "outputs": [
    {
     "data": {
      "text/html": [
       "<div>\n",
       "<style scoped>\n",
       "    .dataframe tbody tr th:only-of-type {\n",
       "        vertical-align: middle;\n",
       "    }\n",
       "\n",
       "    .dataframe tbody tr th {\n",
       "        vertical-align: top;\n",
       "    }\n",
       "\n",
       "    .dataframe thead th {\n",
       "        text-align: right;\n",
       "    }\n",
       "</style>\n",
       "<table border=\"1\" class=\"dataframe\">\n",
       "  <thead>\n",
       "    <tr style=\"text-align: right;\">\n",
       "      <th></th>\n",
       "      <th>Coefficient</th>\n",
       "    </tr>\n",
       "  </thead>\n",
       "  <tbody>\n",
       "    <tr>\n",
       "      <th>Temperature (C)</th>\n",
       "      <td>8.474063</td>\n",
       "    </tr>\n",
       "    <tr>\n",
       "      <th>Wind Speed (km/h) Temperature (C)</th>\n",
       "      <td>3.365365</td>\n",
       "    </tr>\n",
       "    <tr>\n",
       "      <th>Wind Speed (km/h) Temperature (C)^2</th>\n",
       "      <td>-2.843058</td>\n",
       "    </tr>\n",
       "    <tr>\n",
       "      <th>Wind Speed (km/h)^2 Pressure (millibars)</th>\n",
       "      <td>-2.574144</td>\n",
       "    </tr>\n",
       "    <tr>\n",
       "      <th>Wind Speed (km/h)^3</th>\n",
       "      <td>1.365309</td>\n",
       "    </tr>\n",
       "    <tr>\n",
       "      <th>Temperature (C)^3</th>\n",
       "      <td>0.934295</td>\n",
       "    </tr>\n",
       "    <tr>\n",
       "      <th>Wind Speed (km/h)^2 Temperature (C)</th>\n",
       "      <td>0.688926</td>\n",
       "    </tr>\n",
       "    <tr>\n",
       "      <th>Humidity Wind Speed (km/h) Temperature (C)</th>\n",
       "      <td>0.613873</td>\n",
       "    </tr>\n",
       "    <tr>\n",
       "      <th>Humidity^2 Temperature (C)</th>\n",
       "      <td>-0.553206</td>\n",
       "    </tr>\n",
       "    <tr>\n",
       "      <th>Humidity Wind Speed (km/h)</th>\n",
       "      <td>-0.431659</td>\n",
       "    </tr>\n",
       "  </tbody>\n",
       "</table>\n",
       "</div>"
      ],
      "text/plain": [
       "                                            Coefficient\n",
       "Temperature (C)                                8.474063\n",
       "Wind Speed (km/h) Temperature (C)              3.365365\n",
       "Wind Speed (km/h) Temperature (C)^2           -2.843058\n",
       "Wind Speed (km/h)^2 Pressure (millibars)      -2.574144\n",
       "Wind Speed (km/h)^3                            1.365309\n",
       "Temperature (C)^3                              0.934295\n",
       "Wind Speed (km/h)^2 Temperature (C)            0.688926\n",
       "Humidity Wind Speed (km/h) Temperature (C)     0.613873\n",
       "Humidity^2 Temperature (C)                    -0.553206\n",
       "Humidity Wind Speed (km/h)                    -0.431659"
      ]
     },
     "execution_count": 67,
     "metadata": {},
     "output_type": "execute_result"
    }
   ],
   "source": [
    "Feature_dataframe.head(10)"
   ]
  },
  {
   "cell_type": "code",
   "execution_count": 68,
   "id": "representative-burton",
   "metadata": {},
   "outputs": [
    {
     "name": "stdout",
     "output_type": "stream",
     "text": [
      "{'Temperature (C)': 8.474063013468031, 'Wind Bearing (degrees)': 0.05778722499614497, 'Summary_Foggy': -0.054222242781559446, 'precip_snow': -0.051797456673782244, 'Pressure (millibars)': 0.01696110202986395, 'Wind Speed (km/h)': -0.016720720366940698, 'Humidity': 0.0035179518971180496}\n"
     ]
    }
   ],
   "source": [
    "## How about checking which original features from our dataframe were finally selected by the model\n",
    "final_features = {}\n",
    "for idx in Feature_dataframe.index:\n",
    "    if idx in X_final.columns:\n",
    "        final_features[idx] = Feature_dataframe.loc[idx][0]\n",
    "\n",
    "print(final_features)"
   ]
  },
  {
   "cell_type": "markdown",
   "id": "heated-equipment",
   "metadata": {},
   "source": [
    "### Summary - Model Selection and Evaluation\n",
    "\n",
    "* We evaluated three model types with same intial features \n",
    "    1. Polynomial degree = 3\n",
    "    2. Cross Validation Splits = 3\n",
    "* After completing the modelling we were able to acheive quiet significant results from all three models. The Optimised Model Parameters were selected through GridSearchCV method over values of alpha varying from 0.001 to 1\n",
    "* The model results are listed below"
   ]
  },
  {
   "cell_type": "code",
   "execution_count": 69,
   "id": "frank-stand",
   "metadata": {
    "jupyter": {
     "source_hidden": true
    }
   },
   "outputs": [
    {
     "data": {
      "text/html": [
       "<div>\n",
       "<style scoped>\n",
       "    .dataframe tbody tr th:only-of-type {\n",
       "        vertical-align: middle;\n",
       "    }\n",
       "\n",
       "    .dataframe tbody tr th {\n",
       "        vertical-align: top;\n",
       "    }\n",
       "\n",
       "    .dataframe thead th {\n",
       "        text-align: right;\n",
       "    }\n",
       "</style>\n",
       "<table border=\"1\" class=\"dataframe\">\n",
       "  <thead>\n",
       "    <tr style=\"text-align: right;\">\n",
       "      <th></th>\n",
       "      <th>Polynomial Degree</th>\n",
       "      <th>Alpha</th>\n",
       "      <th>No of Features</th>\n",
       "      <th>R2 Score</th>\n",
       "    </tr>\n",
       "  </thead>\n",
       "  <tbody>\n",
       "    <tr>\n",
       "      <th>Linear Regression</th>\n",
       "      <td>1</td>\n",
       "      <td>NaN</td>\n",
       "      <td>35</td>\n",
       "      <td>0.990437</td>\n",
       "    </tr>\n",
       "    <tr>\n",
       "      <th>Ridge Regression</th>\n",
       "      <td>3</td>\n",
       "      <td>1.000</td>\n",
       "      <td>1199</td>\n",
       "      <td>0.998019</td>\n",
       "    </tr>\n",
       "    <tr>\n",
       "      <th>Lasso Regressiom</th>\n",
       "      <td>3</td>\n",
       "      <td>0.001</td>\n",
       "      <td>213</td>\n",
       "      <td>0.997857</td>\n",
       "    </tr>\n",
       "  </tbody>\n",
       "</table>\n",
       "</div>"
      ],
      "text/plain": [
       "                   Polynomial Degree  Alpha  No of Features  R2 Score\n",
       "Linear Regression                  1    NaN              35  0.990437\n",
       "Ridge Regression                   3  1.000            1199  0.998019\n",
       "Lasso Regressiom                   3  0.001             213  0.997857"
      ]
     },
     "execution_count": 69,
     "metadata": {},
     "output_type": "execute_result"
    }
   ],
   "source": [
    "Result_df = pd.DataFrame(index = ['Linear Regression', 'Ridge Regression', 'Lasso Regressiom'],\n",
    "                         data = [[1, np.nan, Non_zero_coefficients_linear, linear_r2],\n",
    "                                 [3, 1, Non_zero_coefficients_ridge, ridge_r2],\n",
    "                                 [3, 0.001, Non_zero_coefficients_lasso, lasso_r2]\n",
    "                                ],\n",
    "                         columns = ['Polynomial Degree', 'Alpha', 'No of Features', 'R2 Score']\n",
    "                        )\n",
    "Result_df"
   ]
  },
  {
   "cell_type": "markdown",
   "id": "acute-collect",
   "metadata": {},
   "source": [
    "* Lasso Regression model provides a comfortable balance between the complexity and performance by providing improvement over simple linear model at the same time toning down the complexity below ridge model \n",
    "* In terms of interpretation we can very easily conclude that the factors which seem to impact apparent temperature include 'Temperature (C)', 'Wind Bearing (degrees)', 'Summary_Foggy', 'precip_snow', 'Pressure (millibars)', 'Wind Speed (km/h)', 'Humidity' and there various interaction terms to the degree 3. \n",
    "* The order of importance of each 1st degree feature in absolute terms is shown below"
   ]
  },
  {
   "cell_type": "code",
   "execution_count": 70,
   "id": "infinite-hampshire",
   "metadata": {
    "jupyter": {
     "source_hidden": true
    }
   },
   "outputs": [
    {
     "data": {
      "text/html": [
       "<div>\n",
       "<style scoped>\n",
       "    .dataframe tbody tr th:only-of-type {\n",
       "        vertical-align: middle;\n",
       "    }\n",
       "\n",
       "    .dataframe tbody tr th {\n",
       "        vertical-align: top;\n",
       "    }\n",
       "\n",
       "    .dataframe thead th {\n",
       "        text-align: right;\n",
       "    }\n",
       "</style>\n",
       "<table border=\"1\" class=\"dataframe\">\n",
       "  <thead>\n",
       "    <tr style=\"text-align: right;\">\n",
       "      <th></th>\n",
       "      <th>Value</th>\n",
       "    </tr>\n",
       "  </thead>\n",
       "  <tbody>\n",
       "    <tr>\n",
       "      <th>Temperature (C)</th>\n",
       "      <td>8.474063</td>\n",
       "    </tr>\n",
       "    <tr>\n",
       "      <th>Wind Bearing (degrees)</th>\n",
       "      <td>0.057787</td>\n",
       "    </tr>\n",
       "    <tr>\n",
       "      <th>Summary_Foggy</th>\n",
       "      <td>-0.054222</td>\n",
       "    </tr>\n",
       "    <tr>\n",
       "      <th>precip_snow</th>\n",
       "      <td>-0.051797</td>\n",
       "    </tr>\n",
       "    <tr>\n",
       "      <th>Pressure (millibars)</th>\n",
       "      <td>0.016961</td>\n",
       "    </tr>\n",
       "    <tr>\n",
       "      <th>Wind Speed (km/h)</th>\n",
       "      <td>-0.016721</td>\n",
       "    </tr>\n",
       "    <tr>\n",
       "      <th>Humidity</th>\n",
       "      <td>0.003518</td>\n",
       "    </tr>\n",
       "  </tbody>\n",
       "</table>\n",
       "</div>"
      ],
      "text/plain": [
       "                           Value\n",
       "Temperature (C)         8.474063\n",
       "Wind Bearing (degrees)  0.057787\n",
       "Summary_Foggy          -0.054222\n",
       "precip_snow            -0.051797\n",
       "Pressure (millibars)    0.016961\n",
       "Wind Speed (km/h)      -0.016721\n",
       "Humidity                0.003518"
      ]
     },
     "execution_count": 70,
     "metadata": {},
     "output_type": "execute_result"
    }
   ],
   "source": [
    "Feature_weightage = pd.DataFrame(index = final_features.keys(), data = final_features.values(), columns = ['Value'])\n",
    "Feature_weightage = Feature_weightage.sort_values(by = 'Value', ascending = False, key = lambda x: np.abs(x))\n",
    "Feature_weightage"
   ]
  },
  {
   "cell_type": "markdown",
   "id": "popular-fence",
   "metadata": {},
   "source": [
    "* However, we should be careful while interpreting these results - since apparent temperature is calculated using a well established scientific formula. Not to forget we finalized a lasso model which deletes certain features which raises uncertainity on our interpretation. \n",
    "* Nevertheless, our model has indeed demonstrated a very good prediction power, which was our primary objective, and can be used to estimate future values quite reliably."
   ]
  },
  {
   "cell_type": "markdown",
   "id": "secure-nutrition",
   "metadata": {},
   "source": [
    "### 5. Conclusion and Future Directions"
   ]
  },
  {
   "cell_type": "markdown",
   "id": "popular-harmony",
   "metadata": {},
   "source": [
    "In conclusion, we chose Lasso Regression Model for purpose of deployment for future predictions. The model not only shows great prediction power, it is also relatively simple."
   ]
  },
  {
   "cell_type": "markdown",
   "id": "driven-endorsement",
   "metadata": {},
   "source": [
    "In future, \n",
    "\n",
    "* We can attempt to re-train our model for even higher values of iteration (I had to limit my iteration to 5000, due to memory error) and alpha parameters of ridge and lasso regression. \n",
    "* We may also try to eliminate categorical variables entirely and check the their impact on the model. \n",
    "* Attempting modelling using any higher degree of polynomial may improve the accuracy but at the cost of complexity (thereby overfitting the data).\n",
    "* Another things that is required to be kept in mind is that the model depends on certain categorical values (features), thereby it is important to ensure that those categorisations are done based on well defined parameters. Any time those parameters change we will be required to accordingly re-train our model based on those updated categories."
   ]
  },
  {
   "cell_type": "markdown",
   "id": "compatible-university",
   "metadata": {},
   "source": [
    "## Thank You, for visiting my page and going through this notebook."
   ]
  },
  {
   "cell_type": "markdown",
   "id": "absent-custom",
   "metadata": {},
   "source": [
    "# CIAO !!"
   ]
  }
 ],
 "metadata": {
  "kernelspec": {
   "display_name": "Python 3",
   "language": "python",
   "name": "python3"
  },
  "language_info": {
   "codemirror_mode": {
    "name": "ipython",
    "version": 3
   },
   "file_extension": ".py",
   "mimetype": "text/x-python",
   "name": "python",
   "nbconvert_exporter": "python",
   "pygments_lexer": "ipython3",
   "version": "3.9.7"
  }
 },
 "nbformat": 4,
 "nbformat_minor": 5
}
